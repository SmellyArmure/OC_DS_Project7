{
 "cells": [
  {
   "cell_type": "markdown",
   "metadata": {
    "toc": true
   },
   "source": [
    "<h1>Table of Contents<span class=\"tocSkip\"></span></h1>\n",
    "<div class=\"toc\"><ul class=\"toc-item\"></ul></div>"
   ]
  },
  {
   "cell_type": "code",
   "execution_count": 57,
   "metadata": {},
   "outputs": [],
   "source": [
    "import pandas as pd\n",
    "import dill\n",
    "import sys\n",
    "sys.path.insert(0, '..\\\\NOTEBOOKS')\n",
    "from P7_functions import CustTransformer"
   ]
  },
  {
   "cell_type": "code",
   "execution_count": 58,
   "metadata": {},
   "outputs": [],
   "source": [
    "with open('data\\\\bestmodel_thresh.pkl', 'rb') as file:\n",
    "    best_model, thresh = dill.load(file)"
   ]
  },
  {
   "cell_type": "code",
   "execution_count": 59,
   "metadata": {},
   "outputs": [],
   "source": [
    "# with open('data\\\\dict_cleaned.pkl', 'rb') as file:\n",
    "#     dict_cleaned_all = dill.load(file)\n",
    "# dict_cleaned_all.keys()"
   ]
  },
  {
   "cell_type": "code",
   "execution_count": 60,
   "metadata": {},
   "outputs": [],
   "source": [
    "# dict_cleaned_all['X_train'].shape, dict_cleaned_all['y_train'].shape, dict_cleaned_all['X_test'].shape"
   ]
  },
  {
   "cell_type": "code",
   "execution_count": 61,
   "metadata": {},
   "outputs": [],
   "source": [
    "# ind_samp_tr = dict_cleaned_all['X_train'].sample(20000).index\n",
    "# ind_samp_te = dict_cleaned_all['X_test'].sample(5000).index\n",
    "# X_train_samp = dict_cleaned_all['X_train'].loc[ind_samp_tr]\n",
    "# y_train_samp = dict_cleaned_all['y_train'].loc[ind_samp_tr]\n",
    "# X_test_samp = dict_cleaned_all['X_test'].loc[ind_samp_te]"
   ]
  },
  {
   "cell_type": "code",
   "execution_count": 62,
   "metadata": {},
   "outputs": [],
   "source": [
    "# dict_cleaned = {}\n",
    "# dict_cleaned['X_train'] = X_train_samp\n",
    "# dict_cleaned['y_train'] = y_train_samp\n",
    "# dict_cleaned['X_test'] = X_test_samp\n",
    "\n",
    "# with open('data\\\\dict_cleaned_samp.pkl', 'wb') as file:\n",
    "#     dill.dump(dict_cleaned, file)"
   ]
  },
  {
   "cell_type": "code",
   "execution_count": null,
   "metadata": {},
   "outputs": [],
   "source": [
    "# dict_cleaned['X_train'].shape, dict_cleaned['y_train'].shape, dict_cleaned['X_test'].shape"
   ]
  },
  {
   "cell_type": "code",
   "execution_count": 69,
   "metadata": {},
   "outputs": [],
   "source": [
    "with open('data\\\\dict_cleaned_samp.pkl', 'rb') as file:\n",
    "    dict_cleaned = dill.load(file)\n",
    "# best model and best threshold\n",
    "with open('data\\\\bestmodel_thresh.pkl', 'rb') as file:\n",
    "    best_model, thresh = dill.load(file)\n",
    "\n",
    "# compute processed data (first steps of the best_model pipeline)\n",
    "X_train = dict_cleaned['X_train']\n",
    "y_train = dict_cleaned['y_train']\n",
    "X_test = dict_cleaned['X_test']"
   ]
  },
  {
   "cell_type": "code",
   "execution_count": 74,
   "metadata": {},
   "outputs": [
    {
     "data": {
      "text/plain": [
       "Int64Index([100128, 100169, 100278, 100306, 100312, 100438, 100484, 100494,\n",
       "            100510, 100517,\n",
       "            ...\n",
       "            455481, 455489, 455513, 455537, 455648, 455742, 456010, 456169,\n",
       "            456189, 456202],\n",
       "           dtype='int64', name='SK_ID_CURR', length=5000)"
      ]
     },
     "execution_count": 74,
     "metadata": {},
     "output_type": "execute_result"
    }
   ],
   "source": [
    "X_test.index.sort_values()"
   ]
  },
  {
   "cell_type": "code",
   "execution_count": 70,
   "metadata": {},
   "outputs": [],
   "source": [
    "# compute processed data (first steps of the best_model pipeline)\n",
    "X_train = dict_cleaned['X_train']\n",
    "y_train = dict_cleaned['y_train']\n",
    "X_test = dict_cleaned['X_test']\n",
    "# split the steps of the best pipeline\n",
    "preproc_step = best_model.named_steps['preproc']\n",
    "featsel_step = best_model.named_steps['featsel']\n",
    "clf_step = best_model.named_steps['clf']\n",
    "# compute the preprocessed data (encoding and standardization)\n",
    "X_tr_prepro = preproc_step.transform(X_train)\n",
    "X_te_prepro = preproc_step.transform(X_test)\n",
    "# get the name of the columns after encoding\n",
    "preproc_cols = X_tr_prepro.columns\n",
    "# get the name of the columns selected using SelectFromModel\n",
    "featsel_cols = preproc_cols[featsel_step.get_support()]\n",
    "# compute the data to be used by the best classifier\n",
    "X_tr_featsel = X_tr_prepro[featsel_cols]\n",
    "X_te_featsel = X_te_prepro[featsel_cols]"
   ]
  },
  {
   "cell_type": "code",
   "execution_count": 71,
   "metadata": {},
   "outputs": [
    {
     "data": {
      "text/plain": [
       "Int64Index([100007, 100009, 100010, 100012, 100022, 100029, 100040, 100041,\n",
       "            100086, 100130,\n",
       "            ...\n",
       "            456094, 456099, 456125, 456129, 456143, 456147, 456165, 456187,\n",
       "            456191, 456236],\n",
       "           dtype='int64', name='SK_ID_CURR', length=20000)"
      ]
     },
     "execution_count": 71,
     "metadata": {},
     "output_type": "execute_result"
    }
   ],
   "source": [
    "X_tr_featsel.index.sort_values()"
   ]
  },
  {
   "cell_type": "code",
   "execution_count": 72,
   "metadata": {},
   "outputs": [],
   "source": [
    "from flask import Flask, jsonify, request\n",
    "import json\n",
    "from sklearn.neighbors import NearestNeighbors\n",
    "\n",
    "# Parse the http request to get arguments (sk_id_cust)\n",
    "# sk_id_cust = int(request.args.get('SK_ID_CURR'))\n",
    "sk_id_cust = 100009\n",
    "# get data of 20 nearest neigh in the X_tr_featsel dataframe (pd.DataFrame)\n",
    "neigh = NearestNeighbors(n_neighbors=20)\n",
    "neigh.fit(X_tr_featsel)\n",
    "idx = neigh.kneighbors(X=X_tr_featsel.loc[sk_id_cust: sk_id_cust],\n",
    "                       n_neighbors=20,\n",
    "                       return_distance=False).ravel()\n",
    "nearest_cust_idx = list(X_tr_featsel.iloc[idx].index)\n",
    "X_neigh_df = X_tr_featsel.loc[nearest_cust_idx, :]\n",
    "# Convert the pd.DataFrame (20 df rows) of customer's data to JSON\n",
    "X_neigh_json = json.loads(X_neigh_df.to_json())\n",
    "# Return the cleaned data jsonified\n",
    "# jsonify({'status': 'ok',\n",
    "#          'data': X_neigh_json})"
   ]
  },
  {
   "cell_type": "code",
   "execution_count": 76,
   "metadata": {},
   "outputs": [
    {
     "data": {
      "text/plain": [
       "binary__CODE_GENDER                            1.050000\n",
       "high_card__OCCUPATION_TYPE                     0.067642\n",
       "high_card__ORGANIZATION_TYPE                   0.076803\n",
       "Bur_CB_AMT_CREDIT_MAX_OVERDUE__max            -0.005782\n",
       "PA_PrLCash_SK_DPD_DEF__mean__mean             -0.135742\n",
       "PA_DAYS_FIRST_DUE__min                        -0.067499\n",
       "Bur_CB_AMT_CREDIT_SUM_LIMIT__sum              -0.211547\n",
       "PA_DAYS_LAST_DUE_1ST_VERSION__min             -0.091919\n",
       "PA_PrLI_DELAY_DAYS_INSTALMENT__max__max       -0.063639\n",
       "Bur_CB_DAYS_CREDIT_ENDDATE__max               -0.263093\n",
       "DAYS_EMPLOYED_PERC                             0.479074\n",
       "PA_DAYS_FIRST_DUE__max                        -0.285695\n",
       "Bur_CB_AMT_CREDIT_SUM_DEBT__sum                0.235727\n",
       "PA_PrLI_NUM_INSTALMENT_NUMBER__max__max       -0.110137\n",
       "Bur_CB_AMT_CREDIT_SUM__mean                   -0.003855\n",
       "DAYS_LAST_PHONE_CHANGE                        -0.599322\n",
       "PA_PrLI_DELAY_DAYS_INSTALMENT__mean__mean      0.219180\n",
       "PA_PrLCash_MONTHS_BALANCE__abs_min__abs_min   -0.362591\n",
       "DAYS_REGISTRATION                              0.749105\n",
       "PA_AMT_DIFF_PCT__mean                         -0.555081\n",
       "REGION_POPULATION_RELATIVE                     0.518801\n",
       "Bur_CB_AMT_CREDIT_SUM__sum                     0.189175\n",
       "PA_PrLI_AMT_INSTALMENT__max__max              -0.308623\n",
       "PA_DAYS_PROLONG_PCT__max                       0.215511\n",
       "DAYS_ID_PUBLISH                                0.895014\n",
       "PA_AMT_DIFF_PCT__max                          -0.287544\n",
       "Bur_CB_DAYS_CREDIT__abs_min                    0.515928\n",
       "Bur_CB_CR_ACT_Active__sum                      0.603922\n",
       "PA_DAYS_PROLONG_PCT__mean                      0.018009\n",
       "INCOME_CREDIT_PERC                            -0.426155\n",
       "EXT_SOURCE_2                                   0.626149\n",
       "PA_DAYS_TOT_DURATION__mean                    -0.100452\n",
       "ANNUITY_INCOME_PERC                            0.223167\n",
       "PA_DAYS_TOT_DURATION__sum                      0.240939\n",
       "EXT_SOURCE_3                                  -0.005054\n",
       "PA_AMT_CREDIT__sum                            -0.069714\n",
       "PA_AMT_ANNUITY__mean                           0.010959\n",
       "PA_CNT_PAYMENT__mean                          -0.308397\n",
       "AMT_CREDIT                                     1.464783\n",
       "PAYMENT_RATE                                  -0.977879\n",
       "DAYS_BIRTH                                     0.367875\n",
       "dtype: float64"
      ]
     },
     "execution_count": 76,
     "metadata": {},
     "output_type": "execute_result"
    }
   ],
   "source": [
    "X_neigh_df.mean()"
   ]
  }
 ],
 "metadata": {
  "kernelspec": {
   "display_name": "Python 3",
   "language": "python",
   "name": "python3"
  },
  "language_info": {
   "codemirror_mode": {
    "name": "ipython",
    "version": 3
   },
   "file_extension": ".py",
   "mimetype": "text/x-python",
   "name": "python",
   "nbconvert_exporter": "python",
   "pygments_lexer": "ipython3",
   "version": "3.8.5"
  },
  "toc": {
   "base_numbering": 1,
   "nav_menu": {},
   "number_sections": false,
   "sideBar": true,
   "skip_h1_title": false,
   "title_cell": "Table of Contents",
   "title_sidebar": "Contents",
   "toc_cell": true,
   "toc_position": {},
   "toc_section_display": true,
   "toc_window_display": true
  },
  "varInspector": {
   "cols": {
    "lenName": 16,
    "lenType": 16,
    "lenVar": 40
   },
   "kernels_config": {
    "python": {
     "delete_cmd_postfix": "",
     "delete_cmd_prefix": "del ",
     "library": "var_list.py",
     "varRefreshCmd": "print(var_dic_list())"
    },
    "r": {
     "delete_cmd_postfix": ") ",
     "delete_cmd_prefix": "rm(",
     "library": "var_list.r",
     "varRefreshCmd": "cat(var_dic_list()) "
    }
   },
   "types_to_exclude": [
    "module",
    "function",
    "builtin_function_or_method",
    "instance",
    "_Feature"
   ],
   "window_display": false
  }
 },
 "nbformat": 4,
 "nbformat_minor": 4
}
