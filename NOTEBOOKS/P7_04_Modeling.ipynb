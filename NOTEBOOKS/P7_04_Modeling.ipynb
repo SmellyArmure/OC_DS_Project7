{
 "cells": [
  {
   "cell_type": "markdown",
   "metadata": {
    "toc": true
   },
   "source": [
    "<h1>Table of Contents<span class=\"tocSkip\"></span></h1>\n",
    "<div class=\"toc\"><ul class=\"toc-item\"><li><span><a href=\"#FUNCTIONS\" data-toc-modified-id=\"FUNCTIONS-1\">FUNCTIONS</a></span></li><li><span><a href=\"#0-Preliminaries\" data-toc-modified-id=\"0-Preliminaries-2\">0 Preliminaries</a></span><ul class=\"toc-item\"><li><span><a href=\"#0.0-Importing-Packages-and-Modules\" data-toc-modified-id=\"0.0-Importing-Packages-and-Modules-2.1\">0.0 Importing Packages and Modules</a></span></li><li><span><a href=\"#0.1-Importing-data\" data-toc-modified-id=\"0.1-Importing-data-2.2\">0.1 Importing data</a></span></li></ul></li><li><span><a href=\"#1-Split-the-train-and-test-sets\" data-toc-modified-id=\"1-Split-the-train-and-test-sets-3\">1 Split the train and test sets</a></span></li><li><span><a href=\"#2-Data-preprocessing\" data-toc-modified-id=\"2-Data-preprocessing-4\">2 Data preprocessing</a></span><ul class=\"toc-item\"><li><span><a href=\"#2.1-Outliers-of-quantitative-data\" data-toc-modified-id=\"2.1-Outliers-of-quantitative-data-4.1\">2.1 Outliers of quantitative data</a></span></li><li><span><a href=\"#2.2-Encoding-categorical-features-and-scaling\" data-toc-modified-id=\"2.2-Encoding-categorical-features-and-scaling-4.2\">2.2 Encoding categorical features and scaling</a></span></li><li><span><a href=\"#2.3-Resampling-to-reduce-imbalance-of-the-dataset\" data-toc-modified-id=\"2.3-Resampling-to-reduce-imbalance-of-the-dataset-4.3\">2.3 Resampling to reduce imbalance of the dataset</a></span></li><li><span><a href=\"#2.4-Data-Visualization-after-preprocessing-(2D-projection)\" data-toc-modified-id=\"2.4-Data-Visualization-after-preprocessing-(2D-projection)-4.4\">2.4 Data Visualization after preprocessing (2D projection)</a></span></li></ul></li><li><span><a href=\"#3-Classification-model\" data-toc-modified-id=\"3-Classification-model-5\">3 Classification model</a></span><ul class=\"toc-item\"><li><span><a href=\"#3.0-Metrics\" data-toc-modified-id=\"3.0-Metrics-5.1\">3.0 Metrics</a></span></li><li><span><a href=\"#3.1-Dummy-Classifier-(Baseline)\" data-toc-modified-id=\"3.1-Dummy-Classifier-(Baseline)-5.2\">3.1 Dummy Classifier (Baseline)</a></span><ul class=\"toc-item\"><li><span><a href=\"#Scores\" data-toc-modified-id=\"Scores-5.2.1\">Scores</a></span></li><li><span><a href=\"#Confusion-matrix\" data-toc-modified-id=\"Confusion-matrix-5.2.2\">Confusion matrix</a></span></li></ul></li><li><span><a href=\"#3.2-Simple-Naive-Bayes-Classifier\" data-toc-modified-id=\"3.2-Simple-Naive-Bayes-Classifier-5.3\">3.2 Simple Naive Bayes Classifier</a></span><ul class=\"toc-item\"><li><span><a href=\"#Scores\" data-toc-modified-id=\"Scores-5.3.1\">Scores</a></span></li><li><span><a href=\"#Confusion-matrix\" data-toc-modified-id=\"Confusion-matrix-5.3.2\">Confusion matrix</a></span></li></ul></li><li><span><a href=\"#3.3-Simple-LGBM-Classifier\" data-toc-modified-id=\"3.3-Simple-LGBM-Classifier-5.4\">3.3 Simple LGBM Classifier</a></span></li><li><span><a href=\"#3.3-Model-Selection-(PyCaret)\" data-toc-modified-id=\"3.3-Model-Selection-(PyCaret)-5.5\">3.3 Model Selection (PyCaret)</a></span><ul class=\"toc-item\"><li><span><a href=\"#Setting-up-the-dataset\" data-toc-modified-id=\"Setting-up-the-dataset-5.5.1\">Setting up the dataset</a></span></li><li><span><a href=\"#Compare-5-models\" data-toc-modified-id=\"Compare-5-models-5.5.2\">Compare 5 models</a></span></li></ul></li><li><span><a href=\"#3.4-Bayesian-Optimisation-on-f5_score-(OptunaSearchCV)\" data-toc-modified-id=\"3.4-Bayesian-Optimisation-on-f5_score-(OptunaSearchCV)-5.6\">3.4 Bayesian Optimisation on f5_score (OptunaSearchCV)</a></span><ul class=\"toc-item\"><li><span><a href=\"#Optimisation\" data-toc-modified-id=\"Optimisation-5.6.1\">Optimisation</a></span></li><li><span><a href=\"#Best-parameters\" data-toc-modified-id=\"Best-parameters-5.6.2\">Best parameters</a></span></li><li><span><a href=\"#Confusion-matrix\" data-toc-modified-id=\"Confusion-matrix-5.6.3\">Confusion matrix</a></span></li><li><span><a href=\"#Scores\" data-toc-modified-id=\"Scores-5.6.4\">Scores</a></span></li><li><span><a href=\"#Plot-scores-while-tuning-hyperparameters\" data-toc-modified-id=\"Plot-scores-while-tuning-hyperparameters-5.6.5\">Plot scores while tuning hyperparameters</a></span></li><li><span><a href=\"#Learning-curve\" data-toc-modified-id=\"Learning-curve-5.6.6\">Learning curve</a></span></li><li><span><a href=\"#Feature-importance\" data-toc-modified-id=\"Feature-importance-5.6.7\">Feature importance</a></span></li></ul></li><li><span><a href=\"#3.5-Bayesian-Optimisation-on-AUC-(OptunaSearchCV)\" data-toc-modified-id=\"3.5-Bayesian-Optimisation-on-AUC-(OptunaSearchCV)-5.7\">3.5 Bayesian Optimisation on AUC (OptunaSearchCV)</a></span></li><li><span><a href=\"#3.5-bis-Bayesian-Optimisation-on-average-precision-(ie-PR--curve-AUC)-(OptunaSearchCV)\" data-toc-modified-id=\"3.5-bis-Bayesian-Optimisation-on-average-precision-(ie-PR--curve-AUC)-(OptunaSearchCV)-5.8\">3.5 bis Bayesian Optimisation on average precision (ie PR  curve AUC) (OptunaSearchCV)</a></span></li><li><span><a href=\"#3.6-Bayesian-Optimisation-on-MCC-(OptunaSearchCV)\" data-toc-modified-id=\"3.6-Bayesian-Optimisation-on-MCC-(OptunaSearchCV)-5.9\">3.6 Bayesian Optimisation on MCC (OptunaSearchCV)</a></span></li><li><span><a href=\"#3.7-Bayesian-Optimisation-on-custom-gain_level_score-(OptunaSearchCV)\" data-toc-modified-id=\"3.7-Bayesian-Optimisation-on-custom-gain_level_score-(OptunaSearchCV)-5.10\">3.7 Bayesian Optimisation on custom gain_level_score (OptunaSearchCV)</a></span></li><li><span><a href=\"#3.8-Threshold-tuning\" data-toc-modified-id=\"3.8-Threshold-tuning-5.11\">3.8 Threshold tuning</a></span><ul class=\"toc-item\"><li><span><a href=\"#ROC-curves-of-the-models\" data-toc-modified-id=\"ROC-curves-of-the-models-5.11.1\">ROC curves of the models</a></span></li><li><span><a href=\"#Find-the-best-threshold\" data-toc-modified-id=\"Find-the-best-threshold-5.11.2\">Find the best threshold</a></span></li></ul></li><li><span><a href=\"#Interpretability-of-the-best-model\" data-toc-modified-id=\"Interpretability-of-the-best-model-5.12\">Interpretability of the best model</a></span></li><li><span><a href=\"#4-Export-Models-and-Data\" data-toc-modified-id=\"4-Export-Models-and-Data-5.13\">4 Export Models and Data</a></span></li><li><span><a href=\"#BROUILLON\" data-toc-modified-id=\"BROUILLON-5.14\">BROUILLON</a></span></li></ul></li><li><span><a href=\"#FUNCTIONS\" data-toc-modified-id=\"FUNCTIONS-6\">FUNCTIONS</a></span></li></ul></div>"
   ]
  },
  {
   "cell_type": "markdown",
   "metadata": {
    "id": "pVbrKjWrGl4m"
   },
   "source": [
    "# \"Implémentez un modèle de scoring\"\n",
    "_Building and optimizing a classification model_\n",
    "\n",
    "References used for this notebook:\n",
    "\n",
    "- \"\""
   ]
  },
  {
   "cell_type": "markdown",
   "metadata": {},
   "source": [
    "## FUNCTIONS"
   ]
  },
  {
   "cell_type": "code",
   "execution_count": 1,
   "metadata": {},
   "outputs": [],
   "source": [
    "'''\n",
    "Plots ROC Curve of a model and the baseline of a model\n",
    "'''\n",
    "\n",
    "def plot_roc_curve(y, y_pred_proba, name_model, color='b', fig=None, ax=None):\n",
    "    \n",
    "    \n",
    "    fig = plt.figure(figsize=figsize) if fig is None else fig\n",
    "    ax = fig.add_subplot(111) if ax is None else ax\n",
    "    \n",
    "    # tests if a baseline is already existing (color black)\n",
    "    leg = ax.get_legend()\n",
    "    if leg is not None:\n",
    "        baseline_on = not ('k' in [line.get_c() for line in leg.get_lines()])\n",
    "    else:\n",
    "        baseline_on = True\n",
    "\n",
    "    ### BASELINE\n",
    "    if baseline_on:\n",
    "        # generate a no skill prediction (majority class)\n",
    "        y_prob_baseline = [0 for _ in range(len(y))]\n",
    "        # computes auc\n",
    "        auc_baseline = roc_auc_score(y, y_prob_baseline)\n",
    "        # calculate the curves\n",
    "        fpr_baseline, tpr_baseline, _ = roc_curve(y, y_prob_baseline)\n",
    "        # plot baseline\n",
    "        ax.plot(fpr_baseline, tpr_baseline, linestyle='--', color='k',\n",
    "                label='Baseline'+' (AUC={:.2f})'.format(auc_baseline))\n",
    "        \n",
    "    ### MODEL\n",
    "    # calculate roc auc scores\n",
    "    auc_model = roc_auc_score(y.values, y_pred_proba)\n",
    "    # calculate the curves\n",
    "    fpr_model, tpr_model, thresh = roc_curve(y, y_pred_proba)\n",
    "    ax.plot(fpr_model, tpr_model, linestyle='-', color=color,\n",
    "            marker=None, label=name_model+' (AUC={:.2f})'.format(auc_model))\n",
    "    \n",
    "    # axis labels\n",
    "    ax.set_xlabel('False Positive Rate')\n",
    "    ax.set_ylabel('True Positive Rate')\n",
    "    ax.set_title(\"ROC Curve\")\n",
    "    ax.legend()\n",
    "#         return plt"
   ]
  },
  {
   "cell_type": "code",
   "execution_count": 2,
   "metadata": {},
   "outputs": [],
   "source": [
    "    \n",
    "'''\n",
    "Plots PR Curve of a model and the baseline of a model\n",
    "'''    \n",
    "       \n",
    "def plot_pr_curve(y, y_pred_proba, name_model, color='r', fig=None, ax=None):\n",
    "    \n",
    "    fig = plt.figure(figsize=figsize) if fig is None else fig\n",
    "    ax = fig.add_subplot(111) if ax is None else ax\n",
    "    \n",
    "    # tests if a baseline is already existing (color black)\n",
    "    leg = ax.get_legend()\n",
    "    if leg is not None:\n",
    "        baseline_on = not ('k' in [line.get_c() for line in leg.get_lines()])\n",
    "    else:\n",
    "        baseline_on = True\n",
    "        \n",
    "    if baseline_on:\n",
    "        ### BASELINE\n",
    "        # generate a no skill prediction (majority class)\n",
    "        y_prob_baseline = [0 for _ in range(len(y))]\n",
    "        # calculate pr auc scores\n",
    "        prauc_baseline = average_precision_score(y, y_prob_baseline)\n",
    "        # calculate pr curves\n",
    "        prec_baseline, rec_baseline, _ = precision_recall_curve(y, y_prob_baseline)\n",
    "        # plot the precision-recall curves\n",
    "        baseline = len(y[y==1]) / len(y)\n",
    "        ax.plot([0, 1], [baseline, baseline], color='k', linestyle='--',\n",
    "                label='Baseline'+' (AUC={:.2f})'.format(prauc_baseline))\n",
    "    \n",
    "    ### MODEL\n",
    "    # calculate pr auc scores\n",
    "    prauc_model = average_precision_score(y.values, y_pred_proba) # auc of the precision recall is avg precision !!\n",
    "    # calculate pr curves\n",
    "    prec_model, rec_model, thresh = precision_recall_curve(y, y_pred_proba)\n",
    "    # plot the precision-recall curves\n",
    "    ax.plot(rec_model, prec_model, marker=None, color=color,\n",
    "            label=name_model+' (AUC={:.2f})'.format(prauc_model))\n",
    "    \n",
    "    # axis labels\n",
    "    ax.set_xlabel('Recall (TP/Ptrue)')\n",
    "    ax.set_ylabel('Precision (TP/Ppred)')\n",
    "    ax.set_title(\"Precision Recall Curve\")\n",
    "    ax.legend()\n",
    "#     return plt"
   ]
  },
  {
   "cell_type": "code",
   "execution_count": 3,
   "metadata": {},
   "outputs": [],
   "source": [
    "'''\n",
    "Plots the roc curve, the precision recal curve of a model for the probability of a class n.\n",
    "'''\n",
    "    \n",
    "def plot_roc_pr_threshold_tuning(y, X, name_model, model, n=1,\n",
    "                                 optim_score='gain_level', n_thresh=30,\n",
    "                                 figsize=(15,7), palette='tab10', verbose=False,\n",
    "                                 li_scores=['accuracy','bal_accuracy','recall_score','precision_score',\n",
    "                                            'f1_score','f5_score','cohen_kapp','mcc_score','gain_level']):\n",
    "\n",
    "    # compute predict (default thresh 0.5)\n",
    "    y_pred = model.predict(X)\n",
    "\n",
    "    # get the probability of the model for class n\n",
    "    y_pred_proba = model.predict_proba(X)\n",
    "    y_pred_proba_n = y_pred_proba[:,n]\n",
    "\n",
    "\n",
    "    fig = plt.figure(figsize=figsize)\n",
    "\n",
    "    # plot roc curve\n",
    "    ax1 = fig.add_subplot(2,2,1)\n",
    "    plot_roc_curve(y, y_pred_proba_n, name_model, 'r', fig, ax1)\n",
    "    \n",
    "    # plot pr curve\n",
    "    ax2 = fig.add_subplot(2,2,2)\n",
    "    plot_pr_curve(y, y_pred_proba_n, name_model, 'b', fig, ax2)\n",
    "    \n",
    "\n",
    "    # ##### CURVE OF CHOOSEN SCORE as a function of threshold\n",
    "\n",
    "    \n",
    "    # Computes all the scores for some thresholds (column name)\n",
    "    df_res = pd.DataFrame()\n",
    "    for i, th in enumerate(np.linspace(0, 1, n_thresh), 1):\n",
    "\n",
    "        # set threshold of the model for class n\n",
    "        y_pred_proba_n_th = (y_pred_proba[:,n] >= th).astype(bool)\n",
    "        # store into a dataframe\n",
    "        df_res = model_scores(y, y_pred_proba_n_th, y_pred_proba_n,\n",
    "                              th, df_res, li_scores)\n",
    "        if verbose:\n",
    "            print('\\r', str(i)+f'/{n_thresh}')\n",
    "\n",
    "    df_res = df_res.T.reset_index().rename(columns={'index': 'threshold'})\n",
    "\n",
    "    thresh_max = df_res.loc[df_res[optim_score].argmax(), 'threshold']\n",
    "\n",
    "    ax3 = fig.add_subplot(2,1,2)\n",
    "    \n",
    "    my_pal = sns.color_palette(palette, len(li_scores))\n",
    "#     my_pal = ['b', 'r', 'g', 'purple', 'orange',\n",
    "#              'pink', 'brown', 'yellow', 'grey']\n",
    "    \n",
    "    for sc, col in zip(li_scores, my_pal):\n",
    "        df_res.plot('threshold', sc, marker=None, ax=ax3, label=sc, color=col)\n",
    "    \n",
    "    ax3.set_xlabel('threshold')\n",
    "    ax3.set_ylabel('score')\n",
    "    ax3.vlines(thresh_max, 0, 1, color='k', linestyle='dashed')   \n",
    "    ax3.set_title(\"Effect of Threshold tuning on scores\")\n",
    "    ax3.legend(bbox_to_anchor=(1,1))\n",
    "    \n",
    "    # show the plot\n",
    "    fig.suptitle(f'Threshold tuning for {name_model}', fontweight='bold')\n",
    "    plt.grid()\n",
    "#     plt.tight_layout(rect=[0,0,1,0.95])\n",
    "    plt.show()\n",
    "\n",
    "    return thresh_max, df_res"
   ]
  },
  {
   "cell_type": "markdown",
   "metadata": {
    "id": "AXy2xt5wB3ZD"
   },
   "source": [
    "## 0 Preliminaries"
   ]
  },
  {
   "cell_type": "markdown",
   "metadata": {
    "id": "NQ8_ZaJvGl4o"
   },
   "source": [
    "### 0.0 Importing Packages and Modules"
   ]
  },
  {
   "cell_type": "code",
   "execution_count": 4,
   "metadata": {},
   "outputs": [],
   "source": [
    "%pwd"
   ]
  },
  {
   "cell_type": "markdown",
   "metadata": {
    "id": "F7E_-Zd9OgY7"
   },
   "source": [
    "Installations and importations required in the virtual environment."
   ]
  },
  {
   "cell_type": "code",
   "execution_count": 5,
   "metadata": {
    "executionInfo": {
     "elapsed": 26358,
     "status": "ok",
     "timestamp": 1607417481747,
     "user": {
      "displayName": "Maryse Muller",
      "photoUrl": "",
      "userId": "13230828717959946182"
     },
     "user_tz": -60
    },
    "id": "x1xzfQL5OvRk"
   },
   "outputs": [],
   "source": [
    "from P7_functions import *"
   ]
  },
  {
   "cell_type": "markdown",
   "metadata": {
    "id": "xBgiuFEdQq78"
   },
   "source": [
    "Importation of modules and packages. "
   ]
  },
  {
   "cell_type": "code",
   "execution_count": 6,
   "metadata": {
    "executionInfo": {
     "elapsed": 26342,
     "status": "ok",
     "timestamp": 1607417481749,
     "user": {
      "displayName": "Maryse Muller",
      "photoUrl": "",
      "userId": "13230828717959946182"
     },
     "user_tz": -60
    },
    "id": "oDhE9utOlwJe"
   },
   "outputs": [],
   "source": [
    "import random\n",
    "import pandas as pd\n",
    "import seaborn as sns\n",
    "import numpy as np\n",
    "import matplotlib.pyplot as plt\n",
    "%matplotlib inline\n",
    "plt.rcParams['figure.facecolor']='w'"
   ]
  },
  {
   "cell_type": "markdown",
   "metadata": {
    "id": "xNSTytWrQ0De"
   },
   "source": [
    "Setting pandas display options."
   ]
  },
  {
   "cell_type": "code",
   "execution_count": 7,
   "metadata": {
    "executionInfo": {
     "elapsed": 26335,
     "status": "ok",
     "timestamp": 1607417481751,
     "user": {
      "displayName": "Maryse Muller",
      "photoUrl": "",
      "userId": "13230828717959946182"
     },
     "user_tz": -60
    },
    "id": "G0rRvyJaWO2h"
   },
   "outputs": [],
   "source": [
    "dictPdSettings = {'display.max_rows': 5000, 'display.width': 1000,\n",
    "                  'display.max_colwidth': 1000,\n",
    "                  'display.float_format': lambda x: '%.2f' % x}\n",
    "for k,v in dictPdSettings.items():\n",
    "  pd.set_option(k,v)"
   ]
  },
  {
   "cell_type": "markdown",
   "metadata": {},
   "source": [
    "Additional functions"
   ]
  },
  {
   "cell_type": "code",
   "execution_count": 8,
   "metadata": {},
   "outputs": [],
   "source": [
    "# To play audio text-to-speech during execution\n",
    "\n",
    "from IPython.display import Audio\n",
    "from gtts import gTTS\n",
    "import io\n",
    "\n",
    "def speak(text, lang='en'):\n",
    "    with io.BytesIO() as f:\n",
    "        gTTS(text=text, lang=lang).write_to_fp(f)\n",
    "        f.seek(0)\n",
    "        return Audio(f.read(), autoplay=True)"
   ]
  },
  {
   "cell_type": "markdown",
   "metadata": {
    "id": "huybodM0rjbA"
   },
   "source": [
    "### 0.1 Importing data"
   ]
  },
  {
   "cell_type": "code",
   "execution_count": 9,
   "metadata": {
    "executionInfo": {
     "elapsed": 33585,
     "status": "ok",
     "timestamp": 1607417489021,
     "user": {
      "displayName": "Maryse Muller",
      "photoUrl": "",
      "userId": "13230828717959946182"
     },
     "user_tz": -60
    },
    "id": "uuNErYCJ4s8w"
   },
   "outputs": [],
   "source": [
    "# import cleaned data\n",
    "\n",
    "import dill\n",
    "\n",
    "with open('..\\PICKLES\\dict_cleaned.pkl', 'rb') as file:\n",
    "    dict_cleaned = dill.load(file)"
   ]
  },
  {
   "cell_type": "code",
   "execution_count": 10,
   "metadata": {},
   "outputs": [],
   "source": [
    "# set SK_ID_CURR as the index (and thus exclude of the analysis)\n",
    "\n",
    "X_train = dict_cleaned['X_train']\n",
    "y_train = dict_cleaned['y_train']\n",
    "X_test = dict_cleaned['X_test']"
   ]
  },
  {
   "cell_type": "code",
   "execution_count": 11,
   "metadata": {},
   "outputs": [
    {
     "data": {
      "text/plain": [
       "((307511, 70), (48744, 70), (307511,))"
      ]
     },
     "execution_count": 11,
     "metadata": {},
     "output_type": "execute_result"
    }
   ],
   "source": [
    "X_train.shape, X_test.shape, y_train.shape"
   ]
  },
  {
   "cell_type": "code",
   "execution_count": 12,
   "metadata": {},
   "outputs": [
    {
     "data": {
      "text/plain": [
       "float64    56\n",
       "object     11\n",
       "int64       3\n",
       "dtype: int64"
      ]
     },
     "execution_count": 12,
     "metadata": {},
     "output_type": "execute_result"
    }
   ],
   "source": [
    "X_train.dtypes.value_counts()"
   ]
  },
  {
   "cell_type": "code",
   "execution_count": 13,
   "metadata": {},
   "outputs": [
    {
     "data": {
      "text/plain": [
       "float64    56\n",
       "object     11\n",
       "int64       3\n",
       "dtype: int64"
      ]
     },
     "execution_count": 13,
     "metadata": {},
     "output_type": "execute_result"
    }
   ],
   "source": [
    "X_test.dtypes.value_counts()"
   ]
  },
  {
   "cell_type": "code",
   "execution_count": 14,
   "metadata": {},
   "outputs": [],
   "source": [
    "# get categorical and quantitative columns\n",
    "\n",
    "cat_cols = list(X_train.select_dtypes(exclude=[np.number]).columns)\n",
    "quant_cols = list(X_train.select_dtypes(include=[np.number]).columns)"
   ]
  },
  {
   "cell_type": "markdown",
   "metadata": {},
   "source": [
    " ## 1 Split the train and test sets"
   ]
  },
  {
   "cell_type": "code",
   "execution_count": 15,
   "metadata": {},
   "outputs": [
    {
     "data": {
      "text/plain": [
       "70"
      ]
     },
     "execution_count": 15,
     "metadata": {},
     "output_type": "execute_result"
    }
   ],
   "source": [
    "len(X_train.columns)"
   ]
  },
  {
   "cell_type": "markdown",
   "metadata": {},
   "source": [
    "We'll split the \"X_train\" data in X_tr and X_te.\n",
    "\n",
    "X_tr will be used with cross-validation to find the best model and for hyperparameter tuning.\n",
    "\n",
    "X_te will be used to evaluate the performance of the best models."
   ]
  },
  {
   "cell_type": "code",
   "execution_count": 16,
   "metadata": {},
   "outputs": [],
   "source": [
    "from sklearn.model_selection import train_test_split\n",
    "\n",
    "# Splitting a training set and a test set\n",
    "X_tr, X_te, y_tr, y_te = train_test_split(X_train, y_train,\n",
    "                                          train_size=0.8, shuffle=True,\n",
    "                                          stratify=y_train,\n",
    "                                          random_state=14)"
   ]
  },
  {
   "cell_type": "code",
   "execution_count": 17,
   "metadata": {},
   "outputs": [
    {
     "data": {
      "text/plain": [
       "((246008, 70), (61503, 70), (246008,), (61503,))"
      ]
     },
     "execution_count": 17,
     "metadata": {},
     "output_type": "execute_result"
    }
   ],
   "source": [
    "X_tr.shape, X_te.shape, y_tr.shape, y_te.shape"
   ]
  },
  {
   "cell_type": "code",
   "execution_count": 18,
   "metadata": {},
   "outputs": [
    {
     "data": {
      "text/plain": [
       "0   0.92\n",
       "1   0.08\n",
       "Name: TARGET, dtype: float64"
      ]
     },
     "execution_count": 18,
     "metadata": {},
     "output_type": "execute_result"
    }
   ],
   "source": [
    "y_tr.value_counts(normalize=True)"
   ]
  },
  {
   "cell_type": "code",
   "execution_count": 19,
   "metadata": {},
   "outputs": [
    {
     "data": {
      "text/plain": [
       "0   0.92\n",
       "1   0.08\n",
       "Name: TARGET, dtype: float64"
      ]
     },
     "execution_count": 19,
     "metadata": {},
     "output_type": "execute_result"
    }
   ],
   "source": [
    "y_te.value_counts(normalize=True)"
   ]
  },
  {
   "cell_type": "markdown",
   "metadata": {},
   "source": [
    "## 2 Data preprocessing"
   ]
  },
  {
   "cell_type": "markdown",
   "metadata": {},
   "source": [
    "### 2.1 Outliers of quantitative data"
   ]
  },
  {
   "cell_type": "code",
   "execution_count": 20,
   "metadata": {},
   "outputs": [
    {
     "data": {
      "image/png": "[encoded data removed]",
      "text/plain": [
       "<Figure size 1440x2160 with 59 Axes>"
      ]
     },
     "metadata": {},
     "output_type": "display_data"
    }
   ],
   "source": [
    "# Show outliers of each quantitative value\n",
    "\n",
    "sel = quant_cols\n",
    "width = 20\n",
    "height = ((len(sel)+1)/2)*1\n",
    "\n",
    "fig = plt.figure(figsize=(width, height))\n",
    "\n",
    "for i, c in enumerate(sel,1):\n",
    "    ax = fig.add_subplot((len(sel)+2)//2, 2, i)\n",
    "    sns.boxplot(x=X_train[c], orient='h',\n",
    "                color='lightgrey', ax=ax)\n",
    "    \n",
    "fig.tight_layout()"
   ]
  },
  {
   "cell_type": "markdown",
   "metadata": {},
   "source": [
    "Some outliers may penalize the learning process.\n",
    "\n",
    "We'll drop all the rows where a value is not within +/- 7 sigmas."
   ]
  },
  {
   "cell_type": "code",
   "execution_count": 21,
   "metadata": {},
   "outputs": [
    {
     "name": "stdout",
     "output_type": "stream",
     "text": [
      "12582 rows will be dropped, i.e. 5.114467822184644% of the rows of 'X_tr'\n"
     ]
    }
   ],
   "source": [
    "import scipy.stats as st\n",
    "from sklearn.preprocessing import MinMaxScaler\n",
    "\n",
    "thresh = 7\n",
    "minmax = MinMaxScaler()\n",
    "\n",
    "# Minmax scaling of each column\n",
    "\n",
    "ind_outliers = []\n",
    "for col in quant_cols:\n",
    "    ser_ = X_tr[col]\n",
    "    mask_outl = np.abs(st.zscore(ser_))>thresh\n",
    "    ind_outliers.append(list(ser_.loc[mask_outl].index))\n",
    "\n",
    "ind_outliers = list(set([i for sublist in ind_outliers for i in sublist]))\n",
    "\n",
    "print(f\"{len(ind_outliers)} rows will be dropped, i.e. \\\n",
    "{100*len(ind_outliers)/X_tr.shape[0]}% of the rows of 'X_tr'\")"
   ]
  },
  {
   "cell_type": "code",
   "execution_count": 22,
   "metadata": {},
   "outputs": [
    {
     "name": "stdout",
     "output_type": "stream",
     "text": [
      "9.632808774439676% of outliers are target=1\n",
      "6.458305556549196% of all the rows are target=1\n"
     ]
    }
   ],
   "source": [
    "# verification that outliers are not all of the target=1 type\n",
    "\n",
    "print(f\"{100*y_tr.loc[ind_outliers].sum()/len(ind_outliers)}% of outliers are target=1\")\n",
    "print(f\"{100*y_tr.sum()/y_train.shape[0]}% of all the rows are target=1\")"
   ]
  },
  {
   "cell_type": "markdown",
   "metadata": {},
   "source": [
    "### 2.2 Encoding categorical features and scaling"
   ]
  },
  {
   "cell_type": "markdown",
   "metadata": {},
   "source": [
    "We perform the following treatment on the data:\n",
    "- Standardscaler (quantitative values)\n",
    "- Binary (ordinal encoding)\n",
    "- Categorical - low card (one hot encoding)\n",
    "- Categorical - high card (ordinal encoding)"
   ]
  },
  {
   "cell_type": "code",
   "execution_count": 23,
   "metadata": {},
   "outputs": [
    {
     "data": {
      "text/plain": [
       "((307511, 70), (246008, 70), (61503, 70), (246008,), (61503,))"
      ]
     },
     "execution_count": 23,
     "metadata": {},
     "output_type": "execute_result"
    }
   ],
   "source": [
    "X_train.shape, X_tr.shape, X_te.shape, y_tr.shape, y_te.shape"
   ]
  },
  {
   "cell_type": "code",
   "execution_count": 24,
   "metadata": {},
   "outputs": [],
   "source": [
    "# custom transformer\n",
    "\n",
    "import warnings\n",
    "warnings.filterwarnings('ignore')\n",
    "\n",
    "ct = CustTransformer(thresh_card=12,\n",
    "                     strat_quant='stand',\n",
    "                     strat_binary='ord',\n",
    "                     strat_low_card='ohe',\n",
    "                     strat_high_card='loo')\n",
    "\n",
    "ct.fit(X_tr, y_tr) # y_tr is here for 'loo'\n",
    "\n",
    "X_tr_enc = ct.transform(X_tr) \n",
    "X_te_enc = ct.transform(X_te)"
   ]
  },
  {
   "cell_type": "code",
   "execution_count": 25,
   "metadata": {},
   "outputs": [
    {
     "data": {
      "text/plain": [
       "((246008, 70), (246008, 95))"
      ]
     },
     "execution_count": 25,
     "metadata": {},
     "output_type": "execute_result"
    }
   ],
   "source": [
    "X_tr.shape, X_tr_enc.shape"
   ]
  },
  {
   "cell_type": "code",
   "execution_count": 26,
   "metadata": {},
   "outputs": [
    {
     "data": {
      "text/plain": [
       "((61503, 70), (61503, 95))"
      ]
     },
     "execution_count": 26,
     "metadata": {},
     "output_type": "execute_result"
    }
   ],
   "source": [
    "X_te.shape, X_te_enc.shape"
   ]
  },
  {
   "cell_type": "markdown",
   "metadata": {},
   "source": [
    "### 2.3 Resampling to reduce imbalance of the dataset\n",
    "\n",
    "Several options are available when we  facing a imbalanced dataset:\n",
    "\n",
    "- under-sampling when you have an a lot data (tens- or hundreds of thousands of instances or more)\n",
    "- over-sampling when you don’t have a lot of data (tens of thousands of records or less)\n",
    "- random and non-random (e.g. stratified) sampling schemes.\n",
    "- different resampled ratios (e.g. you don’t have to target a 1:1 ratio in a binary classification problem, try other ratios)\n",
    "\n",
    "We'll choose :\n",
    "- oversampling using SMOTE\n",
    "- undersampling using all available target=1 objects and a random selection of the same number of target=0 objects."
   ]
  },
  {
   "cell_type": "code",
   "execution_count": 27,
   "metadata": {},
   "outputs": [],
   "source": [
    "# undersampling by hand...\n",
    "\n",
    "ind1 = y_tr[y_tr==1].index\n",
    "ind0 = y_tr[y_tr==0].sample(len(ind1)).index\n",
    "\n",
    "samp_ind = list(set(list(ind0)+list(ind1)))\n",
    "\n",
    "X_tr_undersamp = X_tr.loc[samp_ind]\n",
    "X_tr_enc_undersamp = X_tr_enc.loc[samp_ind]\n",
    "y_tr_undersamp = y_tr.loc[samp_ind]"
   ]
  },
  {
   "cell_type": "code",
   "execution_count": 28,
   "metadata": {},
   "outputs": [],
   "source": [
    "# Oversampling using smote on X_tr_enc \n",
    "\n",
    "from imblearn.over_sampling import SMOTE\n",
    "\n",
    "sm = SMOTE(sampling_strategy='auto', k_neighbors=5,\n",
    "           n_jobs=-1, random_state=14) #'minority'\n",
    "\n",
    "# NB: SMOTE works only on encoded data\n",
    "X_tr_enc_oversamp, y_tr_oversamp = sm.fit_resample(X_tr_enc, y_tr)"
   ]
  },
  {
   "cell_type": "markdown",
   "metadata": {},
   "source": [
    "Checking target value distribution on resampled data"
   ]
  },
  {
   "cell_type": "code",
   "execution_count": 29,
   "metadata": {},
   "outputs": [
    {
     "data": {
      "text/plain": [
       "((246008, 95), (246008,))"
      ]
     },
     "execution_count": 29,
     "metadata": {},
     "output_type": "execute_result"
    }
   ],
   "source": [
    "X_tr_enc.shape, y_tr.shape"
   ]
  },
  {
   "cell_type": "code",
   "execution_count": 30,
   "metadata": {},
   "outputs": [
    {
     "data": {
      "text/plain": [
       "((452296, 95), (452296,))"
      ]
     },
     "execution_count": 30,
     "metadata": {},
     "output_type": "execute_result"
    }
   ],
   "source": [
    "X_tr_enc_oversamp.shape, y_tr_oversamp.shape"
   ]
  },
  {
   "cell_type": "code",
   "execution_count": 31,
   "metadata": {},
   "outputs": [
    {
     "data": {
      "text/plain": [
       "((39720, 70), (39720, 95), (39720,))"
      ]
     },
     "execution_count": 31,
     "metadata": {},
     "output_type": "execute_result"
    }
   ],
   "source": [
    "X_tr_undersamp.shape, X_tr_enc_undersamp.shape, y_tr_undersamp.shape"
   ]
  },
  {
   "cell_type": "markdown",
   "metadata": {},
   "source": [
    "Checking balance of data"
   ]
  },
  {
   "cell_type": "code",
   "execution_count": 32,
   "metadata": {},
   "outputs": [
    {
     "data": {
      "text/plain": [
       "1   0.50\n",
       "0   0.50\n",
       "Name: TARGET, dtype: float64"
      ]
     },
     "execution_count": 32,
     "metadata": {},
     "output_type": "execute_result"
    }
   ],
   "source": [
    "y_tr_oversamp.value_counts(normalize=True)"
   ]
  },
  {
   "cell_type": "code",
   "execution_count": 33,
   "metadata": {},
   "outputs": [
    {
     "data": {
      "text/plain": [
       "1   0.50\n",
       "0   0.50\n",
       "Name: TARGET, dtype: float64"
      ]
     },
     "execution_count": 33,
     "metadata": {},
     "output_type": "execute_result"
    }
   ],
   "source": [
    "y_tr_undersamp.value_counts(normalize=True)"
   ]
  },
  {
   "cell_type": "markdown",
   "metadata": {},
   "source": [
    "### 2.4 Data Visualization after preprocessing (2D projection)"
   ]
  },
  {
   "cell_type": "code",
   "execution_count": 34,
   "metadata": {
    "scrolled": false
   },
   "outputs": [
    {
     "data": {
      "image/png": "[encoded data removed]",
      "text/plain": [
       "<Figure size 720x432 with 1 Axes>"
      ]
     },
     "metadata": {},
     "output_type": "display_data"
    }
   ],
   "source": [
    "# Projection of a sample of the training set, colored with target value\n",
    "\n",
    "ind_samp = X_tr_undersamp.sample(500).index\n",
    "\n",
    "plot_projection(X=X_tr_enc_undersamp.loc[ind_samp],\n",
    "                y=y_tr_undersamp.loc[ind_samp],\n",
    "                model=None, \n",
    "                ser_clust = y_tr_undersamp.loc[ind_samp],\n",
    "                proj='t-SNE', # dum_class # PCA, UMAP, t-SNE\n",
    "                tw_n_neigh=5,\n",
    "                title=\"Projection of a sample of the encoded training dataset\",\n",
    "                bboxtoanchor=None,\n",
    "                figsize=(10, 6),\n",
    "                size=10, palette=['r','g'],\n",
    "                legend_on=False,\n",
    "                fig=None, ax=None, random_state=14)"
   ]
  },
  {
   "cell_type": "markdown",
   "metadata": {},
   "source": [
    "## 3 Classification model"
   ]
  },
  {
   "cell_type": "markdown",
   "metadata": {},
   "source": [
    "### 3.0 Metrics"
   ]
  },
  {
   "cell_type": "code",
   "execution_count": 35,
   "metadata": {},
   "outputs": [],
   "source": [
    "from sklearn.metrics import *\n",
    "\n",
    "# Create appropriate scorer for imbalanced data in order to optimize later the models\n",
    "\n",
    "balanced_accuracy_scorer = make_scorer(balanced_accuracy_score, greater_is_better=True)\n",
    "\n",
    "precision_scorer = make_scorer(precision_score, greater_is_better=True)\n",
    "recall_scorer = make_scorer(recall_score, greater_is_better=True)\n",
    "\n",
    "f1_scorer = make_scorer(fbeta_score, beta=1, greater_is_better=True)\n",
    "f5_scorer = make_scorer(fbeta_score, beta=5, greater_is_better=True)\n",
    "\n",
    "roc_auc_scorer = make_scorer(roc_auc_score, greater_is_better=True, needs_proba=True)\n",
    "pr_auc_scorer = make_scorer(average_precision_score, greater_is_better=True, needs_proba=True)\n",
    "\n",
    "kappa_scorer = make_scorer(cohen_kappa_score, greater_is_better=True)\n",
    "mcc_scorer = make_scorer(matthews_corrcoef, greater_is_better=True)\n",
    "\n",
    "def gain_level(y_true, y_pred):\n",
    "\n",
    "    rate_gain = 0.1\n",
    "    rate_loss = -1\n",
    "\n",
    "    (tn, fp, fn, tp) = confusion_matrix(y_true, y_pred).ravel()\n",
    "    actual_gain = (fn * rate_loss + tn * rate_gain)  # à maximiser\n",
    "    # cas où aucun des défauts de paiement n'est détecté (pertes pour tous) et aucun prêt remboursé n'est accordé\n",
    "    min_gain = (fn+tp) * rate_loss\n",
    "    # cas où tous les défauts de paiement sont détectés (aucune perte) et tous les prêts remboursés sont accordés\n",
    "    max_gain =  (tn+fp) * rate_gain\n",
    "    # gain_level : ratio of the actual gain factor to the amplitude of gain\n",
    "    return (actual_gain - min_gain) / (max_gain - min_gain)\n",
    "\n",
    "gain_level_scorer = make_scorer(gain_level, greater_is_better=True) # needs_proba=False"
   ]
  },
  {
   "cell_type": "code",
   "execution_count": 36,
   "metadata": {},
   "outputs": [],
   "source": [
    "# # test to compute myself the area under the curve of pr curve\n",
    "# def agv_prec_custom(y_true, y_pred_proba):\n",
    "#     precision, recall, _ = precision_recall_curve(y_true, y_pred_proba)\n",
    "#     return auc(precision, recall)  # auc(recall, precision)\n",
    "\n",
    "# pr_auc_scorer2 = make_scorer(agv_prec_custom, greater_is_better=True, needs_proba=True)"
   ]
  },
  {
   "cell_type": "code",
   "execution_count": 37,
   "metadata": {},
   "outputs": [],
   "source": [
    "# compute and return all the specified scores\n",
    "\n",
    "def model_scores(y_t, y_p, y_proba, title, df=None,\n",
    "                 li_scores=['accuracy','bal_accuracy','recall_score','precision_score',\n",
    "                            'f1_score','f5_score','roc_auc_score','pr_auc_score',\n",
    "                            'cohen_kapp','mcc_score','gain_level']):\n",
    "    \n",
    "    if y_proba is None:\n",
    "        li_scores = [sc for sc in li_scores if sc not in ['roc_auc_score','pr_auc_score']]\n",
    "    \n",
    "    dict_score_func = {'accuracy': (accuracy_score,(y_t, y_p)),\n",
    "                       'bal_accuracy': (balanced_accuracy_score,(y_t, y_p)),\n",
    "                       'recall_score': (recall_score, (y_t, y_p)),\n",
    "                       'precision_score': (precision_score, (y_t, y_p)),\n",
    "                       'f1_score': (f1_score, (y_t, y_p)),\n",
    "                       'f5_score':  (fbeta_score, (y_t, y_p, 5)), # favoring recall\n",
    "                       'roc_auc_score':  (roc_auc_score, (y_t, y_proba)),\n",
    "                       'pr_auc_score':  (average_precision_score, (y_t, y_proba)), # area under the pr curve\n",
    "                       'cohen_kapp' : (cohen_kappa_score, (y_t, y_p)),\n",
    "                       'mcc_score' : (matthews_corrcoef, (y_t, y_p)),\n",
    "                       'gain_level' : (gain_level, (y_t, y_p))}\n",
    "               \n",
    "    scores = []\n",
    "    for sc in li_scores:\n",
    "        scores.append(dict_score_func[sc][0](*dict_score_func[sc][1]))\n",
    "        \n",
    "    ser = pd.Series(scores, index=li_scores)\n",
    "    \n",
    "    df = pd.DataFrame() if df is None else df\n",
    "    df[title] = ser\n",
    "    \n",
    "    return df"
   ]
  },
  {
   "cell_type": "markdown",
   "metadata": {},
   "source": [
    "### 3.1 Dummy Classifier (Baseline)"
   ]
  },
  {
   "cell_type": "code",
   "execution_count": 38,
   "metadata": {},
   "outputs": [
    {
     "data": {
      "text/plain": [
       "DummyClassifier(random_state=14, strategy='most_frequent')"
      ]
     },
     "execution_count": 38,
     "metadata": {},
     "output_type": "execute_result"
    }
   ],
   "source": [
    "from sklearn.dummy import DummyClassifier\n",
    "\n",
    "dum_class = DummyClassifier(strategy='most_frequent',\n",
    "                            random_state=14)\n",
    "\n",
    "dum_class.fit(X_tr_enc, y_tr)"
   ]
  },
  {
   "cell_type": "markdown",
   "metadata": {},
   "source": [
    "#### Scores"
   ]
  },
  {
   "cell_type": "code",
   "execution_count": 39,
   "metadata": {},
   "outputs": [
    {
     "data": {
      "text/html": [
       "<div>\n",
       "<style scoped>\n",
       "    .dataframe tbody tr th:only-of-type {\n",
       "        vertical-align: middle;\n",
       "    }\n",
       "\n",
       "    .dataframe tbody tr th {\n",
       "        vertical-align: top;\n",
       "    }\n",
       "\n",
       "    .dataframe thead th {\n",
       "        text-align: right;\n",
       "    }\n",
       "</style>\n",
       "<table border=\"1\" class=\"dataframe\">\n",
       "  <thead>\n",
       "    <tr style=\"text-align: right;\">\n",
       "      <th></th>\n",
       "      <th>dummy_tr</th>\n",
       "      <th>dummy_te</th>\n",
       "    </tr>\n",
       "  </thead>\n",
       "  <tbody>\n",
       "    <tr>\n",
       "      <th>accuracy</th>\n",
       "      <td>0.92</td>\n",
       "      <td>0.92</td>\n",
       "    </tr>\n",
       "    <tr>\n",
       "      <th>bal_accuracy</th>\n",
       "      <td>0.50</td>\n",
       "      <td>0.50</td>\n",
       "    </tr>\n",
       "    <tr>\n",
       "      <th>recall_score</th>\n",
       "      <td>0.00</td>\n",
       "      <td>0.00</td>\n",
       "    </tr>\n",
       "    <tr>\n",
       "      <th>precision_score</th>\n",
       "      <td>0.00</td>\n",
       "      <td>0.00</td>\n",
       "    </tr>\n",
       "    <tr>\n",
       "      <th>f1_score</th>\n",
       "      <td>0.00</td>\n",
       "      <td>0.00</td>\n",
       "    </tr>\n",
       "    <tr>\n",
       "      <th>f5_score</th>\n",
       "      <td>0.00</td>\n",
       "      <td>0.00</td>\n",
       "    </tr>\n",
       "    <tr>\n",
       "      <th>roc_auc_score</th>\n",
       "      <td>0.50</td>\n",
       "      <td>0.50</td>\n",
       "    </tr>\n",
       "    <tr>\n",
       "      <th>pr_auc_score</th>\n",
       "      <td>0.08</td>\n",
       "      <td>0.08</td>\n",
       "    </tr>\n",
       "    <tr>\n",
       "      <th>cohen_kapp</th>\n",
       "      <td>0.00</td>\n",
       "      <td>0.00</td>\n",
       "    </tr>\n",
       "    <tr>\n",
       "      <th>mcc_score</th>\n",
       "      <td>0.00</td>\n",
       "      <td>0.00</td>\n",
       "    </tr>\n",
       "    <tr>\n",
       "      <th>gain_level</th>\n",
       "      <td>0.53</td>\n",
       "      <td>0.53</td>\n",
       "    </tr>\n",
       "  </tbody>\n",
       "</table>\n",
       "</div>"
      ],
      "text/plain": [
       "                 dummy_tr  dummy_te\n",
       "accuracy             0.92      0.92\n",
       "bal_accuracy         0.50      0.50\n",
       "recall_score         0.00      0.00\n",
       "precision_score      0.00      0.00\n",
       "f1_score             0.00      0.00\n",
       "f5_score             0.00      0.00\n",
       "roc_auc_score        0.50      0.50\n",
       "pr_auc_score         0.08      0.08\n",
       "cohen_kapp           0.00      0.00\n",
       "mcc_score            0.00      0.00\n",
       "gain_level           0.53      0.53"
      ]
     },
     "execution_count": 39,
     "metadata": {},
     "output_type": "execute_result"
    }
   ],
   "source": [
    "df_res = pd.DataFrame()\n",
    "\n",
    "# Computes scores\n",
    "\n",
    "y_pred_tr = dum_class.predict(X_tr_enc)\n",
    "y_pred_proba_tr = dum_class.predict_proba(X_tr_enc)[:,1]\n",
    "df_res = model_scores(y_tr, y_pred_tr, y_pred_proba_tr, 'dummy_tr', df_res)\n",
    "\n",
    "y_pred_te = dum_class.predict(X_te_enc)\n",
    "y_pred_proba_te = dum_class.predict_proba(X_te_enc)[:,1]\n",
    "df_res = model_scores(y_te, y_pred_te, y_pred_proba_te, 'dummy_te', df_res)\n",
    "\n",
    "df_res"
   ]
  },
  {
   "cell_type": "markdown",
   "metadata": {},
   "source": [
    "#### Confusion matrix"
   ]
  },
  {
   "cell_type": "code",
   "execution_count": 40,
   "metadata": {},
   "outputs": [],
   "source": [
    "# computes confusion matrix\n",
    "\n",
    "cm_te = pd.crosstab(y_te.replace({0: 'repaid (true val)',\n",
    "                                  1: 'not repaid (true val)'}).rename('True values').values,\n",
    "                    pd.Series(y_pred_te).replace({0: 'repaid (pred val)',\n",
    "                                               1: 'not repaid (pred val)'}).rename('Pred values').values)"
   ]
  },
  {
   "cell_type": "code",
   "execution_count": 41,
   "metadata": {
    "scrolled": false
   },
   "outputs": [
    {
     "data": {
      "image/png": "[encoded data removed]",
      "text/plain": [
       "<IPython.core.display.Image object>"
      ]
     },
     "execution_count": 41,
     "metadata": {},
     "output_type": "execute_result"
    }
   ],
   "source": [
    "# to get interactive sankey confusion graph\n",
    "\n",
    "# plot_sankey_confusion_mat(cm_te, static=False, figsize=(0.2, 0.7),\n",
    "#                           font_size=14, palette=['r', 'g'])\n",
    "\n",
    "# to get static sankey confusion graph\n",
    "import plotly.graph_objects as go\n",
    "from IPython.display import Image\n",
    "\n",
    "img_bytes = plot_sankey_confusion_mat(cm_te, static=True, font_size=18, title='Dummy',\n",
    "                                      figsize=(1, 3), scale = 0.7, palette=['r', 'g'])\n",
    "Image(img_bytes)"
   ]
  },
  {
   "cell_type": "markdown",
   "metadata": {},
   "source": [
    "### 3.2 Simple Naive Bayes Classifier"
   ]
  },
  {
   "cell_type": "markdown",
   "metadata": {},
   "source": [
    "Trained on encoded, oversampled dataset."
   ]
  },
  {
   "cell_type": "code",
   "execution_count": 42,
   "metadata": {},
   "outputs": [
    {
     "data": {
      "text/plain": [
       "GaussianNB()"
      ]
     },
     "execution_count": 42,
     "metadata": {},
     "output_type": "execute_result"
    }
   ],
   "source": [
    "from sklearn.naive_bayes import GaussianNB\n",
    "# from sklearn.model_selection import cross_val_score\n",
    "\n",
    "gnb_class = GaussianNB(priors=None,\n",
    "                       var_smoothing=1e-9)\n",
    "\n",
    "# # fit the model\n",
    "# gnb_class.fit(X_tr_enc, y_tr)\n",
    "# gnb_class.fit(X_tr_enc_undersamp, y_tr_undersamp) \n",
    "gnb_class.fit(X_tr_enc_oversamp, y_tr_oversamp) "
   ]
  },
  {
   "cell_type": "markdown",
   "metadata": {},
   "source": [
    "#### Scores"
   ]
  },
  {
   "cell_type": "code",
   "execution_count": 43,
   "metadata": {},
   "outputs": [
    {
     "data": {
      "text/html": [
       "<div>\n",
       "<style scoped>\n",
       "    .dataframe tbody tr th:only-of-type {\n",
       "        vertical-align: middle;\n",
       "    }\n",
       "\n",
       "    .dataframe tbody tr th {\n",
       "        vertical-align: top;\n",
       "    }\n",
       "\n",
       "    .dataframe thead th {\n",
       "        text-align: right;\n",
       "    }\n",
       "</style>\n",
       "<table border=\"1\" class=\"dataframe\">\n",
       "  <thead>\n",
       "    <tr style=\"text-align: right;\">\n",
       "      <th></th>\n",
       "      <th>dummy_tr</th>\n",
       "      <th>dummy_te</th>\n",
       "      <th>gnb_tr_over</th>\n",
       "      <th>gnb_te_over</th>\n",
       "    </tr>\n",
       "  </thead>\n",
       "  <tbody>\n",
       "    <tr>\n",
       "      <th>accuracy</th>\n",
       "      <td>0.92</td>\n",
       "      <td>0.92</td>\n",
       "      <td>0.29</td>\n",
       "      <td>0.29</td>\n",
       "    </tr>\n",
       "    <tr>\n",
       "      <th>bal_accuracy</th>\n",
       "      <td>0.50</td>\n",
       "      <td>0.50</td>\n",
       "      <td>0.55</td>\n",
       "      <td>0.54</td>\n",
       "    </tr>\n",
       "    <tr>\n",
       "      <th>recall_score</th>\n",
       "      <td>0.00</td>\n",
       "      <td>0.00</td>\n",
       "      <td>0.86</td>\n",
       "      <td>0.85</td>\n",
       "    </tr>\n",
       "    <tr>\n",
       "      <th>precision_score</th>\n",
       "      <td>0.00</td>\n",
       "      <td>0.00</td>\n",
       "      <td>0.09</td>\n",
       "      <td>0.09</td>\n",
       "    </tr>\n",
       "    <tr>\n",
       "      <th>f1_score</th>\n",
       "      <td>0.00</td>\n",
       "      <td>0.00</td>\n",
       "      <td>0.16</td>\n",
       "      <td>0.16</td>\n",
       "    </tr>\n",
       "    <tr>\n",
       "      <th>f5_score</th>\n",
       "      <td>0.00</td>\n",
       "      <td>0.00</td>\n",
       "      <td>0.65</td>\n",
       "      <td>0.64</td>\n",
       "    </tr>\n",
       "    <tr>\n",
       "      <th>roc_auc_score</th>\n",
       "      <td>0.50</td>\n",
       "      <td>0.50</td>\n",
       "      <td>0.63</td>\n",
       "      <td>0.63</td>\n",
       "    </tr>\n",
       "    <tr>\n",
       "      <th>pr_auc_score</th>\n",
       "      <td>0.08</td>\n",
       "      <td>0.08</td>\n",
       "      <td>0.14</td>\n",
       "      <td>0.14</td>\n",
       "    </tr>\n",
       "    <tr>\n",
       "      <th>cohen_kapp</th>\n",
       "      <td>0.00</td>\n",
       "      <td>0.00</td>\n",
       "      <td>0.02</td>\n",
       "      <td>0.02</td>\n",
       "    </tr>\n",
       "    <tr>\n",
       "      <th>mcc_score</th>\n",
       "      <td>0.00</td>\n",
       "      <td>0.00</td>\n",
       "      <td>0.06</td>\n",
       "      <td>0.06</td>\n",
       "    </tr>\n",
       "    <tr>\n",
       "      <th>gain_level</th>\n",
       "      <td>0.53</td>\n",
       "      <td>0.53</td>\n",
       "      <td>0.53</td>\n",
       "      <td>0.52</td>\n",
       "    </tr>\n",
       "  </tbody>\n",
       "</table>\n",
       "</div>"
      ],
      "text/plain": [
       "                 dummy_tr  dummy_te  gnb_tr_over  gnb_te_over\n",
       "accuracy             0.92      0.92         0.29         0.29\n",
       "bal_accuracy         0.50      0.50         0.55         0.54\n",
       "recall_score         0.00      0.00         0.86         0.85\n",
       "precision_score      0.00      0.00         0.09         0.09\n",
       "f1_score             0.00      0.00         0.16         0.16\n",
       "f5_score             0.00      0.00         0.65         0.64\n",
       "roc_auc_score        0.50      0.50         0.63         0.63\n",
       "pr_auc_score         0.08      0.08         0.14         0.14\n",
       "cohen_kapp           0.00      0.00         0.02         0.02\n",
       "mcc_score            0.00      0.00         0.06         0.06\n",
       "gain_level           0.53      0.53         0.53         0.52"
      ]
     },
     "execution_count": 43,
     "metadata": {},
     "output_type": "execute_result"
    }
   ],
   "source": [
    "# Computes scores (data not resampled)\n",
    "\n",
    "y_pred_tr = gnb_class.predict(X_tr_enc)\n",
    "y_pred_proba_tr = gnb_class.predict_proba(X_tr_enc)[:,1]\n",
    "df_res = model_scores(y_tr, y_pred_tr, y_pred_proba_tr, 'gnb_tr_over', df_res)\n",
    "\n",
    "y_pred_te = gnb_class.predict(X_te_enc)\n",
    "y_pred_proba_te = gnb_class.predict_proba(X_te_enc)[:,1]\n",
    "df_res = model_scores(y_te, y_pred_te, y_pred_proba_te, 'gnb_te_over', df_res)\n",
    "\n",
    "df_res"
   ]
  },
  {
   "cell_type": "markdown",
   "metadata": {},
   "source": [
    "#### Confusion matrix"
   ]
  },
  {
   "cell_type": "code",
   "execution_count": 44,
   "metadata": {
    "scrolled": false
   },
   "outputs": [
    {
     "data": {
      "image/png": "[encoded data removed]",
      "text/plain": [
       "<IPython.core.display.Image object>"
      ]
     },
     "execution_count": 44,
     "metadata": {},
     "output_type": "execute_result"
    }
   ],
   "source": [
    "# computes confusion matrix\n",
    "cm_te = pd.crosstab(y_te.replace({0: 'repaid (true val)',\n",
    "                                  1: 'not repaid (true val)'}).rename('True values').values,\n",
    "                    pd.Series(y_pred_te).replace({0: 'repaid (pred val)',\n",
    "                                               1: 'not repaid (pred val)'}).rename('Pred values').values)\n",
    "\n",
    "# # to get interactive sankey confusion graph\n",
    "# plot_sankey_confusion_mat(cm_te, static=False, figsize=(0.2, 0.7),\n",
    "#                           font_size=14, palette=['r', 'g'],\n",
    "#                          title=\"Gaussian Naive Bayes classifier\")\n",
    "\n",
    "# to get static sankey confusion graph\n",
    "import plotly.graph_objects as go\n",
    "from IPython.display import Image\n",
    "\n",
    "img_bytes = plot_sankey_confusion_mat(cm_te, static=True, font_size=18,\n",
    "                                      figsize=(2, 1.7), scale = 0.7, palette=['r', 'g'],\n",
    "                                     title = \"Gaussian Naive Bayes classifier\")\n",
    "Image(img_bytes)"
   ]
  },
  {
   "cell_type": "markdown",
   "metadata": {},
   "source": [
    "### 3.3 Simple LGBM Classifier"
   ]
  },
  {
   "cell_type": "markdown",
   "metadata": {},
   "source": [
    "Trained on encoded, oversampled dataset with no optimization of hyperparameters"
   ]
  },
  {
   "cell_type": "code",
   "execution_count": 45,
   "metadata": {},
   "outputs": [
    {
     "data": {
      "text/plain": [
       "LGBMClassifier()"
      ]
     },
     "execution_count": 45,
     "metadata": {},
     "output_type": "execute_result"
    }
   ],
   "source": [
    "from lightgbm import LGBMClassifier\n",
    "# from sklearn.model_selection import cross_val_score\n",
    "\n",
    "lgbm_class = LGBMClassifier()\n",
    "\n",
    "# # fit the model\n",
    "# lgbm_class.fit(X_tr_enc, y_tr)\n",
    "# lgbm_class.fit(X_tr_enc_undersamp, y_tr_undersamp) \n",
    "lgbm_class.fit(X_tr_enc_oversamp, y_tr_oversamp) "
   ]
  },
  {
   "cell_type": "code",
   "execution_count": 46,
   "metadata": {},
   "outputs": [
    {
     "data": {
      "text/html": [
       "<div>\n",
       "<style scoped>\n",
       "    .dataframe tbody tr th:only-of-type {\n",
       "        vertical-align: middle;\n",
       "    }\n",
       "\n",
       "    .dataframe tbody tr th {\n",
       "        vertical-align: top;\n",
       "    }\n",
       "\n",
       "    .dataframe thead th {\n",
       "        text-align: right;\n",
       "    }\n",
       "</style>\n",
       "<table border=\"1\" class=\"dataframe\">\n",
       "  <thead>\n",
       "    <tr style=\"text-align: right;\">\n",
       "      <th></th>\n",
       "      <th>dummy_tr</th>\n",
       "      <th>dummy_te</th>\n",
       "      <th>gnb_tr_over</th>\n",
       "      <th>gnb_te_over</th>\n",
       "      <th>lgbm_tr_over</th>\n",
       "      <th>lgbm_tr</th>\n",
       "      <th>lgbm_te</th>\n",
       "    </tr>\n",
       "  </thead>\n",
       "  <tbody>\n",
       "    <tr>\n",
       "      <th>accuracy</th>\n",
       "      <td>0.92</td>\n",
       "      <td>0.92</td>\n",
       "      <td>0.29</td>\n",
       "      <td>0.29</td>\n",
       "      <td>0.96</td>\n",
       "      <td>0.92</td>\n",
       "      <td>0.92</td>\n",
       "    </tr>\n",
       "    <tr>\n",
       "      <th>bal_accuracy</th>\n",
       "      <td>0.50</td>\n",
       "      <td>0.50</td>\n",
       "      <td>0.55</td>\n",
       "      <td>0.54</td>\n",
       "      <td>0.96</td>\n",
       "      <td>0.51</td>\n",
       "      <td>0.51</td>\n",
       "    </tr>\n",
       "    <tr>\n",
       "      <th>recall_score</th>\n",
       "      <td>0.00</td>\n",
       "      <td>0.00</td>\n",
       "      <td>0.86</td>\n",
       "      <td>0.85</td>\n",
       "      <td>0.91</td>\n",
       "      <td>0.03</td>\n",
       "      <td>0.03</td>\n",
       "    </tr>\n",
       "    <tr>\n",
       "      <th>precision_score</th>\n",
       "      <td>0.00</td>\n",
       "      <td>0.00</td>\n",
       "      <td>0.09</td>\n",
       "      <td>0.09</td>\n",
       "      <td>1.00</td>\n",
       "      <td>0.54</td>\n",
       "      <td>0.51</td>\n",
       "    </tr>\n",
       "    <tr>\n",
       "      <th>f1_score</th>\n",
       "      <td>0.00</td>\n",
       "      <td>0.00</td>\n",
       "      <td>0.16</td>\n",
       "      <td>0.16</td>\n",
       "      <td>0.95</td>\n",
       "      <td>0.05</td>\n",
       "      <td>0.05</td>\n",
       "    </tr>\n",
       "    <tr>\n",
       "      <th>f5_score</th>\n",
       "      <td>0.00</td>\n",
       "      <td>0.00</td>\n",
       "      <td>0.65</td>\n",
       "      <td>0.64</td>\n",
       "      <td>0.92</td>\n",
       "      <td>0.03</td>\n",
       "      <td>0.03</td>\n",
       "    </tr>\n",
       "    <tr>\n",
       "      <th>roc_auc_score</th>\n",
       "      <td>0.50</td>\n",
       "      <td>0.50</td>\n",
       "      <td>0.63</td>\n",
       "      <td>0.63</td>\n",
       "      <td>0.98</td>\n",
       "      <td>0.78</td>\n",
       "      <td>0.76</td>\n",
       "    </tr>\n",
       "    <tr>\n",
       "      <th>pr_auc_score</th>\n",
       "      <td>0.08</td>\n",
       "      <td>0.08</td>\n",
       "      <td>0.14</td>\n",
       "      <td>0.14</td>\n",
       "      <td>0.99</td>\n",
       "      <td>0.26</td>\n",
       "      <td>0.24</td>\n",
       "    </tr>\n",
       "    <tr>\n",
       "      <th>cohen_kapp</th>\n",
       "      <td>0.00</td>\n",
       "      <td>0.00</td>\n",
       "      <td>0.02</td>\n",
       "      <td>0.02</td>\n",
       "      <td>0.91</td>\n",
       "      <td>0.04</td>\n",
       "      <td>0.04</td>\n",
       "    </tr>\n",
       "    <tr>\n",
       "      <th>mcc_score</th>\n",
       "      <td>0.00</td>\n",
       "      <td>0.00</td>\n",
       "      <td>0.06</td>\n",
       "      <td>0.06</td>\n",
       "      <td>0.91</td>\n",
       "      <td>0.11</td>\n",
       "      <td>0.10</td>\n",
       "    </tr>\n",
       "    <tr>\n",
       "      <th>gain_level</th>\n",
       "      <td>0.53</td>\n",
       "      <td>0.53</td>\n",
       "      <td>0.53</td>\n",
       "      <td>0.52</td>\n",
       "      <td>0.92</td>\n",
       "      <td>0.54</td>\n",
       "      <td>0.54</td>\n",
       "    </tr>\n",
       "  </tbody>\n",
       "</table>\n",
       "</div>"
      ],
      "text/plain": [
       "                 dummy_tr  dummy_te  gnb_tr_over  gnb_te_over  lgbm_tr_over  lgbm_tr  lgbm_te\n",
       "accuracy             0.92      0.92         0.29         0.29          0.96     0.92     0.92\n",
       "bal_accuracy         0.50      0.50         0.55         0.54          0.96     0.51     0.51\n",
       "recall_score         0.00      0.00         0.86         0.85          0.91     0.03     0.03\n",
       "precision_score      0.00      0.00         0.09         0.09          1.00     0.54     0.51\n",
       "f1_score             0.00      0.00         0.16         0.16          0.95     0.05     0.05\n",
       "f5_score             0.00      0.00         0.65         0.64          0.92     0.03     0.03\n",
       "roc_auc_score        0.50      0.50         0.63         0.63          0.98     0.78     0.76\n",
       "pr_auc_score         0.08      0.08         0.14         0.14          0.99     0.26     0.24\n",
       "cohen_kapp           0.00      0.00         0.02         0.02          0.91     0.04     0.04\n",
       "mcc_score            0.00      0.00         0.06         0.06          0.91     0.11     0.10\n",
       "gain_level           0.53      0.53         0.53         0.52          0.92     0.54     0.54"
      ]
     },
     "execution_count": 46,
     "metadata": {},
     "output_type": "execute_result"
    }
   ],
   "source": [
    "# Computes scores (data not resampled)\n",
    "\n",
    "y_pred_tr = lgbm_class.predict(X_tr_enc_oversamp)\n",
    "y_pred_proba_tr = lgbm_class.predict_proba(X_tr_enc_oversamp)[:,1]\n",
    "df_res = model_scores(y_tr_oversamp, y_pred_tr, y_pred_proba_tr, 'lgbm_tr_over', df_res)\n",
    "\n",
    "y_pred_tr = lgbm_class.predict(X_tr_enc)\n",
    "y_pred_proba_tr = lgbm_class.predict_proba(X_tr_enc)[:,1]\n",
    "df_res = model_scores(y_tr, y_pred_tr, y_pred_proba_tr, 'lgbm_tr', df_res)\n",
    "\n",
    "y_pred_te = lgbm_class.predict(X_te_enc)\n",
    "y_pred_proba_te = lgbm_class.predict_proba(X_te_enc)[:,1]\n",
    "df_res = model_scores(y_te, y_pred_te, y_pred_proba_te, 'lgbm_te', df_res)\n",
    "\n",
    "df_res"
   ]
  },
  {
   "cell_type": "code",
   "execution_count": 47,
   "metadata": {
    "scrolled": true
   },
   "outputs": [
    {
     "data": {
      "image/png": "[encoded data removed]",
      "text/plain": [
       "<IPython.core.display.Image object>"
      ]
     },
     "execution_count": 47,
     "metadata": {},
     "output_type": "execute_result"
    }
   ],
   "source": [
    "# computes confusion matrix\n",
    "cm_te = pd.crosstab(y_te.replace({0: 'repaid (true val)',\n",
    "                                  1: 'not repaid (true val)'}).rename('True values').values,\n",
    "                    pd.Series(y_pred_te).replace({0: 'repaid (pred val)',\n",
    "                                               1: 'not repaid (pred val)'}).rename('Pred values').values)\n",
    "\n",
    "# # to get interactive sankey confusion graph\n",
    "# plot_sankey_confusion_mat(cm_te, static=False, figsize=(0.2, 0.7),\n",
    "#                           font_size=14, palette=['r', 'g'],\n",
    "#                          title=\"Gaussian Naive Bayes classifier\")\n",
    "\n",
    "# to get static sankey confusion graph\n",
    "import plotly.graph_objects as go\n",
    "from IPython.display import Image\n",
    "\n",
    "img_bytes = plot_sankey_confusion_mat(cm_te, static=True, font_size=18,\n",
    "                                      figsize=(2, 1.7), scale = 0.7, palette=['r', 'g'],\n",
    "                                     title = \"LGBM classifier\")\n",
    "Image(img_bytes)"
   ]
  },
  {
   "cell_type": "markdown",
   "metadata": {},
   "source": [
    "### 3.3 Model Selection (PyCaret)"
   ]
  },
  {
   "cell_type": "markdown",
   "metadata": {},
   "source": [
    "We'll use PyCaret to proceed to a fast spot checking of different classification models.\n",
    "\n",
    "We'll use non encoded, not yet resampled dataset and let PyCaret take care of encoding and resampling."
   ]
  },
  {
   "cell_type": "code",
   "execution_count": 48,
   "metadata": {},
   "outputs": [
    {
     "name": "stdout",
     "output_type": "stream",
     "text": [
      "PyCaret: 2.2.0\n"
     ]
    }
   ],
   "source": [
    "# check pycaret version\n",
    "\n",
    "import pycaret\n",
    "print('PyCaret: %s' % pycaret.__version__)"
   ]
  },
  {
   "cell_type": "code",
   "execution_count": 49,
   "metadata": {},
   "outputs": [],
   "source": [
    "from pycaret.classification import *"
   ]
  },
  {
   "cell_type": "markdown",
   "metadata": {},
   "source": [
    "#### Setting up the dataset"
   ]
  },
  {
   "cell_type": "code",
   "execution_count": 50,
   "metadata": {},
   "outputs": [],
   "source": [
    "# setup the dataset\n",
    "\n",
    "data = pd.concat([X_tr, y_tr], axis=1)\n",
    "grid = setup(data=data,\n",
    "             target='TARGET',\n",
    "             fix_imbalance=True,\n",
    "             data_split_stratify=True,\n",
    "             remove_outliers=True,\n",
    "             outliers_threshold=0.05,\n",
    "             fold=7,\n",
    "             use_gpu=False,\n",
    "             profile=False,\n",
    "             html=False,\n",
    "             silent=True,\n",
    "             verbose=False)"
   ]
  },
  {
   "cell_type": "code",
   "execution_count": 51,
   "metadata": {},
   "outputs": [
    {
     "data": {
      "text/plain": [
       "((246008, 70), (246008,))"
      ]
     },
     "execution_count": 51,
     "metadata": {},
     "output_type": "execute_result"
    }
   ],
   "source": [
    "X_tr.shape, y_tr.shape"
   ]
  },
  {
   "cell_type": "code",
   "execution_count": 52,
   "metadata": {},
   "outputs": [],
   "source": [
    "# to get the training set effectively used to train the model\n",
    "\n",
    "X_train_pycaret = get_config('X_train')\n",
    "y_train_pycaret = get_config('y_train')"
   ]
  },
  {
   "cell_type": "code",
   "execution_count": 53,
   "metadata": {},
   "outputs": [
    {
     "data": {
      "text/plain": [
       "((163594, 140), (163594,))"
      ]
     },
     "execution_count": 53,
     "metadata": {},
     "output_type": "execute_result"
    }
   ],
   "source": [
    "X_train_pycaret.shape, y_train_pycaret.shape"
   ]
  },
  {
   "cell_type": "code",
   "execution_count": 54,
   "metadata": {},
   "outputs": [
    {
     "data": {
      "text/html": [
       "<div>\n",
       "<style scoped>\n",
       "    .dataframe tbody tr th:only-of-type {\n",
       "        vertical-align: middle;\n",
       "    }\n",
       "\n",
       "    .dataframe tbody tr th {\n",
       "        vertical-align: top;\n",
       "    }\n",
       "\n",
       "    .dataframe thead th {\n",
       "        text-align: right;\n",
       "    }\n",
       "</style>\n",
       "<table border=\"1\" class=\"dataframe\">\n",
       "  <thead>\n",
       "    <tr style=\"text-align: right;\">\n",
       "      <th></th>\n",
       "      <th>Name</th>\n",
       "      <th>Reference</th>\n",
       "      <th>Turbo</th>\n",
       "    </tr>\n",
       "    <tr>\n",
       "      <th>ID</th>\n",
       "      <th></th>\n",
       "      <th></th>\n",
       "      <th></th>\n",
       "    </tr>\n",
       "  </thead>\n",
       "  <tbody>\n",
       "    <tr>\n",
       "      <th>lr</th>\n",
       "      <td>Logistic Regression</td>\n",
       "      <td>sklearn.linear_model._logistic.LogisticRegression</td>\n",
       "      <td>True</td>\n",
       "    </tr>\n",
       "    <tr>\n",
       "      <th>knn</th>\n",
       "      <td>K Neighbors Classifier</td>\n",
       "      <td>sklearn.neighbors._classification.KNeighborsClassifier</td>\n",
       "      <td>True</td>\n",
       "    </tr>\n",
       "    <tr>\n",
       "      <th>nb</th>\n",
       "      <td>Naive Bayes</td>\n",
       "      <td>sklearn.naive_bayes.GaussianNB</td>\n",
       "      <td>True</td>\n",
       "    </tr>\n",
       "    <tr>\n",
       "      <th>dt</th>\n",
       "      <td>Decision Tree Classifier</td>\n",
       "      <td>sklearn.tree._classes.DecisionTreeClassifier</td>\n",
       "      <td>True</td>\n",
       "    </tr>\n",
       "    <tr>\n",
       "      <th>svm</th>\n",
       "      <td>SVM - Linear Kernel</td>\n",
       "      <td>sklearn.linear_model._stochastic_gradient.SGDClassifier</td>\n",
       "      <td>True</td>\n",
       "    </tr>\n",
       "    <tr>\n",
       "      <th>rbfsvm</th>\n",
       "      <td>SVM - Radial Kernel</td>\n",
       "      <td>sklearn.svm._classes.SVC</td>\n",
       "      <td>False</td>\n",
       "    </tr>\n",
       "    <tr>\n",
       "      <th>gpc</th>\n",
       "      <td>Gaussian Process Classifier</td>\n",
       "      <td>sklearn.gaussian_process._gpc.GaussianProcessClassifier</td>\n",
       "      <td>False</td>\n",
       "    </tr>\n",
       "    <tr>\n",
       "      <th>mlp</th>\n",
       "      <td>MLP Classifier</td>\n",
       "      <td>pycaret.internal.tunable.TunableMLPClassifier</td>\n",
       "      <td>False</td>\n",
       "    </tr>\n",
       "    <tr>\n",
       "      <th>ridge</th>\n",
       "      <td>Ridge Classifier</td>\n",
       "      <td>sklearn.linear_model._ridge.RidgeClassifier</td>\n",
       "      <td>True</td>\n",
       "    </tr>\n",
       "    <tr>\n",
       "      <th>rf</th>\n",
       "      <td>Random Forest Classifier</td>\n",
       "      <td>sklearn.ensemble._forest.RandomForestClassifier</td>\n",
       "      <td>True</td>\n",
       "    </tr>\n",
       "    <tr>\n",
       "      <th>qda</th>\n",
       "      <td>Quadratic Discriminant Analysis</td>\n",
       "      <td>sklearn.discriminant_analysis.QuadraticDiscriminantAnalysis</td>\n",
       "      <td>True</td>\n",
       "    </tr>\n",
       "    <tr>\n",
       "      <th>ada</th>\n",
       "      <td>Ada Boost Classifier</td>\n",
       "      <td>sklearn.ensemble._weight_boosting.AdaBoostClassifier</td>\n",
       "      <td>True</td>\n",
       "    </tr>\n",
       "    <tr>\n",
       "      <th>gbc</th>\n",
       "      <td>Gradient Boosting Classifier</td>\n",
       "      <td>sklearn.ensemble._gb.GradientBoostingClassifier</td>\n",
       "      <td>True</td>\n",
       "    </tr>\n",
       "    <tr>\n",
       "      <th>lda</th>\n",
       "      <td>Linear Discriminant Analysis</td>\n",
       "      <td>sklearn.discriminant_analysis.LinearDiscriminantAnalysis</td>\n",
       "      <td>True</td>\n",
       "    </tr>\n",
       "    <tr>\n",
       "      <th>et</th>\n",
       "      <td>Extra Trees Classifier</td>\n",
       "      <td>sklearn.ensemble._forest.ExtraTreesClassifier</td>\n",
       "      <td>True</td>\n",
       "    </tr>\n",
       "    <tr>\n",
       "      <th>xgboost</th>\n",
       "      <td>Extreme Gradient Boosting</td>\n",
       "      <td>xgboost.sklearn.XGBClassifier</td>\n",
       "      <td>True</td>\n",
       "    </tr>\n",
       "    <tr>\n",
       "      <th>lightgbm</th>\n",
       "      <td>Light Gradient Boosting Machine</td>\n",
       "      <td>lightgbm.sklearn.LGBMClassifier</td>\n",
       "      <td>True</td>\n",
       "    </tr>\n",
       "    <tr>\n",
       "      <th>catboost</th>\n",
       "      <td>CatBoost Classifier</td>\n",
       "      <td>catboost.core.CatBoostClassifier</td>\n",
       "      <td>True</td>\n",
       "    </tr>\n",
       "  </tbody>\n",
       "</table>\n",
       "</div>"
      ],
      "text/plain": [
       "                                     Name                                                    Reference  Turbo\n",
       "ID                                                                                                           \n",
       "lr                    Logistic Regression            sklearn.linear_model._logistic.LogisticRegression   True\n",
       "knn                K Neighbors Classifier       sklearn.neighbors._classification.KNeighborsClassifier   True\n",
       "nb                            Naive Bayes                               sklearn.naive_bayes.GaussianNB   True\n",
       "dt               Decision Tree Classifier                 sklearn.tree._classes.DecisionTreeClassifier   True\n",
       "svm                   SVM - Linear Kernel      sklearn.linear_model._stochastic_gradient.SGDClassifier   True\n",
       "rbfsvm                SVM - Radial Kernel                                     sklearn.svm._classes.SVC  False\n",
       "gpc           Gaussian Process Classifier      sklearn.gaussian_process._gpc.GaussianProcessClassifier  False\n",
       "mlp                        MLP Classifier                pycaret.internal.tunable.TunableMLPClassifier  False\n",
       "ridge                    Ridge Classifier                  sklearn.linear_model._ridge.RidgeClassifier   True\n",
       "rf               Random Forest Classifier              sklearn.ensemble._forest.RandomForestClassifier   True\n",
       "qda       Quadratic Discriminant Analysis  sklearn.discriminant_analysis.QuadraticDiscriminantAnalysis   True\n",
       "ada                  Ada Boost Classifier         sklearn.ensemble._weight_boosting.AdaBoostClassifier   True\n",
       "gbc          Gradient Boosting Classifier              sklearn.ensemble._gb.GradientBoostingClassifier   True\n",
       "lda          Linear Discriminant Analysis     sklearn.discriminant_analysis.LinearDiscriminantAnalysis   True\n",
       "et                 Extra Trees Classifier                sklearn.ensemble._forest.ExtraTreesClassifier   True\n",
       "xgboost         Extreme Gradient Boosting                                xgboost.sklearn.XGBClassifier   True\n",
       "lightgbm  Light Gradient Boosting Machine                              lightgbm.sklearn.LGBMClassifier   True\n",
       "catboost              CatBoost Classifier                             catboost.core.CatBoostClassifier   True"
      ]
     },
     "execution_count": 54,
     "metadata": {},
     "output_type": "execute_result"
    }
   ],
   "source": [
    "# check out the available models\n",
    "\n",
    "models(raise_errors=True)"
   ]
  },
  {
   "cell_type": "markdown",
   "metadata": {},
   "source": [
    "We choose 5 models to try out:\n",
    "['lightgbm','ada', 'lda','rf','svm']"
   ]
  },
  {
   "cell_type": "markdown",
   "metadata": {},
   "source": [
    "#### Compare 5 models"
   ]
  },
  {
   "cell_type": "code",
   "execution_count": 55,
   "metadata": {},
   "outputs": [
    {
     "name": "stdout",
     "output_type": "stream",
     "text": [
      "----- Model already exists - loading ...\n",
      "----- Model loaded.\n"
     ]
    }
   ],
   "source": [
    "import os\n",
    "import dill\n",
    "\n",
    "# If model with the same name already in pickles, just takes existing model\n",
    "\n",
    "path = '..\\\\PICKLES\\\\P7_04_PyCaret.pkl'\n",
    "\n",
    "if os.path.exists(path):\n",
    "    print('----- Model already exists - loading ...')\n",
    "    with open(path, 'rb') as file:\n",
    "         best_models = dill.load(file)\n",
    "    print('----- Model loaded.')\n",
    "    \n",
    "else:\n",
    "    print(\"Model not yet exists\")\n",
    "    # compare machine learning algorithms on preprocessed data (encoded and resampled)\n",
    "    best_models = compare_models(\n",
    "                                 include=['lightgbm','ada', 'lda','rf','svm'],\n",
    "                                 fold=4,\n",
    "                                 cross_validation=True,\n",
    "                                 sort='AUC',\n",
    "                                 n_select=10,\n",
    "                                 budget_time=None,\n",
    "                                 verbose=False # print results as it is computed\n",
    "                                )"
   ]
  },
  {
   "cell_type": "code",
   "execution_count": 56,
   "metadata": {},
   "outputs": [],
   "source": [
    "# ### Pickling the model\n",
    "\n",
    "# import dill\n",
    "\n",
    "# with open('..\\\\PICKLES\\\\P7_04_PyCaret.pkl', 'wb') as file:\n",
    "#     dill.dump(best_models, file)"
   ]
  },
  {
   "cell_type": "code",
   "execution_count": 57,
   "metadata": {},
   "outputs": [],
   "source": [
    "# get the results in a dataframe\n",
    "\n",
    "best_models_scores_df = pull()\n",
    "best_models_scores_df"
   ]
  },
  {
   "cell_type": "code",
   "execution_count": 58,
   "metadata": {},
   "outputs": [
    {
     "ename": "AttributeError",
     "evalue": "'NoneType' object has no attribute 'index'",
     "output_type": "error",
     "traceback": [
      "\u001b[1;31m---------------------------------------------------------------------------\u001b[0m",
      "\u001b[1;31mAttributeError\u001b[0m                            Traceback (most recent call last)",
      "\u001b[1;32m<ipython-input-58-bb4f50c8a5b6>\u001b[0m in \u001b[0;36m<module>\u001b[1;34m\u001b[0m\n\u001b[0;32m      1\u001b[0m \u001b[1;31m# put the best models in a dictionary\u001b[0m\u001b[1;33m\u001b[0m\u001b[1;33m\u001b[0m\u001b[1;33m\u001b[0m\u001b[0m\n\u001b[0;32m      2\u001b[0m \u001b[1;33m\u001b[0m\u001b[0m\n\u001b[1;32m----> 3\u001b[1;33m \u001b[0mdict_models\u001b[0m \u001b[1;33m=\u001b[0m \u001b[1;33m{\u001b[0m\u001b[0mmodel_name\u001b[0m\u001b[1;33m:\u001b[0m \u001b[0mmodel\u001b[0m \u001b[1;32mfor\u001b[0m \u001b[0mmodel_name\u001b[0m\u001b[1;33m,\u001b[0m \u001b[0mmodel\u001b[0m \u001b[1;32min\u001b[0m \u001b[0mzip\u001b[0m\u001b[1;33m(\u001b[0m\u001b[0mbest_models_scores_df\u001b[0m\u001b[1;33m.\u001b[0m\u001b[0mindex\u001b[0m\u001b[1;33m,\u001b[0m \u001b[0mbest_models\u001b[0m\u001b[1;33m)\u001b[0m\u001b[1;33m}\u001b[0m\u001b[1;33m\u001b[0m\u001b[1;33m\u001b[0m\u001b[0m\n\u001b[0m\u001b[0;32m      4\u001b[0m \u001b[1;31m# dict_models = {(str(m)).split('(')[0]: m for m in best_models}\u001b[0m\u001b[1;33m\u001b[0m\u001b[1;33m\u001b[0m\u001b[1;33m\u001b[0m\u001b[0m\n",
      "\u001b[1;31mAttributeError\u001b[0m: 'NoneType' object has no attribute 'index'"
     ]
    }
   ],
   "source": [
    "# put the best models in a dictionary\n",
    "\n",
    "dict_models = {model_name: model for model_name, model in zip(best_models_scores_df.index, best_models)}\n",
    "# dict_models = {(str(m)).split('(')[0]: m for m in best_models}"
   ]
  },
  {
   "cell_type": "code",
   "execution_count": null,
   "metadata": {},
   "outputs": [],
   "source": [
    "# Computes scores of all models\n",
    "\n",
    "li_scores=['accuracy','bal_accuracy','recall_score','precision_score',\n",
    "           'f1_score','f5_score','roc_auc_score','pr_auc_score',\n",
    "           'cohen_kapp','mcc_score','gain_level']\n",
    "df_pycaret = pd.DataFrame()\n",
    "\n",
    "for n_model in list(dict_models.keys()):\n",
    "    \n",
    "    model = dict_models[n_model]\n",
    "    \n",
    "    data_tr = pd.concat([X_tr, y_tr], axis=1)\n",
    "    prediction = predict_model(model, data=data_tr)\n",
    "    if 'Score' in prediction.columns:\n",
    "        y_proba = prediction['Score']\n",
    "    else:\n",
    "        y_proba = None\n",
    "    df_pycaret = model_scores(y_t=prediction['TARGET'],\n",
    "                              y_p=prediction['Label'],\n",
    "                              y_proba=y_proba,\n",
    "                              title=n_model+'_tr',\n",
    "                              df=df_pycaret,\n",
    "                              li_scores=li_scores)\n",
    "    \n",
    "    data_te = pd.concat([X_te, y_te], axis=1)\n",
    "    prediction = predict_model(model, data = data_te)\n",
    "    if 'Score' in prediction.columns:\n",
    "        y_proba = prediction['Score']\n",
    "    else:\n",
    "        y_proba = None\n",
    "    df_pycaret = model_scores(y_t=prediction['TARGET'],\n",
    "                              y_p=prediction['Label'],\n",
    "                              y_proba=y_proba,\n",
    "                              title=n_model+'_te',\n",
    "                              df=df_pycaret,\n",
    "                              li_scores=li_scores)\n",
    "\n",
    "df_pycaret"
   ]
  },
  {
   "cell_type": "code",
   "execution_count": null,
   "metadata": {},
   "outputs": [],
   "source": [
    "#### VERIFIER QUE LA REPARATION MARCHE\n",
    "\n",
    "from ipywidgets import interact\n",
    "@interact\n",
    "def plot_inter_sankey(model_name=(list(dict_models.keys())), y_name=['X_tr', 'X_te']):\n",
    "    # Computes scores\n",
    "    model = dict_models[model_name]\n",
    "    \n",
    "    if y_name =='X_te':\n",
    "        data = data_tr\n",
    "#         X = X_te_enc\n",
    "#         y = y_te\n",
    "    else:\n",
    "        data = data_te\n",
    "#         X = X_tr_enc\n",
    "#         y = y_tr\n",
    "        \n",
    "    y_pred = model.predict(X)\n",
    "    prediction = predict_model(model, data=data)\n",
    "    \n",
    "    cm = pd.crosstab(y.replace({0: 'repaid (true val)',\n",
    "                                1: 'not repaid (true val)'}).rename('True values').values,\n",
    "                    pd.Series(prediction['Label']).replace({0: 'repaid (pred val)',\n",
    "                                                            1: 'not repaid (pred val)'})\\\n",
    "                                                  .rename('Pred values').values)\n",
    "    plot_sankey_confusion_mat(cm, static=False, figsize=(0.2, 0.7),\n",
    "                              font_size=14, palette=['r', 'g'],\n",
    "                              title=f\"PyCaret Classifier : {model_name} on {y_name} dataset\")"
   ]
  },
  {
   "cell_type": "code",
   "execution_count": null,
   "metadata": {},
   "outputs": [],
   "source": [
    "## A FAIRE : tester undersampling intelligent"
   ]
  },
  {
   "cell_type": "markdown",
   "metadata": {},
   "source": [
    "### 3.4 Bayesian Optimisation on f5_score (OptunaSearchCV)"
   ]
  },
  {
   "cell_type": "markdown",
   "metadata": {},
   "source": [
    "All the following steps are included in a pipeline:\n",
    "\n",
    "- encoding of categorical data and scaling of quantitative data\n",
    "- oversampling using SMOTE\n",
    "- feature selection using SelectFromModel (lgbm)\n",
    "- classification using lgbm\n",
    "\n",
    "Input data are thus not encoded and not yet resampled."
   ]
  },
  {
   "cell_type": "code",
   "execution_count": null,
   "metadata": {},
   "outputs": [],
   "source": [
    "# ‘gbdt’, traditional Gradient Boosting Decision Tree\n",
    "# ‘dart’, Dropouts meet Multiple Additive Regression Trees\n",
    "# ‘goss’, Gradient-based One-Side Sampling\n",
    "# ‘rf’, Random Forest"
   ]
  },
  {
   "cell_type": "code",
   "execution_count": null,
   "metadata": {},
   "outputs": [],
   "source": [
    "# num_boost_round=500,\n",
    "# early_stopping_rounds"
   ]
  },
  {
   "cell_type": "markdown",
   "metadata": {},
   "source": [
    "#### Optimisation"
   ]
  },
  {
   "cell_type": "code",
   "execution_count": null,
   "metadata": {},
   "outputs": [],
   "source": [
    "### OptunaSearchCV\n",
    "\n",
    "import optuna\n",
    "from optuna.distributions import IntUniformDistribution as IntUniDist\n",
    "from optuna.distributions import UniformDistribution as UniDist\n",
    "from optuna.distributions import LogUniformDistribution as LogUniDist\n",
    "from optuna.distributions import CategoricalDistribution as CatDist\n",
    "from sklearn.pipeline import Pipeline\n",
    "from imblearn.pipeline import Pipeline as ImbPipeline\n",
    "from imblearn.over_sampling import SMOTE\n",
    "from sklearn.feature_selection import SelectFromModel\n",
    "from lightgbm import LGBMClassifier\n",
    "# from sklearn.svm import SVC\n",
    "\n",
    "pipe = ImbPipeline([\n",
    "                    ('preproc', CustTransformer(thresh_card=8,\n",
    "                                                strat_binary='ord',\n",
    "                                                strat_low_card='ohe',\n",
    "                                                strat_high_card='loo',\n",
    "                                                strat_quant='stand'\n",
    "                                               )), # normalisation and encoding\n",
    "#                     ('outl_filter', IsolForestSampleFilter()), # outlier cleaning\n",
    "#                     ('resamp', SMOTE(random_state=14)), # resampling,\n",
    "                    ('featsel', SelectFromModel(LGBMClassifier())), # resampling,\n",
    "                    ('clf', LGBMClassifier(random_state=14)) # classification\n",
    "                   ])\n",
    "\n",
    "param_distributions = {    \n",
    "                       'preproc__strat_binary': CatDist(['ord']),\n",
    "                        'preproc__strat_low_card': CatDist(['ohe']),\n",
    "                        'preproc__strat_high_card': CatDist(['loo', 'bin']),\n",
    "                        'preproc__strat_quant': CatDist(['stand']),\n",
    "# #                   'resamp__k_neighbors': [5,10],\n",
    "                    'featsel__max_features': IntUniDist(5, 80),\n",
    "#  #             'outl_filter__n_estimators': [50,100],\n",
    "                'clf__boosting_type': CatDist(['gbdt']), #'rf', 'dart', 'goss'\n",
    "                'clf__extra_trees': CatDist([True, False]),\n",
    "                'clf__is_unbalance': CatDist([True]),\n",
    "                'clf__n_estimators': IntUniDist(10, 2000),\n",
    "                'clf__num_leaves': IntUniDist(10, 200),\n",
    "                'clf__reg_alpha': LogUniDist(1e-5, 1e0),\n",
    "                'clf__reg_lambda':  LogUniDist(1e-3, 1e0),\n",
    "                'clf__learning_rate': LogUniDist(1e-4, 1e-1),\n",
    "                'clf__max_depth': IntUniDist(-1,5),\n",
    "                }\n",
    "\n",
    "optuna_search1 = optuna.integration.OptunaSearchCV(\n",
    "                                                  pipe,\n",
    "                                                  param_distributions,\n",
    "                                                  n_trials=None,\n",
    "                                                  timeout=3600, # 10 minutes\n",
    "                                                  verbose=2,\n",
    "                                                  refit=True,\n",
    "                                                  scoring=f5_scorer, # gain_level_scorer\n",
    "                                                  cv=4,\n",
    "                                                  return_train_score=True\n",
    "                                                  )"
   ]
  },
  {
   "cell_type": "code",
   "execution_count": null,
   "metadata": {},
   "outputs": [],
   "source": [
    "import os\n",
    "import dill\n",
    "\n",
    "# If model with the same name already in pickles, just takes existing model\n",
    "\n",
    "path = '..\\\\PICKLES\\\\P7_04_optsearch1.pkl'\n",
    "\n",
    "if os.path.exists(path):\n",
    "    print('----- Model already exists - loading ...')\n",
    "    with open(path, 'rb') as file:\n",
    "         optuna_search1 = dill.load(file)\n",
    "    print('----- Model loaded.')\n",
    "    \n",
    "else:\n",
    "    print(\"Model not yet exists\")\n",
    "    # lauch Optuna optimization of the pipeline\n",
    "#     ind_samp = X_tr.sample(100000).index # 100 000\n",
    "    optuna_search1.fit(X_tr,#.loc[ind_samp],\n",
    "                      y_tr)#.loc[ind_samp])\n",
    "    model1 = optuna_search1.best_estimator_"
   ]
  },
  {
   "cell_type": "code",
   "execution_count": null,
   "metadata": {},
   "outputs": [],
   "source": [
    "### Pickling the model\n",
    "\n",
    "import dill\n",
    "\n",
    "with open('..\\\\PICKLES\\\\P7_04_optsearch1.pkl', 'wb') as file:\n",
    "    dill.dump(optuna_search1, file)"
   ]
  },
  {
   "cell_type": "markdown",
   "metadata": {},
   "source": [
    "#### Best parameters"
   ]
  },
  {
   "cell_type": "code",
   "execution_count": null,
   "metadata": {},
   "outputs": [],
   "source": [
    "# print the parameters of the best trial\n",
    "\n",
    "print(\"Best trial on {} trials:\".format(optuna_search1.n_trials_))\n",
    "trial = optuna_search1.study_.best_trial\n",
    "\n",
    "print(\"  Value: \", trial.value)\n",
    "print(\"  Params: \")\n",
    "\n",
    "for key, value in trial.params.items():\n",
    "    print(\"    {}: {}\".format(key, value))"
   ]
  },
  {
   "cell_type": "markdown",
   "metadata": {},
   "source": [
    "#### Confusion matrix"
   ]
  },
  {
   "cell_type": "code",
   "execution_count": null,
   "metadata": {},
   "outputs": [],
   "source": [
    "# computes confusion matrix on the test set\n",
    "cm_te = pd.crosstab(y_te.replace({0: 'repaid (true val)',\n",
    "                                  1: 'not repaid (true val)'}).rename('True values').values,\n",
    "                 pd.Series(model1.predict(X_te)).replace({0: 'repaid (pred val)',\n",
    "                                               1: 'not repaid (pred val)'}).rename('Pred values').values)\n",
    "cm_te"
   ]
  },
  {
   "cell_type": "code",
   "execution_count": null,
   "metadata": {},
   "outputs": [],
   "source": [
    "# computes confusion matrixon the training set\n",
    "cm_tr = pd.crosstab(y_tr.replace({0: 'repaid (true val)',\n",
    "                               1: 'not repaid (true val)'}).rename('True values').values,\n",
    "                 pd.Series(model1.predict(X_tr)).replace({0: 'repaid (pred val)',\n",
    "                                               1: 'not repaid (pred val)'}).rename('Pred values').values)\n",
    "cm_tr"
   ]
  },
  {
   "cell_type": "code",
   "execution_count": null,
   "metadata": {},
   "outputs": [],
   "source": [
    "# to get interactive sankey confusion graph\n",
    "plot_sankey_confusion_mat(cm_te, static=False, figsize=(0.2, 0.7),\n",
    "                          font_size=14, palette=['r', 'g'],\n",
    "                          title=\"Light GBM classifier (Optimized)\")\n",
    "\n",
    "# # to get static sankey confusion graph\n",
    "# import plotly.graph_objects as go\n",
    "# from IPython.display import Image\n",
    "\n",
    "# img_bytes = plot_sankey_confusion_mat(cm_te, static=True, font_size=18,\n",
    "#                                       figsize=(2, 1.7), scale = 1)\n",
    "# Image(img_bytes)"
   ]
  },
  {
   "cell_type": "markdown",
   "metadata": {},
   "source": [
    "#### Scores"
   ]
  },
  {
   "cell_type": "code",
   "execution_count": null,
   "metadata": {},
   "outputs": [],
   "source": [
    "# plot the evolution of the score during optimization\n",
    "\n",
    "trials_df = optuna_search1.trials_dataframe()\n",
    "# idx = trials_df.value.idxmin()\n",
    "\n",
    "fig = plt.figure(figsize=(12,3))\n",
    "\n",
    "ax1 = fig.add_subplot(1,2,1)\n",
    "trials_df[['user_attrs_mean_test_score',\n",
    "           'user_attrs_mean_train_score']].plot(ax=ax1,\n",
    "                                                color=['navy', 'orange'])\n",
    "ax1 = plt.gca()\n",
    "ax1.set_ylabel('Score')\n",
    "ax1.set(ylim=(0,1.1))\n",
    "\n",
    "ax2 = fig.add_subplot(1,2,2)\n",
    "# ax2 = ax1.twinx()\n",
    "trials_df[['user_attrs_mean_fit_time',\n",
    "           'user_attrs_mean_score_time']].plot(ax=ax2,\n",
    "                                               color=['red', 'green']) \n",
    "ax2.set_ylabel('Time')"
   ]
  },
  {
   "cell_type": "code",
   "execution_count": null,
   "metadata": {},
   "outputs": [],
   "source": [
    "# Computes scores (compare optuna optimized model)\n",
    "\n",
    "df_optuna = pd.DataFrame()\n",
    "\n",
    "y_pred_tr = model1.predict(X_tr)\n",
    "y_pred_proba_tr = model1.predict_proba(X_tr)[:,1]\n",
    "y_pred_te = model1.predict(X_te)\n",
    "y_pred_proba_te = model1.predict_proba(X_te)[:,1]\n",
    "\n",
    "df_optuna = model_scores(y_tr, y_pred_tr, y_pred_proba_tr, title='lgbm_pipe_opt_tr', df=df_optuna)\n",
    "df_optuna = model_scores(y_te, y_pred_te, y_pred_proba_te, title='lgbm_pipe_opt_te', df=df_optuna)\n",
    "\n",
    "df_optuna"
   ]
  },
  {
   "cell_type": "markdown",
   "metadata": {},
   "source": [
    "#### Plot scores while tuning hyperparameters"
   ]
  },
  {
   "cell_type": "code",
   "execution_count": null,
   "metadata": {},
   "outputs": [],
   "source": [
    "param_distributions.keys()"
   ]
  },
  {
   "cell_type": "code",
   "execution_count": null,
   "metadata": {},
   "outputs": [],
   "source": [
    "plot_hyperparam_tuning_optuna(gs=optuna_search1, grid_params=param_distributions,\n",
    "                              params=param_distributions.keys(), score='gain_level',\n",
    "                              pooled_std=False, agg_func=np.mean)"
   ]
  },
  {
   "cell_type": "code",
   "execution_count": null,
   "metadata": {},
   "outputs": [],
   "source": [
    "# pd.DataFrame(optuna_search.trials_dataframe())"
   ]
  },
  {
   "cell_type": "code",
   "execution_count": null,
   "metadata": {
    "scrolled": true
   },
   "outputs": [],
   "source": [
    "fig = plt.figure(figsize=(15,7))\n",
    "\n",
    "score = 'f5_score'\n",
    "\n",
    "params1 = ['featsel__max_features', 'preproc__strat_high_card']\n",
    "params2 = ['clf__max_depth', 'clf__extra_trees']\n",
    "params3 = ['clf__reg_alpha', 'clf__reg_lambda']\n",
    "params4 = ['clf__n_estimators', 'clf__num_leaves']\n",
    "params5 = ['clf__reg_alpha', 'clf__reg_lambda']\n",
    "params6 = ['clf__learning_rate', 'clf__max_depth']\n",
    "                 \n",
    "ax1 = fig.add_subplot(2,3,1)                \n",
    "plot_2D_hyperparam_tuning_optuna(optuna_search1, params=params1,\n",
    "                                 title=score, fmt=None, ax=ax1) # '.2g'            \n",
    "ax2 = fig.add_subplot(2,3,2)                \n",
    "plot_2D_hyperparam_tuning_optuna(optuna_search1, params=params2,\n",
    "                                 title=score, fmt=None, ax=ax2)              \n",
    "ax3 = fig.add_subplot(2,3,3)                \n",
    "plot_2D_hyperparam_tuning_optuna(optuna_search1, params=params3,\n",
    "                                 title=score, fmt=None, ax=ax3)\n",
    "ax4 = fig.add_subplot(2,3,4)                \n",
    "plot_2D_hyperparam_tuning_optuna(optuna_search1, params=params4,\n",
    "                                 title=score, fmt=None, ax=ax4) # '.2g'  \n",
    "ax5 = fig.add_subplot(2,3,5)                \n",
    "plot_2D_hyperparam_tuning_optuna(optuna_search1, params=params5,\n",
    "                                 title=score, fmt=None, ax=ax5)              \n",
    "ax6 = fig.add_subplot(2,3,6)                \n",
    "plot_2D_hyperparam_tuning_optuna(optuna_search1, params=params6,\n",
    "                                 title=score, fmt=None, ax=ax6)\n",
    "\n",
    "\n",
    "plt.tight_layout()\n",
    "plt.show()"
   ]
  },
  {
   "cell_type": "markdown",
   "metadata": {},
   "source": [
    "#### Learning curve"
   ]
  },
  {
   "cell_type": "code",
   "execution_count": null,
   "metadata": {},
   "outputs": [],
   "source": [
    "import os\n",
    "import dill\n",
    "\n",
    "# If model with the same name already in dict_models, just takes existing model\n",
    "if os.path.exists('..\\\\PICKLES\\\\P7_04_learn_curves.pkl'):\n",
    "    print('-----Learning curves dictionary already exists - loading ...')\n",
    "    with open('P7_04_learn_curves.pkl', 'rb') as file:\n",
    "         dict_learn_curves = dill.load(file)\n",
    "    print('-----Learning curves loaded.')\n",
    "else:\n",
    "    print(\"No Learning curve.\")\n",
    "    dict_learn_curves = None\n"
   ]
  },
  {
   "cell_type": "code",
   "execution_count": null,
   "metadata": {},
   "outputs": [],
   "source": [
    "# compute and/or plot the learning curve of the pipeline optimized with Optuna A FAIRE TOURNER\n",
    "# ind_samp = X_tr.sample(1000).index\n",
    "dict_learn_curves = plot_learning_curve('model1', model1,\n",
    "                                        X_tr, y_tr, #.loc[ind_samp],\n",
    "                                        ylim=None, cv=5,\n",
    "                                        scoring=gain_level_scorer,\n",
    "                                        score_name = \"Score\",\n",
    "                                        file_name='..\\\\PICKLES\\\\P7_04_learn_curves.pkl',\n",
    "                                        dict_learn_curves=dict_learn_curves,\n",
    "                                        n_jobs=-1,\n",
    "                                        train_sizes=np.linspace(.1, 1.0, 2),\n",
    "                                        c='r',\n",
    "                                        axes=None,\n",
    "                                        title=None)"
   ]
  },
  {
   "cell_type": "code",
   "execution_count": null,
   "metadata": {},
   "outputs": [],
   "source": [
    "#### NO NEED: DUMPING IN THE CELL ABOVE\n",
    "# ### Pickling the model\n",
    "# import dill\n",
    "# with open('..\\\\PICKLES\\\\P7_04_learn_curves.pkl', 'wb') as file:\n",
    "#     dill.dump(dict_learn_curves, file)"
   ]
  },
  {
   "cell_type": "markdown",
   "metadata": {},
   "source": [
    "#### Feature importance"
   ]
  },
  {
   "cell_type": "code",
   "execution_count": null,
   "metadata": {},
   "outputs": [],
   "source": [
    "import copy\n",
    "\n",
    "model1 = copy.deepcopy(optuna_search1.best_estimator_)\n",
    "\n",
    "# getting the first pre-processing steps of the pipeline\n",
    "prepro = model1[:-1]\n",
    "\n",
    "# getting the last estimator (classifier) of the pipeline\n",
    "clf = model1[-1]\n",
    "\n",
    "# get the preprocessed data\n",
    "X_tr_prepro = prepro.transform(X_tr)"
   ]
  },
  {
   "cell_type": "markdown",
   "metadata": {},
   "source": [
    "### 3.5 Bayesian Optimisation on AUC (OptunaSearchCV)\n",
    "\n",
    "All the following steps are included in a pipeline:\n",
    "\n",
    "- encoding of categorical data and scaling of quantitative data\n",
    "- oversampling using SMOTE\n",
    "- feature selection using SelectFromModel (lgbm)\n",
    "- classification using lgbm\n",
    "\n",
    "\n",
    "Input data are thus not encoded and not yet resampled."
   ]
  },
  {
   "cell_type": "code",
   "execution_count": null,
   "metadata": {},
   "outputs": [],
   "source": [
    "# ‘gbdt’, traditional Gradient Boosting Decision Tree\n",
    "# ‘dart’, Dropouts meet Multiple Additive Regression Trees\n",
    "# ‘goss’, Gradient-based One-Side Sampling\n",
    "# ‘rf’, Random Forest\n",
    "\n",
    "# num_boost_round=500,\n",
    "# early_stopping_rounds\n",
    "\n",
    "#### Optimisation\n",
    "\n",
    "### OptunaSearchCV\n",
    "\n",
    "import optuna\n",
    "from optuna.distributions import IntUniformDistribution as IntUniDist\n",
    "from optuna.distributions import UniformDistribution as UniDist\n",
    "from optuna.distributions import LogUniformDistribution as LogUniDist\n",
    "from optuna.distributions import CategoricalDistribution as CatDist\n",
    "from sklearn.pipeline import Pipeline\n",
    "from imblearn.pipeline import Pipeline as ImbPipeline\n",
    "from imblearn.over_sampling import SMOTE\n",
    "from sklearn.feature_selection import SelectFromModel\n",
    "from lightgbm import LGBMClassifier\n",
    "\n",
    "pipe = ImbPipeline([\n",
    "                    ('preproc', CustTransformer(thresh_card=8,\n",
    "                                                strat_binary='ord',\n",
    "                                                strat_low_card='ohe',\n",
    "                                                strat_high_card='loo',\n",
    "                                                strat_quant='stand'\n",
    "                                               )), # normalisation and encoding\n",
    "#                     ('outl_filter', IsolForestSampleFilter()), # outlier cleaning\n",
    "                    ('resamp', SMOTE(random_state=14)), # resampling,\n",
    "                    ('featsel', SelectFromModel(LGBMClassifier())), # resampling,\n",
    "                    ('clf', LGBMClassifier(random_state=14)) # classification\n",
    "                   ])\n",
    "\n",
    "param_distributions = {    \n",
    "                       'preproc__strat_binary': CatDist(['ord']),\n",
    "                        'preproc__strat_low_card': CatDist(['ohe']),\n",
    "                        'preproc__strat_high_card': CatDist(['bin']),\n",
    "                        'preproc__strat_quant': CatDist(['stand']),\n",
    "                        'resamp__sampling_strategy': UniDist(0.09,0.6),\n",
    "# #                   'resamp__k_neighbors': [5,10],\n",
    "                    'featsel__max_features': IntUniDist(5, 80),\n",
    "# #             'outl_filter__n_estimators': [50,100],\n",
    "                'clf__boosting_type': CatDist(['gbdt']), #'rf', 'dart', 'goss'\n",
    "                'clf__extra_trees': CatDist([True, False]),\n",
    "                'clf__is_unbalance': CatDist([True]),\n",
    "                'clf__n_estimators': IntUniDist(10, 2000),\n",
    "                'clf__num_leaves': IntUniDist(10, 200),\n",
    "                'clf__reg_alpha': LogUniDist(1e-5, 1e0),\n",
    "                'clf__reg_lambda':  LogUniDist(1e-3, 1e0),\n",
    "                'clf__learning_rate': LogUniDist(1e-4, 1e0),\n",
    "                'clf__max_depth': IntUniDist(-1,5),\n",
    "                }\n",
    "\n",
    "optuna_search2 = optuna.integration.OptunaSearchCV(\n",
    "                                                  pipe,\n",
    "                                                  param_distributions,\n",
    "                                                  n_trials=None,\n",
    "                                                  timeout=3600, # 10 minutes\n",
    "                                                  verbose=2,\n",
    "                                                  refit=True,\n",
    "                                                  scoring=roc_auc_scorer, # gain_level_scorer\n",
    "                                                  cv=4,\n",
    "                                                  return_train_score=True\n",
    "                                                  )"
   ]
  },
  {
   "cell_type": "code",
   "execution_count": null,
   "metadata": {
    "scrolled": true
   },
   "outputs": [],
   "source": [
    "import os\n",
    "import dill\n",
    "\n",
    "# If model with the same name already in pickles, just takes existing model\n",
    "\n",
    "path = '..\\\\PICKLES\\\\P7_04_optsearch2.pkl'\n",
    "\n",
    "if os.path.exists(path):\n",
    "    print('----- Model already exists - loading ...')\n",
    "    with open(path, 'rb') as file:\n",
    "         optuna_search2 = dill.load(file)\n",
    "    print('----- Model loaded.')\n",
    "    \n",
    "else:\n",
    "    print(\"Model not yet exists\")\n",
    "    # lauch Optuna optimization of the pipeline\n",
    "#     ind_samp = X_tr.sample(1000).index # 100 000\n",
    "    optuna_search2.fit(X_tr,#.loc[ind_samp],\n",
    "                      y_tr)#.loc[ind_samp])\n",
    "    model2 = optuna_search2.best_estimator_"
   ]
  },
  {
   "cell_type": "code",
   "execution_count": null,
   "metadata": {},
   "outputs": [],
   "source": [
    "### Pickling the model\n",
    "\n",
    "import dill\n",
    "\n",
    "with open('..\\\\PICKLES\\\\P7_04_optsearch2.pkl', 'wb') as file:\n",
    "    dill.dump(optuna_search2, file)"
   ]
  },
  {
   "cell_type": "markdown",
   "metadata": {},
   "source": [
    "### 3.5 bis Bayesian Optimisation on average precision (ie PR  curve AUC) (OptunaSearchCV)\n",
    "\n",
    "All the following steps are included in a pipeline:\n",
    "\n",
    "- encoding of categorical data and scaling of quantitative data\n",
    "- oversampling using SMOTE\n",
    "- feature selection using SelectFromModel (lgbm)\n",
    "- classification using lgbm\n",
    "\n",
    "\n",
    "Input data are thus not encoded and not yet resampled."
   ]
  },
  {
   "cell_type": "code",
   "execution_count": null,
   "metadata": {},
   "outputs": [],
   "source": [
    "# ‘gbdt’, traditional Gradient Boosting Decision Tree\n",
    "# ‘dart’, Dropouts meet Multiple Additive Regression Trees\n",
    "# ‘goss’, Gradient-based One-Side Sampling\n",
    "# ‘rf’, Random Forest\n",
    "\n",
    "# num_boost_round=500,\n",
    "# early_stopping_rounds\n",
    "\n",
    "#### Optimisation\n",
    "\n",
    "### OptunaSearchCV\n",
    "\n",
    "import optuna\n",
    "from optuna.distributions import IntUniformDistribution as IntUniDist\n",
    "from optuna.distributions import UniformDistribution as UniDist\n",
    "from optuna.distributions import LogUniformDistribution as LogUniDist\n",
    "from optuna.distributions import CategoricalDistribution as CatDist\n",
    "from sklearn.pipeline import Pipeline\n",
    "from imblearn.pipeline import Pipeline as ImbPipeline\n",
    "from imblearn.over_sampling import SMOTE\n",
    "from sklearn.feature_selection import SelectFromModel\n",
    "from lightgbm import LGBMClassifier\n",
    "\n",
    "pipe = ImbPipeline([\n",
    "                    ('preproc', CustTransformer(thresh_card=8,\n",
    "                                                strat_binary='ord',\n",
    "                                                strat_low_card='ohe',\n",
    "                                                strat_high_card='loo',\n",
    "                                                strat_quant='stand'\n",
    "                                               )), # normalisation and encoding\n",
    "#                     ('outl_filter', IsolForestSampleFilter()), # outlier cleaning\n",
    "                    ('resamp', SMOTE(random_state=14)), # resampling,\n",
    "                    ('featsel', SelectFromModel(LGBMClassifier())), # resampling,\n",
    "                    ('clf', LGBMClassifier(random_state=14)) # classification\n",
    "                   ])\n",
    "\n",
    "param_distributions = {    \n",
    "                       'preproc__strat_binary': CatDist(['ord']),\n",
    "                        'preproc__strat_low_card': CatDist(['ohe']),\n",
    "                        'preproc__strat_high_card': CatDist(['bin']),\n",
    "                        'preproc__strat_quant': CatDist(['stand']),\n",
    "                        'resamp__sampling_strategy': UniDist(0.09,0.6),\n",
    "# #                   'resamp__k_neighbors': [5,10],\n",
    "                    'featsel__max_features': IntUniDist(5, 80),\n",
    "#  #             'outl_filter__n_estimators': [50,100],\n",
    "                'clf__boosting_type': CatDist(['gbdt']), #'rf', 'dart', 'goss'\n",
    "                'clf__extra_trees': CatDist([True, False]),\n",
    "                'clf__is_unbalance': CatDist([True]),\n",
    "                'clf__n_estimators': IntUniDist(10, 2000),\n",
    "                'clf__num_leaves': IntUniDist(10, 200),\n",
    "                'clf__reg_alpha': LogUniDist(1e-5, 1e0),\n",
    "                'clf__reg_lambda':  LogUniDist(1e-3, 1e0),\n",
    "                'clf__learning_rate': LogUniDist(1e-4, 1e0),\n",
    "                'clf__max_depth': IntUniDist(-1,5),\n",
    "                }\n",
    "\n",
    "optuna_search2bis = optuna.integration.OptunaSearchCV(\n",
    "                                                  pipe,\n",
    "                                                  param_distributions,\n",
    "                                                  n_trials=None,\n",
    "                                                  timeout=3600,\n",
    "                                                  verbose=2,\n",
    "                                                  refit=True,\n",
    "                                                  scoring=pr_auc_scorer, # gain_level_scorer\n",
    "                                                  cv=4,\n",
    "                                                  return_train_score=True\n",
    "                                                  )"
   ]
  },
  {
   "cell_type": "code",
   "execution_count": null,
   "metadata": {},
   "outputs": [],
   "source": [
    "######## OPTIMISATION A LANCER\n",
    "\n",
    "import os\n",
    "import dill\n",
    "\n",
    "# If model with the same name already in pickles, just takes existing model\n",
    "\n",
    "path = '..\\\\PICKLES\\\\P7_04_optsearch2bis.pkl'\n",
    "\n",
    "if os.path.exists(path):\n",
    "    print('----- Model already exists - loading ...')\n",
    "    with open(path, 'rb') as file:\n",
    "         optuna_search2bis = dill.load(file)\n",
    "    print('----- Model loaded.')\n",
    "    \n",
    "else:\n",
    "    print(\"Model not yet exists\")\n",
    "    # lauch Optuna optimization of the pipeline\n",
    "#     ind_samp = X_tr.sample(1000).index # 100 000\n",
    "    optuna_search2bis.fit(X_tr,#.loc[ind_samp],\n",
    "                      y_tr)#.loc[ind_samp])\n",
    "    model2bis = optuna_search2bis.best_estimator_\n"
   ]
  },
  {
   "cell_type": "code",
   "execution_count": null,
   "metadata": {},
   "outputs": [],
   "source": [
    "### Pickling the model\n",
    "\n",
    "import dill\n",
    "\n",
    "with open('..\\\\PICKLES\\\\P7_04_optsearch2bis.pkl', 'wb') as file:\n",
    "    dill.dump(optuna_search2bis, file)"
   ]
  },
  {
   "cell_type": "markdown",
   "metadata": {},
   "source": [
    "### 3.6 Bayesian Optimisation on MCC (OptunaSearchCV)\n",
    "\n",
    "All the following steps are included in a pipeline:\n",
    "\n",
    "- encoding of categorical data and scaling of quantitative data\n",
    "- oversampling using SMOTE\n",
    "- feature selection using SelectFromModel (lgbm)\n",
    "- classification using lgbm\n",
    "\n",
    "Input data are thus not encoded and not yet resampled."
   ]
  },
  {
   "cell_type": "code",
   "execution_count": null,
   "metadata": {},
   "outputs": [],
   "source": [
    "# ‘gbdt’, traditional Gradient Boosting Decision Tree\n",
    "# ‘dart’, Dropouts meet Multiple Additive Regression Trees\n",
    "# ‘goss’, Gradient-based One-Side Sampling\n",
    "# ‘rf’, Random Forest\n",
    "\n",
    "# num_boost_round=500,\n",
    "# early_stopping_rounds\n",
    "\n",
    "#### Optimisation\n",
    "\n",
    "### OptunaSearchCV\n",
    "\n",
    "import optuna\n",
    "from optuna.distributions import IntUniformDistribution as IntUniDist\n",
    "from optuna.distributions import UniformDistribution as UniDist\n",
    "from optuna.distributions import LogUniformDistribution as LogUniDist\n",
    "from optuna.distributions import CategoricalDistribution as CatDist\n",
    "from sklearn.pipeline import Pipeline\n",
    "from imblearn.pipeline import Pipeline as ImbPipeline\n",
    "from imblearn.over_sampling import SMOTE\n",
    "from sklearn.feature_selection import SelectFromModel\n",
    "from lightgbm import LGBMClassifier\n",
    "# from sklearn.svm import SVC\n",
    "\n",
    "pipe = ImbPipeline([\n",
    "                    ('preproc', CustTransformer(thresh_card=8,\n",
    "                                                strat_binary='ord',\n",
    "                                                strat_low_card='ohe',\n",
    "                                                strat_high_card='loo',\n",
    "                                                strat_quant='stand'\n",
    "                                               )), # normalisation and encoding\n",
    "#                     ('outl_filter', IsolForestSampleFilter()), # outlier cleaning\n",
    "                    ('resamp', SMOTE(random_state=14)), # resampling,\n",
    "                    ('featsel', SelectFromModel(LGBMClassifier())), # resampling,\n",
    "                    ('clf', LGBMClassifier(random_state=14)) # classification\n",
    "                   ])\n",
    "\n",
    "param_distributions = {    \n",
    "                       'preproc__strat_binary': CatDist(['ord']),\n",
    "                        'preproc__strat_low_card': CatDist(['ohe']),\n",
    "                        'preproc__strat_high_card': CatDist(['bin']),\n",
    "                        'preproc__strat_quant': CatDist(['stand']),\n",
    "                        'resamp__sampling_strategy': UniDist(0.09,0.6),\n",
    "# #                   'resamp__k_neighbors': [5,10],\n",
    "                    'featsel__max_features': IntUniDist(5, 80),\n",
    "#  #             'outl_filter__n_estimators': [50,100],\n",
    "                'clf__boosting_type': CatDist(['gbdt']), #'rf', 'dart', 'goss'\n",
    "                'clf__extra_trees': CatDist([True, False]),\n",
    "                'clf__is_unbalance': CatDist([True]),\n",
    "                'clf__n_estimators': IntUniDist(10, 2000),\n",
    "                'clf__num_leaves': IntUniDist(10, 200),\n",
    "                'clf__reg_alpha': LogUniDist(1e-5, 1e0),\n",
    "                'clf__reg_lambda':  LogUniDist(1e-3, 1e0),\n",
    "                'clf__learning_rate': LogUniDist(1e-4, 1e0),\n",
    "                'clf__max_depth': IntUniDist(-1,5),\n",
    "                }\n",
    "\n",
    "optuna_search3 = optuna.integration.OptunaSearchCV(\n",
    "                                                  pipe,\n",
    "                                                  param_distributions,\n",
    "                                                  n_trials=None,\n",
    "                                                  timeout=3600, # 10 minutes\n",
    "                                                  verbose=2,\n",
    "                                                  refit=True,\n",
    "                                                  scoring=mcc_scorer, # gain_level_scorer\n",
    "                                                  cv=4,\n",
    "                                                  return_train_score=True\n",
    "                                                  )"
   ]
  },
  {
   "cell_type": "code",
   "execution_count": null,
   "metadata": {},
   "outputs": [],
   "source": [
    "import os\n",
    "import dill\n",
    "\n",
    "# If model with the same name already in pickles, just takes existing model\n",
    "\n",
    "path = '..\\\\PICKLES\\\\P7_04_opt_search3.pkl'\n",
    "\n",
    "if os.path.exists(path):\n",
    "    print('----- Model already exists - loading ...')\n",
    "    with open(path, 'rb') as file:\n",
    "         optuna_search3 = dill.load(file)\n",
    "    print('----- Model loaded.')\n",
    "    \n",
    "else:\n",
    "    print(\"Model not yet exists\")\n",
    "    # lauch Optuna optimization of the pipeline\n",
    "#     ind_samp = X_tr.sample(1000).index\n",
    "    optuna_search3.fit(X_tr,#.loc[ind_samp],\n",
    "                      y_tr)#.loc[ind_samp])\n",
    "    model3 = optuna_search3.best_estimator_"
   ]
  },
  {
   "cell_type": "code",
   "execution_count": null,
   "metadata": {},
   "outputs": [],
   "source": [
    "### Pickling the model\n",
    "\n",
    "import dill\n",
    "\n",
    "with open('..\\\\PICKLES\\\\P7_04_opt_search3.pkl', 'wb') as file:\n",
    "    dill.dump(optuna_search3, file)"
   ]
  },
  {
   "cell_type": "markdown",
   "metadata": {},
   "source": [
    "### 3.7 Bayesian Optimisation on custom gain_level_score (OptunaSearchCV)\n",
    "\n",
    "All the following steps are included in a pipeline:\n",
    "\n",
    "- encoding of categorical data and scaling of quantitative data\n",
    "- oversampling using SMOTE\n",
    "- feature selection using SelectFromModel (lgbm)\n",
    "- classification using lgbm\n",
    "\n",
    "Input data are thus not encoded and not yet resampled."
   ]
  },
  {
   "cell_type": "code",
   "execution_count": null,
   "metadata": {},
   "outputs": [],
   "source": [
    "# ‘gbdt’, traditional Gradient Boosting Decision Tree\n",
    "# ‘dart’, Dropouts meet Multiple Additive Regression Trees\n",
    "# ‘goss’, Gradient-based One-Side Sampling\n",
    "# ‘rf’, Random Forest\n",
    "\n",
    "# num_boost_round=500,\n",
    "# early_stopping_rounds\n",
    "\n",
    "#### Optimisation\n",
    "\n",
    "### OptunaSearchCV\n",
    "\n",
    "import optuna\n",
    "from optuna.distributions import IntUniformDistribution as IntUniDist\n",
    "from optuna.distributions import UniformDistribution as UniDist\n",
    "from optuna.distributions import LogUniformDistribution as LogUniDist\n",
    "from optuna.distributions import CategoricalDistribution as CatDist\n",
    "from sklearn.pipeline import Pipeline\n",
    "from imblearn.pipeline import Pipeline as ImbPipeline\n",
    "from imblearn.over_sampling import SMOTE\n",
    "from sklearn.feature_selection import SelectFromModel\n",
    "from lightgbm import LGBMClassifier\n",
    "# from sklearn.svm import SVC\n",
    "\n",
    "pipe = ImbPipeline([\n",
    "                    ('preproc', CustTransformer(thresh_card=8,\n",
    "                                                strat_binary='ord',\n",
    "                                                strat_low_card='ohe',\n",
    "                                                strat_high_card='loo',\n",
    "                                                strat_quant='stand'\n",
    "                                               )), # normalisation and encoding\n",
    "#                     ('outl_filter', IsolForestSampleFilter()), # outlier cleaning\n",
    "                    ('resamp', SMOTE(random_state=14)), # resampling,\n",
    "                    ('featsel', SelectFromModel(LGBMClassifier())), # resampling,\n",
    "                    ('clf', LGBMClassifier(random_state=14)) # classification\n",
    "                   ])\n",
    "\n",
    "param_distributions = {    \n",
    "                       'preproc__strat_binary': CatDist(['ord']),\n",
    "                        'preproc__strat_low_card': CatDist(['ohe']),\n",
    "                        'preproc__strat_high_card': CatDist(['bin']),\n",
    "                        'preproc__strat_quant': CatDist(['stand']),\n",
    "                        'resamp__sampling_strategy': UniDist(0.09,0.6),\n",
    "# #                   'resamp__k_neighbors': [5,10],\n",
    "                    'featsel__max_features': IntUniDist(5, 80),\n",
    "#  #             'outl_filter__n_estimators': [50,100],\n",
    "                'clf__boosting_type': CatDist(['gbdt']), #'rf', 'dart', 'goss'\n",
    "                'clf__extra_trees': CatDist([True, False]),\n",
    "                'clf__is_unbalance': CatDist([True]),\n",
    "                'clf__n_estimators': IntUniDist(10, 2000),\n",
    "                'clf__num_leaves': IntUniDist(10, 200),\n",
    "                'clf__reg_alpha': LogUniDist(1e-5, 1e0),\n",
    "                'clf__reg_lambda':  LogUniDist(1e-3, 1e0),\n",
    "                'clf__learning_rate': LogUniDist(1e-4, 1e0),\n",
    "                'clf__max_depth': IntUniDist(-1,5),\n",
    "                }\n",
    "\n",
    "optuna_search4 = optuna.integration.OptunaSearchCV(\n",
    "                                                  pipe,\n",
    "                                                  param_distributions,\n",
    "                                                  n_trials=None,\n",
    "                                                  timeout=3600,\n",
    "                                                  verbose=2,\n",
    "                                                  refit=True,\n",
    "                                                  scoring= gain_level_scorer,\n",
    "                                                  cv=4,\n",
    "                                                  return_train_score=True\n",
    "                                                  )"
   ]
  },
  {
   "cell_type": "code",
   "execution_count": null,
   "metadata": {},
   "outputs": [],
   "source": [
    "import os\n",
    "import dill\n",
    "\n",
    "# If model with the same name already in pickles, just takes existing model\n",
    "\n",
    "path = '..\\\\PICKLES\\\\P7_04_optsearch4.pkl'\n",
    "\n",
    "if os.path.exists(path):\n",
    "    print('----- Model already exists - loading ...')\n",
    "    with open(path, 'rb') as file:\n",
    "         optuna_search4 = dill.load(file)\n",
    "    print('----- Model loaded.')\n",
    "    \n",
    "else:\n",
    "    print(\"Model not yet exists\")\n",
    "    # lauch Optuna optimization of the pipeline\n",
    "#     ind_samp = X_tr.sample(1000).index # 100 000\n",
    "    optuna_search4.fit(X_tr,#.loc[ind_samp],\n",
    "                      y_tr)#.loc[ind_samp])\n",
    "    model4 = optuna_search4.best_estimator_"
   ]
  },
  {
   "cell_type": "code",
   "execution_count": null,
   "metadata": {},
   "outputs": [],
   "source": [
    "### Pickling the model\n",
    "\n",
    "import dill\n",
    "\n",
    "with open('..\\\\PICKLES\\\\P7_04_optsearch4.pkl', 'wb') as file:\n",
    "    dill.dump(optuna_search4, file)"
   ]
  },
  {
   "cell_type": "markdown",
   "metadata": {},
   "source": [
    "### 3.8 Threshold tuning\n",
    "\n",
    "- model1: optimized on the f5_score\n",
    "- model2: optimized on AUC score\n",
    "- model3: optimiser on the MCC\n",
    "- model4: directly optimized on the gain_level score\n",
    "\n",
    "We want to find the threshold of probability that gives the best gain_level score on the training set."
   ]
  },
  {
   "cell_type": "markdown",
   "metadata": {},
   "source": [
    "#### ROC curves of the models"
   ]
  },
  {
   "cell_type": "markdown",
   "metadata": {},
   "source": [
    "For each model, we'll compute the roc curve and the precision recall curve.\n",
    "\n",
    "Then we'll monitor the scores as a function of the threshold and finf the threshold that maximizes our custom gain_level score."
   ]
  },
  {
   "cell_type": "code",
   "execution_count": null,
   "metadata": {},
   "outputs": [],
   "source": [
    "######### COMPARE AUC OF MODELS\n",
    "\n",
    "y=y_tr\n",
    "X=X_tr\n",
    "\n",
    "fig = plt.figure(figsize=(12,7))\n",
    "ax1 = fig.add_subplot(2,2,1)\n",
    "ax2 = fig.add_subplot(2,2,2)\n",
    "\n",
    "n_models = ['model1', 'model2', 'model2bis', 'model3','model4']\n",
    "li_models = [model1, model2, model2bis, model3, model4]\n",
    "\n",
    "my_pal = sns.color_palette('tab10', len(li_scores))\n",
    "    \n",
    "for n_model, model, col in zip(n_models, li_models, my_pal):\n",
    "    y_pred_proba = model.predict_proba(X)\n",
    "    y_pred_proba_n = y_pred_proba[:,1]\n",
    "\n",
    "    plot_roc_curve(y=y_tr,\n",
    "                   y_pred_proba=y_pred_proba_n,\n",
    "                   name_model=n_model,\n",
    "                   color=col,\n",
    "                   fig=fig, ax=ax1)\n",
    "    plot_pr_curve(y=y_tr,\n",
    "                  y_pred_proba=y_pred_proba_n,\n",
    "                  name_model=n_model,\n",
    "                  color=col,\n",
    "                  fig=fig, ax=ax2)"
   ]
  },
  {
   "cell_type": "markdown",
   "metadata": {},
   "source": [
    "#### Find the best threshold"
   ]
  },
  {
   "cell_type": "code",
   "execution_count": null,
   "metadata": {},
   "outputs": [],
   "source": [
    "# plot roc and pr curves and returns the optimum threshold to optimize gain_level\n",
    "thresh_max_1, df_res = plot_roc_pr_threshold_tuning(y=y_tr, X=X_tr, optim_score='gain_level',\n",
    "                                                    name_model='Model 1', model=model1, n_thresh=30,\n",
    "                                                    figsize=(12,7))"
   ]
  },
  {
   "cell_type": "code",
   "execution_count": null,
   "metadata": {},
   "outputs": [],
   "source": [
    "# plot roc and pr curves and returns the optimum threshold to optimize gain_level\n",
    "thresh_max_2, df_res = plot_roc_pr_threshold_tuning(y=y_tr, X=X_tr, optim_score='gain_level',\n",
    "                                                    name_model='Model 2', model=model2, n_thresh=30, figsize=(12,7))"
   ]
  },
  {
   "cell_type": "code",
   "execution_count": null,
   "metadata": {},
   "outputs": [],
   "source": [
    "# # plot roc and pr curves and returns the optimum threshold to optimize gain_level\n",
    "thresh_max_2bis, df_res = plot_roc_pr_threshold_tuning(y=y_tr, X=X_tr, optim_score='gain_level',\n",
    "                                                       name_model='Model 2bis', model=model2bis, n_thresh=30, figsize=(12,7))"
   ]
  },
  {
   "cell_type": "code",
   "execution_count": null,
   "metadata": {},
   "outputs": [],
   "source": [
    "# plot roc and pr curves and returns the optimum threshold to optimize gain_level\n",
    "thresh_max_3, df_res = plot_roc_pr_threshold_tuning(y=y_tr, X=X_tr, optim_score='gain_level',\n",
    "                                                    name_model='Model 3', model=model3, n_thresh=30, figsize=(12,7))"
   ]
  },
  {
   "cell_type": "code",
   "execution_count": null,
   "metadata": {},
   "outputs": [],
   "source": [
    "# plot roc and pr curves and returns the optimum threshold to optimize gain_level\n",
    "thresh_max_4, df_res = plot_roc_pr_threshold_tuning(y=y_tr, X=X_tr, optim_score='gain_level',\n",
    "                                                    name_model='Model 4', model=model4, n_thresh=30, figsize=(12,7))"
   ]
  },
  {
   "cell_type": "markdown",
   "metadata": {},
   "source": [
    "### Interpretability of the best model"
   ]
  },
  {
   "cell_type": "code",
   "execution_count": null,
   "metadata": {},
   "outputs": [],
   "source": []
  },
  {
   "cell_type": "code",
   "execution_count": null,
   "metadata": {},
   "outputs": [],
   "source": []
  },
  {
   "cell_type": "code",
   "execution_count": null,
   "metadata": {},
   "outputs": [],
   "source": []
  },
  {
   "cell_type": "markdown",
   "metadata": {},
   "source": [
    "### 4 Export Models and Data"
   ]
  },
  {
   "cell_type": "code",
   "execution_count": null,
   "metadata": {},
   "outputs": [],
   "source": [
    "# ### Pickling the aggregated dataset\n",
    "\n",
    "# import dill\n",
    "\n",
    "# with open('..\\\\PICKLES\\\\P7_04_bestpipe.pkl', 'wb') as file:\n",
    "#     dill.dump(bestpipe, file)"
   ]
  },
  {
   "cell_type": "code",
   "execution_count": null,
   "metadata": {},
   "outputs": [],
   "source": []
  },
  {
   "cell_type": "code",
   "execution_count": null,
   "metadata": {},
   "outputs": [],
   "source": []
  },
  {
   "cell_type": "markdown",
   "metadata": {},
   "source": [
    "### BROUILLON"
   ]
  },
  {
   "cell_type": "code",
   "execution_count": null,
   "metadata": {},
   "outputs": [],
   "source": [
    "# A VERIFIER DEVRAIT MARCHER\n",
    "\n",
    "y_pred = model1.predict(X_tr)\n",
    "y_pred_proba = model1.predict_proba(X_tr)\n",
    "\n",
    "y_pred_proba_1 = y_pred_proba[:,1]\n",
    "y_pred_proba_n_th = (y_pred_proba[:,1] >= 0.8).astype(bool)\n",
    "\n",
    "model_scores(y_tr, y_pred_proba_n_th, y_pred_proba[:,1], 'mon_score') "
   ]
  },
  {
   "cell_type": "code",
   "execution_count": null,
   "metadata": {},
   "outputs": [],
   "source": [
    "y_pred.shape, y_pred_proba.shape, y_pred_proba_1.shape"
   ]
  },
  {
   "cell_type": "code",
   "execution_count": null,
   "metadata": {},
   "outputs": [],
   "source": []
  },
  {
   "cell_type": "code",
   "execution_count": null,
   "metadata": {},
   "outputs": [],
   "source": [
    "# A DEBUGGUER ---> DEVRAIT MARCHER MAINTENANT\n",
    "\n",
    "df_res = pd.DataFrame()\n",
    "for i, th in enumerate(np.linspace(0, 1, 10), 1):\n",
    "    # compute proba\n",
    "    y_pred_proba = model.predict_proba(X)[:,1]\n",
    "    # compute predict (default thresh 0.5)\n",
    "    y_pred_proba_n_0_5 = model.predict(X)#y_pred_proba_n_0_5 = (y_pred_proba[:,n] >= 0.5).astype(bool)\n",
    "    # set threshold of the model for class n\n",
    "    y_pred_proba_n_th = (y_pred_proba >= th).astype(bool)\n",
    "    # store into a dataframe\n",
    "    df_res = model_scores(y, y_pred_proba_n_th, y_pred_proba,\n",
    "                          th, df_res, li_scores)"
   ]
  },
  {
   "cell_type": "code",
   "execution_count": null,
   "metadata": {},
   "outputs": [],
   "source": []
  },
  {
   "cell_type": "code",
   "execution_count": null,
   "metadata": {},
   "outputs": [],
   "source": []
  }
 ],
 "metadata": {
  "colab": {
   "authorship_tag": "ABX9TyOm7tvg333jteQY6OqF6buz",
   "collapsed_sections": [],
   "name": "P7_EDAnalysis.ipynb",
   "provenance": [
    {
     "file_id": "1E-9uEhjGWABoEYA3C8urP8X3yeJzXdZN",
     "timestamp": 1606980293406
    },
    {
     "file_id": "1krPTwGXZIcd9RCCVovJ3wPhcyankXY_D",
     "timestamp": 1605635280642
    }
   ],
   "toc_visible": true
  },
  "kernelspec": {
   "display_name": "Python 3",
   "language": "python",
   "name": "python3"
  },
  "language_info": {
   "codemirror_mode": {
    "name": "ipython",
    "version": 3
   },
   "file_extension": ".py",
   "mimetype": "text/x-python",
   "name": "python",
   "nbconvert_exporter": "python",
   "pygments_lexer": "ipython3",
   "version": "3.8.5"
  },
  "toc": {
   "base_numbering": 1,
   "nav_menu": {},
   "number_sections": false,
   "sideBar": true,
   "skip_h1_title": true,
   "title_cell": "Table of Contents",
   "title_sidebar": "Contents",
   "toc_cell": true,
   "toc_position": {
    "height": "541.6px",
    "left": "49px",
    "top": "208.2px",
    "width": "273.125px"
   },
   "toc_section_display": true,
   "toc_window_display": true
  },
  "varInspector": {
   "cols": {
    "lenName": 16,
    "lenType": 16,
    "lenVar": 40
   },
   "kernels_config": {
    "python": {
     "delete_cmd_postfix": "",
     "delete_cmd_prefix": "del ",
     "library": "var_list.py",
     "varRefreshCmd": "print(var_dic_list())"
    },
    "r": {
     "delete_cmd_postfix": ") ",
     "delete_cmd_prefix": "rm(",
     "library": "var_list.r",
     "varRefreshCmd": "cat(var_dic_list()) "
    }
   },
   "types_to_exclude": [
    "module",
    "function",
    "builtin_function_or_method",
    "instance",
    "_Feature"
   ],
   "window_display": false
  }
 },
 "nbformat": 4,
 "nbformat_minor": 1
}
