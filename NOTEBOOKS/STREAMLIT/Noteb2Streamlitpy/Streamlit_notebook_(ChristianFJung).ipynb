{
 "cells": [
  {
   "cell_type": "markdown",
   "metadata": {
    "toc": true
   },
   "source": [
    "<h1>Table of Contents<span class=\"tocSkip\"></span></h1>\n",
    "<div class=\"toc\"><ul class=\"toc-item\"></ul></div>"
   ]
  },
  {
   "cell_type": "code",
   "execution_count": 8,
   "metadata": {},
   "outputs": [],
   "source": [
    "import streamlit as st\n",
    "# To make things easier later, we're also importing numpy and pandas for\n",
    "# working with sample data.\n",
    "import numpy as np\n",
    "import pandas as pd"
   ]
  },
  {
   "cell_type": "code",
   "execution_count": 9,
   "metadata": {},
   "outputs": [
    {
     "data": {
      "text/html": [
       "<div>\n",
       "<style scoped>\n",
       "    .dataframe tbody tr th:only-of-type {\n",
       "        vertical-align: middle;\n",
       "    }\n",
       "\n",
       "    .dataframe tbody tr th {\n",
       "        vertical-align: top;\n",
       "    }\n",
       "\n",
       "    .dataframe thead th {\n",
       "        text-align: right;\n",
       "    }\n",
       "</style>\n",
       "<table border=\"1\" class=\"dataframe\">\n",
       "  <thead>\n",
       "    <tr style=\"text-align: right;\">\n",
       "      <th></th>\n",
       "      <th>date</th>\n",
       "      <th>name</th>\n",
       "      <th>matched_stories</th>\n",
       "      <th>all_candidate_stories</th>\n",
       "      <th>pct_of_all_candidate_stories</th>\n",
       "      <th>query</th>\n",
       "    </tr>\n",
       "  </thead>\n",
       "  <tbody>\n",
       "    <tr>\n",
       "      <th>0</th>\n",
       "      <td>2018-12-30</td>\n",
       "      <td>Amy Klobuchar</td>\n",
       "      <td>45.0</td>\n",
       "      <td>806</td>\n",
       "      <td>0.055831</td>\n",
       "      <td>(\"Amy Klobuchar\")</td>\n",
       "    </tr>\n",
       "    <tr>\n",
       "      <th>1</th>\n",
       "      <td>2019-01-06</td>\n",
       "      <td>Amy Klobuchar</td>\n",
       "      <td>55.0</td>\n",
       "      <td>915</td>\n",
       "      <td>0.060109</td>\n",
       "      <td>(\"Amy Klobuchar\")</td>\n",
       "    </tr>\n",
       "    <tr>\n",
       "      <th>2</th>\n",
       "      <td>2019-01-13</td>\n",
       "      <td>Amy Klobuchar</td>\n",
       "      <td>128.0</td>\n",
       "      <td>1052</td>\n",
       "      <td>0.121673</td>\n",
       "      <td>(\"Amy Klobuchar\")</td>\n",
       "    </tr>\n",
       "    <tr>\n",
       "      <th>3</th>\n",
       "      <td>2019-01-20</td>\n",
       "      <td>Amy Klobuchar</td>\n",
       "      <td>55.0</td>\n",
       "      <td>1024</td>\n",
       "      <td>0.053711</td>\n",
       "      <td>(\"Amy Klobuchar\")</td>\n",
       "    </tr>\n",
       "    <tr>\n",
       "      <th>4</th>\n",
       "      <td>2019-01-27</td>\n",
       "      <td>Amy Klobuchar</td>\n",
       "      <td>74.0</td>\n",
       "      <td>1605</td>\n",
       "      <td>0.046106</td>\n",
       "      <td>(\"Amy Klobuchar\")</td>\n",
       "    </tr>\n",
       "  </tbody>\n",
       "</table>\n",
       "</div>"
      ],
      "text/plain": [
       "         date           name  matched_stories  all_candidate_stories  \\\n",
       "0  2018-12-30  Amy Klobuchar             45.0                    806   \n",
       "1  2019-01-06  Amy Klobuchar             55.0                    915   \n",
       "2  2019-01-13  Amy Klobuchar            128.0                   1052   \n",
       "3  2019-01-20  Amy Klobuchar             55.0                   1024   \n",
       "4  2019-01-27  Amy Klobuchar             74.0                   1605   \n",
       "\n",
       "   pct_of_all_candidate_stories              query  \n",
       "0                      0.055831  (\"Amy Klobuchar\")  \n",
       "1                      0.060109  (\"Amy Klobuchar\")  \n",
       "2                      0.121673  (\"Amy Klobuchar\")  \n",
       "3                      0.053711  (\"Amy Klobuchar\")  \n",
       "4                      0.046106  (\"Amy Klobuchar\")  "
      ]
     },
     "execution_count": 9,
     "metadata": {},
     "output_type": "execute_result"
    }
   ],
   "source": [
    "df_online=pd.read_csv(\"https://raw.githubusercontent.com/fivethirtyeight/data/master/media-mentions-2020/online_weekly.csv\")\n",
    "df_online.head()"
   ]
  },
  {
   "cell_type": "code",
   "execution_count": 10,
   "metadata": {},
   "outputs": [
    {
     "data": {
      "text/html": [
       "<div>\n",
       "<style scoped>\n",
       "    .dataframe tbody tr th:only-of-type {\n",
       "        vertical-align: middle;\n",
       "    }\n",
       "\n",
       "    .dataframe tbody tr th {\n",
       "        vertical-align: top;\n",
       "    }\n",
       "\n",
       "    .dataframe thead th {\n",
       "        text-align: right;\n",
       "    }\n",
       "</style>\n",
       "<table border=\"1\" class=\"dataframe\">\n",
       "  <thead>\n",
       "    <tr style=\"text-align: right;\">\n",
       "      <th></th>\n",
       "      <th>matched_stories</th>\n",
       "    </tr>\n",
       "    <tr>\n",
       "      <th>name</th>\n",
       "      <th></th>\n",
       "    </tr>\n",
       "  </thead>\n",
       "  <tbody>\n",
       "    <tr>\n",
       "      <th>Joe Biden</th>\n",
       "      <td>32355.0</td>\n",
       "    </tr>\n",
       "    <tr>\n",
       "      <th>Bernie Sanders</th>\n",
       "      <td>26150.0</td>\n",
       "    </tr>\n",
       "    <tr>\n",
       "      <th>Elizabeth Warren</th>\n",
       "      <td>25888.0</td>\n",
       "    </tr>\n",
       "    <tr>\n",
       "      <th>Kamala Harris</th>\n",
       "      <td>18629.0</td>\n",
       "    </tr>\n",
       "    <tr>\n",
       "      <th>Pete Buttigieg</th>\n",
       "      <td>12171.0</td>\n",
       "    </tr>\n",
       "  </tbody>\n",
       "</table>\n",
       "</div>"
      ],
      "text/plain": [
       "                  matched_stories\n",
       "name                             \n",
       "Joe Biden                 32355.0\n",
       "Bernie Sanders            26150.0\n",
       "Elizabeth Warren          25888.0\n",
       "Kamala Harris             18629.0\n",
       "Pete Buttigieg            12171.0"
      ]
     },
     "execution_count": 10,
     "metadata": {},
     "output_type": "execute_result"
    }
   ],
   "source": [
    "dfO= df_online[['name','matched_stories']]\n",
    "\n",
    "dfO= dfO.groupby(\"name\")[\"matched_stories\"].sum()\n",
    "dfO = pd.DataFrame(dfO)\n",
    "\n",
    "dfToShow= dfO.sort_values(\"matched_stories\", ascending=False)\n",
    "dfToShow.head()"
   ]
  },
  {
   "cell_type": "markdown",
   "metadata": {},
   "source": [
    "import streamlit as st\n",
    "st.bar_chart(dfToShow)"
   ]
  }
 ],
 "metadata": {
  "kernelspec": {
   "display_name": "Python 3",
   "language": "python",
   "name": "python3"
  },
  "language_info": {
   "codemirror_mode": {
    "name": "ipython",
    "version": 3
   },
   "file_extension": ".py",
   "mimetype": "text/x-python",
   "name": "python",
   "nbconvert_exporter": "python",
   "pygments_lexer": "ipython3",
   "version": "3.8.5"
  },
  "toc": {
   "base_numbering": 1,
   "nav_menu": {},
   "number_sections": false,
   "sideBar": false,
   "skip_h1_title": false,
   "title_cell": "Table of Contents",
   "title_sidebar": "Contents",
   "toc_cell": true,
   "toc_position": {
    "height": "100px",
    "left": "470px",
    "top": "135.2px",
    "width": "158.875px"
   },
   "toc_section_display": true,
   "toc_window_display": true
  },
  "varInspector": {
   "cols": {
    "lenName": 16,
    "lenType": 16,
    "lenVar": 40
   },
   "kernels_config": {
    "python": {
     "delete_cmd_postfix": "",
     "delete_cmd_prefix": "del ",
     "library": "var_list.py",
     "varRefreshCmd": "print(var_dic_list())"
    },
    "r": {
     "delete_cmd_postfix": ") ",
     "delete_cmd_prefix": "rm(",
     "library": "var_list.r",
     "varRefreshCmd": "cat(var_dic_list()) "
    }
   },
   "types_to_exclude": [
    "module",
    "function",
    "builtin_function_or_method",
    "instance",
    "_Feature"
   ],
   "window_display": false
  }
 },
 "nbformat": 4,
 "nbformat_minor": 4
}
