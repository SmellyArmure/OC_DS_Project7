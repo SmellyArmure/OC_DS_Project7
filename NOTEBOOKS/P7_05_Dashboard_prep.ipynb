{
 "cells": [
  {
   "cell_type": "markdown",
   "metadata": {
    "toc": true
   },
   "source": [
    "<h1>Table of Contents<span class=\"tocSkip\"></span></h1>\n",
    "<div class=\"toc\"><ul class=\"toc-item\"><li><span><a href=\"#&quot;Implémentez-un-modèle-de-scoring&quot;\" data-toc-modified-id=\"&quot;Implémentez-un-modèle-de-scoring&quot;-1\">\"Implémentez un modèle de scoring\"</a></span><ul class=\"toc-item\"><li><span><a href=\"#0-Preliminaries\" data-toc-modified-id=\"0-Preliminaries-1.1\">0 Preliminaries</a></span><ul class=\"toc-item\"><li><span><a href=\"#0.0-Importing-Packages-and-Modules\" data-toc-modified-id=\"0.0-Importing-Packages-and-Modules-1.1.1\">0.0 Importing Packages and Modules</a></span></li><li><span><a href=\"#0.1-Importing-data-and-model\" data-toc-modified-id=\"0.1-Importing-data-and-model-1.1.2\">0.1 Importing data and model</a></span></li></ul></li><li><span><a href=\"#1-Customer's-choice\" data-toc-modified-id=\"1-Customer's-choice-1.2\">1 Customer's choice</a></span><ul class=\"toc-item\"><li><ul class=\"toc-item\"><li><span><a href=\"#Nearest-Neighbors\" data-toc-modified-id=\"Nearest-Neighbors-1.2.0.1\">Nearest Neighbors</a></span></li></ul></li></ul></li><li><span><a href=\"#2-Data-Visualization-after-preprocessing-(2D-projection)\" data-toc-modified-id=\"2-Data-Visualization-after-preprocessing-(2D-projection)-1.3\">2 Data Visualization after preprocessing (2D projection)</a></span></li><li><span><a href=\"#Model-and-dashboard-deployment\" data-toc-modified-id=\"Model-and-dashboard-deployment-1.4\">Model and dashboard deployment</a></span><ul class=\"toc-item\"><li><ul class=\"toc-item\"><li><span><a href=\"#Prepare-the-MLFlow-model-from-our-best-model\" data-toc-modified-id=\"Prepare-the-MLFlow-model-from-our-best-model-1.4.0.1\">Prepare the MLFlow model from our best model</a></span></li><li><span><a href=\"#Deploy-model-on-local-server\" data-toc-modified-id=\"Deploy-model-on-local-server-1.4.0.2\">Deploy model on local server</a></span></li><li><span><a href=\"#Run-the-dashboard-(that-will-request-prediction-from-the-model)\" data-toc-modified-id=\"Run-the-dashboard-(that-will-request-prediction-from-the-model)-1.4.0.3\">Run the dashboard (that will request prediction from the model)</a></span></li><li><span><a href=\"#Deploy-the-streamlit-dashboard-???\" data-toc-modified-id=\"Deploy-the-streamlit-dashboard-???-1.4.0.4\">Deploy the streamlit dashboard ???</a></span></li></ul></li></ul></li></ul></li></ul></div>"
   ]
  },
  {
   "cell_type": "markdown",
   "metadata": {},
   "source": [
    "# \"Implémentez un modèle de scoring\"\n",
    "_Building and optimizing a classification model_\n",
    "\n",
    "References used for this notebook:\n"
   ]
  },
  {
   "cell_type": "markdown",
   "metadata": {
    "id": "AXy2xt5wB3ZD"
   },
   "source": [
    "## 0 Preliminaries"
   ]
  },
  {
   "cell_type": "markdown",
   "metadata": {
    "id": "NQ8_ZaJvGl4o"
   },
   "source": [
    "### 0.0 Importing Packages and Modules"
   ]
  },
  {
   "cell_type": "code",
   "execution_count": 1,
   "metadata": {
    "executionInfo": {
     "elapsed": 26342,
     "status": "ok",
     "timestamp": 1607417481749,
     "user": {
      "displayName": "Maryse Muller",
      "photoUrl": "",
      "userId": "13230828717959946182"
     },
     "user_tz": -60
    },
    "id": "oDhE9utOlwJe"
   },
   "outputs": [],
   "source": [
    "import io\n",
    "import random\n",
    "import pandas as pd\n",
    "import seaborn as sns\n",
    "import numpy as np\n",
    "import matplotlib.pyplot as plt\n",
    "%matplotlib inline\n",
    "plt.rcParams['figure.facecolor']='w'"
   ]
  },
  {
   "cell_type": "code",
   "execution_count": 2,
   "metadata": {
    "executionInfo": {
     "elapsed": 26358,
     "status": "ok",
     "timestamp": 1607417481747,
     "user": {
      "displayName": "Maryse Muller",
      "photoUrl": "",
      "userId": "13230828717959946182"
     },
     "user_tz": -60
    },
    "id": "x1xzfQL5OvRk"
   },
   "outputs": [],
   "source": [
    "from P7_functions import *"
   ]
  },
  {
   "cell_type": "code",
   "execution_count": 3,
   "metadata": {
    "executionInfo": {
     "elapsed": 26335,
     "status": "ok",
     "timestamp": 1607417481751,
     "user": {
      "displayName": "Maryse Muller",
      "photoUrl": "",
      "userId": "13230828717959946182"
     },
     "user_tz": -60
    },
    "id": "G0rRvyJaWO2h"
   },
   "outputs": [],
   "source": [
    "dictPdSettings = {'display.max_rows': 500, 'display.width': 100,\n",
    "                  'display.max_colwidth': 100,\n",
    "                  'display.float_format': lambda x: '%.2f' % x}\n",
    "for k,v in dictPdSettings.items():\n",
    "    pd.set_option(k,v)"
   ]
  },
  {
   "cell_type": "markdown",
   "metadata": {
    "id": "huybodM0rjbA"
   },
   "source": [
    "### 0.1 Importing data and model"
   ]
  },
  {
   "cell_type": "code",
   "execution_count": 4,
   "metadata": {
    "executionInfo": {
     "elapsed": 33585,
     "status": "ok",
     "timestamp": 1607417489021,
     "user": {
      "displayName": "Maryse Muller",
      "photoUrl": "",
      "userId": "13230828717959946182"
     },
     "user_tz": -60
    },
    "id": "uuNErYCJ4s8w"
   },
   "outputs": [],
   "source": [
    "# import cleaned data and model\n",
    "\n",
    "import dill\n",
    "\n",
    "with open('..\\\\PICKLES\\\\dict_cleaned.pkl', 'rb') as file:\n",
    "    dict_cleaned = dill.load(file)\n",
    "with open('..\\\\PICKLES\\\\P7_04_bestmodel_thesh.pkl', 'rb') as file:\n",
    "    best_model, thresh = dill.load(file)\n",
    "# with open('..\\\\PICKLES\\\\P7_04_bestmodel_thesh.pkl', 'rb') as file:\n",
    "#     best_model, thresh = dill.load(file)"
   ]
  },
  {
   "cell_type": "code",
   "execution_count": 5,
   "metadata": {},
   "outputs": [],
   "source": [
    "# put data from dictionary into variables\n",
    "X_train = dict_cleaned['X_train']\n",
    "y_train = dict_cleaned['y_train']\n",
    "X_test = dict_cleaned['X_test']"
   ]
  },
  {
   "cell_type": "code",
   "execution_count": 6,
   "metadata": {},
   "outputs": [],
   "source": [
    "# split the steps of the best pipeline\n",
    "preproc_step = best_model.named_steps['preproc']\n",
    "featsel_step = best_model.named_steps['featsel']\n",
    "clf_step = best_model.named_steps['clf']\n",
    "\n",
    "# compute the preprocessed data (encoding and standardization)\n",
    "X_tr_prepro = preproc_step.transform(X_train)\n",
    "X_te_prepro = preproc_step.transform(X_test)\n",
    "\n",
    "# get the name of the columns after encoding\n",
    "preproc_cols = X_tr_prepro.columns\n",
    "\n",
    "# get the name of the columns selected using SelectFromModel\n",
    "featsel_cols = preproc_cols[featsel_step.get_support()]\n",
    "\n",
    "# compute the data to be used by the best classifier\n",
    "X_tr_featsel = X_tr_prepro[featsel_cols]\n",
    "X_te_featsel = X_te_prepro[featsel_cols]"
   ]
  },
  {
   "cell_type": "markdown",
   "metadata": {},
   "source": [
    "## 1 Customer's choice"
   ]
  },
  {
   "cell_type": "code",
   "execution_count": 7,
   "metadata": {},
   "outputs": [],
   "source": [
    "# random sample of customers\n",
    "\n",
    "N =5000\n",
    "random_samp = X_train.sample(N).index"
   ]
  },
  {
   "cell_type": "code",
   "execution_count": 8,
   "metadata": {},
   "outputs": [],
   "source": [
    "# select one customer among the sample\n",
    "\n",
    "X_cust = X_train.loc[random_samp].sample(1)\n",
    "customer_idx = X_cust.index.values[0]"
   ]
  },
  {
   "cell_type": "code",
   "execution_count": 9,
   "metadata": {},
   "outputs": [
    {
     "data": {
      "text/plain": [
       "((1, 41), (307511, 41))"
      ]
     },
     "execution_count": 9,
     "metadata": {},
     "output_type": "execute_result"
    }
   ],
   "source": [
    "X_tr_featsel.loc[customer_idx: customer_idx].shape, X_tr_featsel.shape"
   ]
  },
  {
   "cell_type": "markdown",
   "metadata": {},
   "source": [
    "#### Nearest Neighbors"
   ]
  },
  {
   "cell_type": "code",
   "execution_count": 10,
   "metadata": {},
   "outputs": [],
   "source": [
    "# get indices of the 20 nearest neighbors in the X_tr dataframe \n",
    "\n",
    "from sklearn.neighbors import NearestNeighbors\n",
    "\n",
    "# fit nearest neighbors among the selection\n",
    "\n",
    "neigh = NearestNeighbors(n_neighbors=20)\n",
    "neigh.fit(X_tr_featsel.loc[random_samp])\n",
    "\n",
    "idx = neigh.kneighbors(X=X_tr_featsel.loc[customer_idx: customer_idx],\n",
    "                       n_neighbors=20,\n",
    "                       return_distance=False).ravel()\n",
    "\n",
    "nearest_cust_idx = list(X_tr_featsel.loc[random_samp].iloc[idx].index)"
   ]
  },
  {
   "cell_type": "markdown",
   "metadata": {},
   "source": [
    "## 2 Data Visualization after preprocessing (2D projection)"
   ]
  },
  {
   "cell_type": "code",
   "execution_count": 11,
   "metadata": {},
   "outputs": [],
   "source": [
    "# Computes the axes for projection with centers\n",
    "\n",
    "dict_proj, dict_proj_centers, _ = prepare_2D_axes(X_tr_featsel.loc[random_samp],\n",
    "                                                  y_train.loc[random_samp],\n",
    "                                                  ser_clust=y_train.loc[random_samp],\n",
    "                                                  proj=['t-SNE'],\n",
    "                                                  model=None,\n",
    "                                                  centers_on=True,\n",
    "                                                  random_state=14)"
   ]
  },
  {
   "cell_type": "code",
   "execution_count": 12,
   "metadata": {},
   "outputs": [
    {
     "data": {
      "image/png": "[encoded data removed]",
      "text/plain": [
       "<Figure size 432x288 with 1 Axes>"
      ]
     },
     "metadata": {},
     "output_type": "display_data"
    }
   ],
   "source": [
    "# Projection of a sample of the training set, colored with target value\n",
    "\n",
    "fig, ax = plt.subplots()\n",
    "\n",
    "proj = 'UMAP'\n",
    "\n",
    "# show random sample\n",
    "plot_projection(X=X_tr_featsel.loc[random_samp],\n",
    "                y=y_train.loc[random_samp],\n",
    "                model=None,\n",
    "                plot_only_idx = random_samp,\n",
    "                dict_proj = dict_proj,\n",
    "                dict_proj_centers = dict_proj_centers,\n",
    "                ser_clust = y_train.loc[random_samp],\n",
    "                proj=proj, # PCA, UMAP, t-SNE\n",
    "                tw_n_neigh=5, title=\"Projection of the 20 nearest customers among a 500 sample\",\n",
    "                bboxtoanchor=None, figsize=(10, 6), size=5, palette=['pink','lightgreen'],\n",
    "                show_centers=True, legend_on=True, fig=fig, ax=ax, random_state=14)\n",
    "\n",
    "# show nearest neighbors\n",
    "plot_projection(X=X_tr_featsel.loc[random_samp],\n",
    "                y=y_train.loc[random_samp],\n",
    "                model=None,\n",
    "                plot_only_idx = nearest_cust_idx,\n",
    "                dict_proj = dict_proj,\n",
    "                dict_proj_centers = dict_proj_centers,\n",
    "                ser_clust = y_train.loc[random_samp],\n",
    "                proj=proj, # PCA, UMAP, t-SNE\n",
    "                tw_n_neigh=None, title=None,\n",
    "                bboxtoanchor=None, figsize=(10, 6), size=10, palette=['darkred','darkgreen'],\n",
    "                show_centers=False, legend_on=True, fig=fig, ax=ax, random_state=14)\n",
    "\n",
    "# show nearest neighbors\n",
    "plot_projection(X=X_tr_featsel.loc[random_samp],\n",
    "                y=y_train.loc[random_samp],\n",
    "                model=None,\n",
    "                plot_only_idx = [customer_idx],\n",
    "                dict_proj = dict_proj,\n",
    "                dict_proj_centers = dict_proj_centers,\n",
    "                ser_clust = y_train.loc[random_samp],\n",
    "                proj=proj, # PCA, UMAP, t-SNE\n",
    "                tw_n_neigh=None, title=None,\n",
    "                bboxtoanchor=None, figsize=(10, 6), size=50, palette=['k'],\n",
    "                show_centers=False, legend_on=True, fig=fig, ax=ax, random_state=14)"
   ]
  },
  {
   "cell_type": "code",
   "execution_count": null,
   "metadata": {},
   "outputs": [],
   "source": []
  },
  {
   "cell_type": "code",
   "execution_count": null,
   "metadata": {},
   "outputs": [],
   "source": []
  },
  {
   "cell_type": "code",
   "execution_count": null,
   "metadata": {},
   "outputs": [],
   "source": []
  },
  {
   "cell_type": "code",
   "execution_count": null,
   "metadata": {},
   "outputs": [],
   "source": []
  },
  {
   "cell_type": "markdown",
   "metadata": {},
   "source": [
    "## Model and dashboard deployment"
   ]
  },
  {
   "cell_type": "code",
   "execution_count": 13,
   "metadata": {},
   "outputs": [],
   "source": [
    "import streamlit as st\n",
    "import numpy as np\n",
    "import pandas as pd\n",
    "import dill"
   ]
  },
  {
   "cell_type": "code",
   "execution_count": null,
   "metadata": {},
   "outputs": [],
   "source": []
  },
  {
   "cell_type": "code",
   "execution_count": null,
   "metadata": {},
   "outputs": [],
   "source": []
  },
  {
   "cell_type": "markdown",
   "metadata": {},
   "source": [
    "#### Prepare the MLFlow model from our best model"
   ]
  },
  {
   "cell_type": "code",
   "execution_count": 14,
   "metadata": {},
   "outputs": [],
   "source": [
    "#  create a signature from the model input data \n",
    "\n",
    "from mlflow.models.signature import infer_signature\n",
    "signature = infer_signature(X_train, y_train)"
   ]
  },
  {
   "cell_type": "code",
   "execution_count": 26,
   "metadata": {},
   "outputs": [
    {
     "name": "stderr",
     "output_type": "stream",
     "text": [
      "C:\\ProgramData\\Anaconda3\\lib\\site-packages\\ipykernel\\ipkernel.py:287: DeprecationWarning: `should_run_async` will not call `transform_cell` automatically in the future. Please pass the result to `transformed_cell` argument and any exception that happen during thetransform in `preprocessing_exc_tuple` in IPython 7.17 and above.\n",
      "  and should_run_async(code)\n"
     ]
    },
    {
     "data": {
      "text/plain": [
       "LogisticRegression()"
      ]
     },
     "execution_count": 26,
     "metadata": {},
     "output_type": "execute_result"
    }
   ],
   "source": [
    "from sklearn.linear_model import LogisticRegression\n",
    "lg = LogisticRegression()\n",
    "lg.fit(X_tr_featsel.loc[random_samp], y_train.loc[random_samp])"
   ]
  },
  {
   "cell_type": "code",
   "execution_count": 28,
   "metadata": {},
   "outputs": [],
   "source": [
    "# save the best pipeline\n",
    "\n",
    "signature2 = infer_signature(X_tr_featsel.loc[random_samp], y_train.loc[random_samp])\n",
    "mlflow.sklearn.save_model(lg, 'mlflow_lg', signature=signature2)"
   ]
  },
  {
   "cell_type": "code",
   "execution_count": 23,
   "metadata": {
    "collapsed": true
   },
   "outputs": [
    {
     "name": "stderr",
     "output_type": "stream",
     "text": [
      "C:\\ProgramData\\Anaconda3\\lib\\site-packages\\ipykernel\\ipkernel.py:287: DeprecationWarning: `should_run_async` will not call `transform_cell` automatically in the future. Please pass the result to `transformed_cell` argument and any exception that happen during thetransform in `preprocessing_exc_tuple` in IPython 7.17 and above.\n",
      "  and should_run_async(code)\n"
     ]
    },
    {
     "ename": "MlflowException",
     "evalue": "Path 'mlflow_bestmodel' already exists",
     "output_type": "error",
     "traceback": [
      "\u001b[1;31m---------------------------------------------------------------------------\u001b[0m",
      "\u001b[1;31mMlflowException\u001b[0m                           Traceback (most recent call last)",
      "\u001b[1;32m<ipython-input-23-0c00ff421689>\u001b[0m in \u001b[0;36m<module>\u001b[1;34m\u001b[0m\n\u001b[0;32m      2\u001b[0m \u001b[1;33m\u001b[0m\u001b[0m\n\u001b[0;32m      3\u001b[0m \u001b[1;32mimport\u001b[0m \u001b[0mmlflow\u001b[0m\u001b[1;33m.\u001b[0m\u001b[0msklearn\u001b[0m\u001b[1;33m\u001b[0m\u001b[1;33m\u001b[0m\u001b[0m\n\u001b[1;32m----> 4\u001b[1;33m \u001b[0mmlflow\u001b[0m\u001b[1;33m.\u001b[0m\u001b[0msklearn\u001b[0m\u001b[1;33m.\u001b[0m\u001b[0msave_model\u001b[0m\u001b[1;33m(\u001b[0m\u001b[0mbest_model\u001b[0m\u001b[1;33m,\u001b[0m \u001b[1;34m'mlflow_bestmodel'\u001b[0m\u001b[1;33m,\u001b[0m \u001b[0msignature\u001b[0m\u001b[1;33m=\u001b[0m\u001b[0msignature\u001b[0m\u001b[1;33m)\u001b[0m\u001b[1;33m\u001b[0m\u001b[1;33m\u001b[0m\u001b[0m\n\u001b[0m",
      "\u001b[1;32mC:\\ProgramData\\Anaconda3\\lib\\site-packages\\mlflow\\sklearn\\__init__.py\u001b[0m in \u001b[0;36msave_model\u001b[1;34m(sk_model, path, conda_env, mlflow_model, serialization_format, signature, input_example)\u001b[0m\n\u001b[0;32m    172\u001b[0m \u001b[1;33m\u001b[0m\u001b[0m\n\u001b[0;32m    173\u001b[0m     \u001b[1;32mif\u001b[0m \u001b[0mos\u001b[0m\u001b[1;33m.\u001b[0m\u001b[0mpath\u001b[0m\u001b[1;33m.\u001b[0m\u001b[0mexists\u001b[0m\u001b[1;33m(\u001b[0m\u001b[0mpath\u001b[0m\u001b[1;33m)\u001b[0m\u001b[1;33m:\u001b[0m\u001b[1;33m\u001b[0m\u001b[1;33m\u001b[0m\u001b[0m\n\u001b[1;32m--> 174\u001b[1;33m         raise MlflowException(\n\u001b[0m\u001b[0;32m    175\u001b[0m             \u001b[0mmessage\u001b[0m\u001b[1;33m=\u001b[0m\u001b[1;34m\"Path '{}' already exists\"\u001b[0m\u001b[1;33m.\u001b[0m\u001b[0mformat\u001b[0m\u001b[1;33m(\u001b[0m\u001b[0mpath\u001b[0m\u001b[1;33m)\u001b[0m\u001b[1;33m,\u001b[0m \u001b[0merror_code\u001b[0m\u001b[1;33m=\u001b[0m\u001b[0mRESOURCE_ALREADY_EXISTS\u001b[0m\u001b[1;33m\u001b[0m\u001b[1;33m\u001b[0m\u001b[0m\n\u001b[0;32m    176\u001b[0m         )\n",
      "\u001b[1;31mMlflowException\u001b[0m: Path 'mlflow_bestmodel' already exists"
     ]
    }
   ],
   "source": [
    "# save the best pipeline\n",
    "\n",
    "import mlflow.sklearn\n",
    "mlflow.sklearn.save_model(best_model, 'mlflow_bestmodel', signature=signature)"
   ]
  },
  {
   "cell_type": "code",
   "execution_count": 21,
   "metadata": {},
   "outputs": [
    {
     "name": "stderr",
     "output_type": "stream",
     "text": [
      "C:\\ProgramData\\Anaconda3\\lib\\site-packages\\ipykernel\\ipkernel.py:287: DeprecationWarning: `should_run_async` will not call `transform_cell` automatically in the future. Please pass the result to `transformed_cell` argument and any exception that happen during thetransform in `preprocessing_exc_tuple` in IPython 7.17 and above.\n",
      "  and should_run_async(code)\n"
     ]
    }
   ],
   "source": [
    "# export the best threshold in a .txt\n",
    "f = open(r\"thresh.txt\", \"w+\")\n",
    "f.write(str(thresh))\n",
    "f.close()\n",
    "\n",
    "# # retrieve the threshold stored in a text file\n",
    "# f = open(r\"thresh.txt\", \"r\")\n",
    "# thresh_retrieved = f.read()\n",
    "# f.close()"
   ]
  },
  {
   "cell_type": "markdown",
   "metadata": {},
   "source": [
    "#### Deploy model on local server"
   ]
  },
  {
   "cell_type": "markdown",
   "metadata": {},
   "source": [
    "#### Run the dashboard (that will request prediction from the model)"
   ]
  },
  {
   "cell_type": "code",
   "execution_count": null,
   "metadata": {},
   "outputs": [],
   "source": []
  },
  {
   "cell_type": "markdown",
   "metadata": {},
   "source": [
    "#### Deploy the streamlit dashboard ???"
   ]
  },
  {
   "cell_type": "code",
   "execution_count": null,
   "metadata": {},
   "outputs": [],
   "source": []
  }
 ],
 "metadata": {
  "kernelspec": {
   "display_name": "Python 3",
   "language": "python",
   "name": "python3"
  },
  "language_info": {
   "codemirror_mode": {
    "name": "ipython",
    "version": 3
   },
   "file_extension": ".py",
   "mimetype": "text/x-python",
   "name": "python",
   "nbconvert_exporter": "python",
   "pygments_lexer": "ipython3",
   "version": "3.8.5"
  },
  "toc": {
   "base_numbering": 1,
   "nav_menu": {},
   "number_sections": false,
   "sideBar": true,
   "skip_h1_title": false,
   "title_cell": "Table of Contents",
   "title_sidebar": "Contents",
   "toc_cell": true,
   "toc_position": {
    "height": "calc(100% - 180px)",
    "left": "10px",
    "top": "150px",
    "width": "279.273px"
   },
   "toc_section_display": true,
   "toc_window_display": true
  },
  "varInspector": {
   "cols": {
    "lenName": 16,
    "lenType": 16,
    "lenVar": 40
   },
   "kernels_config": {
    "python": {
     "delete_cmd_postfix": "",
     "delete_cmd_prefix": "del ",
     "library": "var_list.py",
     "varRefreshCmd": "print(var_dic_list())"
    },
    "r": {
     "delete_cmd_postfix": ") ",
     "delete_cmd_prefix": "rm(",
     "library": "var_list.r",
     "varRefreshCmd": "cat(var_dic_list()) "
    }
   },
   "types_to_exclude": [
    "module",
    "function",
    "builtin_function_or_method",
    "instance",
    "_Feature"
   ],
   "window_display": false
  }
 },
 "nbformat": 4,
 "nbformat_minor": 4
}
