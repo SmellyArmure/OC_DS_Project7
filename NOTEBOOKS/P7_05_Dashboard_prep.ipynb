{
 "cells": [
  {
   "cell_type": "markdown",
   "metadata": {
    "toc": true
   },
   "source": [
    "<h1>Table of Contents<span class=\"tocSkip\"></span></h1>\n",
    "<div class=\"toc\"><ul class=\"toc-item\"><li><span><a href=\"#&quot;Implémentez-un-modèle-de-scoring&quot;\" data-toc-modified-id=\"&quot;Implémentez-un-modèle-de-scoring&quot;-1\">\"Implémentez un modèle de scoring\"</a></span><ul class=\"toc-item\"><li><span><a href=\"#0-Preliminaries\" data-toc-modified-id=\"0-Preliminaries-1.1\">0 Preliminaries</a></span><ul class=\"toc-item\"><li><span><a href=\"#0.0-Importing-Packages-and-Modules\" data-toc-modified-id=\"0.0-Importing-Packages-and-Modules-1.1.1\">0.0 Importing Packages and Modules</a></span></li><li><span><a href=\"#0.1-Importing-data-and-model\" data-toc-modified-id=\"0.1-Importing-data-and-model-1.1.2\">0.1 Importing data and model</a></span></li></ul></li><li><span><a href=\"#1-Customer's-choice\" data-toc-modified-id=\"1-Customer's-choice-1.2\">1 Customer's choice</a></span><ul class=\"toc-item\"><li><ul class=\"toc-item\"><li><span><a href=\"#Score-and-decision-according-to-the-best-model\" data-toc-modified-id=\"Score-and-decision-according-to-the-best-model-1.2.0.1\">Score and decision according to the best model</a></span></li><li><span><a href=\"#Nearest-Neighbors\" data-toc-modified-id=\"Nearest-Neighbors-1.2.0.2\">Nearest Neighbors</a></span></li></ul></li></ul></li><li><span><a href=\"#2-Data-Visualization-after-preprocessing-(2D-projection)\" data-toc-modified-id=\"2-Data-Visualization-after-preprocessing-(2D-projection)-1.3\">2 Data Visualization after preprocessing (2D projection)</a></span></li><li><span><a href=\"#3-Boxplot-of-10-main-variables\" data-toc-modified-id=\"3-Boxplot-of-10-main-variables-1.4\">3 Boxplot of 10 main variables</a></span></li><li><span><a href=\"#4-SHAP-graphs\" data-toc-modified-id=\"4-SHAP-graphs-1.5\">4 SHAP graphs</a></span></li><li><span><a href=\"#Model-and-dashboard-deployment\" data-toc-modified-id=\"Model-and-dashboard-deployment-1.6\">Model and dashboard deployment</a></span><ul class=\"toc-item\"><li><ul class=\"toc-item\"><li><span><a href=\"#Deploy-model-on-local-server\" data-toc-modified-id=\"Deploy-model-on-local-server-1.6.0.1\">Deploy model on local server</a></span></li><li><span><a href=\"#Run-the-dashboard-(that-will-request-prediction-from-the-model)\" data-toc-modified-id=\"Run-the-dashboard-(that-will-request-prediction-from-the-model)-1.6.0.2\">Run the dashboard (that will request prediction from the model)</a></span></li><li><span><a href=\"#Deploy-the-streamlit-dashboard-???\" data-toc-modified-id=\"Deploy-the-streamlit-dashboard-???-1.6.0.3\">Deploy the streamlit dashboard ???</a></span></li></ul></li></ul></li></ul></li></ul></div>"
   ]
  },
  {
   "cell_type": "markdown",
   "metadata": {},
   "source": [
    "# \"Implémentez un modèle de scoring\"\n",
    "_Building and optimizing a classification model_\n",
    "\n",
    "References used for this notebook:\n"
   ]
  },
  {
   "cell_type": "markdown",
   "metadata": {
    "id": "AXy2xt5wB3ZD"
   },
   "source": [
    "## 0 Preliminaries"
   ]
  },
  {
   "cell_type": "markdown",
   "metadata": {
    "id": "NQ8_ZaJvGl4o"
   },
   "source": [
    "### 0.0 Importing Packages and Modules"
   ]
  },
  {
   "cell_type": "code",
   "execution_count": 1,
   "metadata": {
    "executionInfo": {
     "elapsed": 26342,
     "status": "ok",
     "timestamp": 1607417481749,
     "user": {
      "displayName": "Maryse Muller",
      "photoUrl": "",
      "userId": "13230828717959946182"
     },
     "user_tz": -60
    },
    "id": "oDhE9utOlwJe"
   },
   "outputs": [],
   "source": [
    "import io\n",
    "import random\n",
    "import pandas as pd\n",
    "import seaborn as sns\n",
    "import numpy as np\n",
    "import matplotlib.pyplot as plt\n",
    "%matplotlib inline\n",
    "plt.rcParams['figure.facecolor']='w'"
   ]
  },
  {
   "cell_type": "code",
   "execution_count": 2,
   "metadata": {
    "executionInfo": {
     "elapsed": 26358,
     "status": "ok",
     "timestamp": 1607417481747,
     "user": {
      "displayName": "Maryse Muller",
      "photoUrl": "",
      "userId": "13230828717959946182"
     },
     "user_tz": -60
    },
    "id": "x1xzfQL5OvRk"
   },
   "outputs": [],
   "source": [
    "from P7_functions import *"
   ]
  },
  {
   "cell_type": "code",
   "execution_count": 3,
   "metadata": {
    "executionInfo": {
     "elapsed": 26335,
     "status": "ok",
     "timestamp": 1607417481751,
     "user": {
      "displayName": "Maryse Muller",
      "photoUrl": "",
      "userId": "13230828717959946182"
     },
     "user_tz": -60
    },
    "id": "G0rRvyJaWO2h"
   },
   "outputs": [],
   "source": [
    "dictPdSettings = {'display.max_rows': 500, 'display.width': 100,\n",
    "                  'display.max_colwidth': 100,\n",
    "                  'display.float_format': lambda x: '%.2f' % x}\n",
    "for k,v in dictPdSettings.items():\n",
    "    pd.set_option(k,v)"
   ]
  },
  {
   "cell_type": "markdown",
   "metadata": {
    "id": "huybodM0rjbA"
   },
   "source": [
    "### 0.1 Importing data and model"
   ]
  },
  {
   "cell_type": "code",
   "execution_count": 4,
   "metadata": {
    "executionInfo": {
     "elapsed": 33585,
     "status": "ok",
     "timestamp": 1607417489021,
     "user": {
      "displayName": "Maryse Muller",
      "photoUrl": "",
      "userId": "13230828717959946182"
     },
     "user_tz": -60
    },
    "id": "uuNErYCJ4s8w"
   },
   "outputs": [],
   "source": [
    "# import cleaned data and model\n",
    "\n",
    "import dill\n",
    "\n",
    "with open('..\\\\PICKLES\\\\dict_cleaned.pkl', 'rb') as file:\n",
    "    dict_cleaned = dill.load(file)\n",
    "with open('..\\\\PICKLES\\\\P7_04_bestmodel_thresh.pkl', 'rb') as file:\n",
    "    best_model, thresh = dill.load(file)\n",
    "# with open('..\\\\PICKLES\\\\P7_04_bestmodel_thresh.pkl', 'rb') as file:\n",
    "#     best_model, thresh = dill.load(file)"
   ]
  },
  {
   "cell_type": "code",
   "execution_count": 5,
   "metadata": {},
   "outputs": [],
   "source": [
    "# put data from dictionary into variables\n",
    "X_train = dict_cleaned['X_train']\n",
    "y_train = dict_cleaned['y_train']\n",
    "X_test = dict_cleaned['X_test']"
   ]
  },
  {
   "cell_type": "code",
   "execution_count": 6,
   "metadata": {},
   "outputs": [],
   "source": [
    "# split the steps of the best pipeline\n",
    "preproc_step = best_model.named_steps['preproc']\n",
    "featsel_step = best_model.named_steps['featsel']\n",
    "clf_step = best_model.named_steps['clf']\n",
    "\n",
    "# compute the preprocessed data (encoding and standardization)\n",
    "X_tr_prepro = preproc_step.transform(X_train)\n",
    "X_te_prepro = preproc_step.transform(X_test)\n",
    "\n",
    "# get the name of the columns after encoding\n",
    "preproc_cols = X_tr_prepro.columns\n",
    "\n",
    "# get the name of the columns selected using SelectFromModel\n",
    "featsel_cols = preproc_cols[featsel_step.get_support()]\n",
    "\n",
    "# compute the data to be used by the best classifier\n",
    "X_tr_featsel = X_tr_prepro[featsel_cols]\n",
    "X_te_featsel = X_te_prepro[featsel_cols]"
   ]
  },
  {
   "cell_type": "markdown",
   "metadata": {},
   "source": [
    "## 1 Customer's choice"
   ]
  },
  {
   "cell_type": "code",
   "execution_count": 7,
   "metadata": {},
   "outputs": [],
   "source": [
    "# random sample of customers\n",
    "\n",
    "N =5000\n",
    "random_samp = X_train.sample(N).index"
   ]
  },
  {
   "cell_type": "code",
   "execution_count": 8,
   "metadata": {},
   "outputs": [],
   "source": [
    "# select one customer among the test sample\n",
    "\n",
    "X_cust = X_test.sample(1)\n",
    "customer_idx = X_cust.index.values[0]"
   ]
  },
  {
   "cell_type": "markdown",
   "metadata": {},
   "source": [
    "#### Score and decision according to the best model"
   ]
  },
  {
   "cell_type": "code",
   "execution_count": 9,
   "metadata": {},
   "outputs": [
    {
     "data": {
      "text/plain": [
       "0.5306122448979591"
      ]
     },
     "execution_count": 9,
     "metadata": {},
     "output_type": "execute_result"
    }
   ],
   "source": [
    "thresh"
   ]
  },
  {
   "cell_type": "code",
   "execution_count": 10,
   "metadata": {},
   "outputs": [],
   "source": [
    "# compute result using the whole pipeline\n",
    "score_cust = best_model.predict_proba(X_cust)[:,1][0]\n",
    "bool_cust = score_cust >= thresh\n",
    "\n",
    "# # compute the best model using preprocessed data and last step of the best pipeline (classifier)\n",
    "# score_cust = clf_step.predict_proba(X_tr_featsel.loc[customer_idx: customer_idx])[:,1][0]\n",
    "# bool_cust = score_cust <= thresh"
   ]
  },
  {
   "cell_type": "code",
   "execution_count": 11,
   "metadata": {},
   "outputs": [
    {
     "data": {
      "text/plain": [
       "(0.29530271868889846, False)"
      ]
     },
     "execution_count": 11,
     "metadata": {},
     "output_type": "execute_result"
    }
   ],
   "source": [
    "score_cust, bool_cust"
   ]
  },
  {
   "cell_type": "markdown",
   "metadata": {},
   "source": [
    "#### Nearest Neighbors"
   ]
  },
  {
   "cell_type": "code",
   "execution_count": 12,
   "metadata": {},
   "outputs": [],
   "source": [
    "# get indices of the 20 nearest neighbors in the X_tr dataframe \n",
    "\n",
    "from sklearn.neighbors import NearestNeighbors\n",
    "\n",
    "# fit nearest neighbors among the selection\n",
    "\n",
    "neigh = NearestNeighbors(n_neighbors=20)\n",
    "neigh.fit(X_tr_featsel.loc[random_samp])\n",
    "\n",
    "idx = neigh.kneighbors(X=X_te_featsel.loc[customer_idx: customer_idx],\n",
    "                       n_neighbors=20,\n",
    "                       return_distance=False).ravel()\n",
    "\n",
    "nearest_cust_idx = list(X_tr_featsel.loc[random_samp].iloc[idx].index)"
   ]
  },
  {
   "cell_type": "markdown",
   "metadata": {},
   "source": [
    "## 2 Data Visualization after preprocessing (2D projection)"
   ]
  },
  {
   "cell_type": "code",
   "execution_count": 13,
   "metadata": {},
   "outputs": [],
   "source": [
    "# Computes the axes for projection with centers\n",
    "\n",
    "dict_proj, dict_proj_centers, _ = prepare_2D_axes(X_tr_featsel.loc[random_samp],\n",
    "                                                  y_train.loc[random_samp],\n",
    "                                                  ser_clust=y_train.loc[random_samp],\n",
    "                                                  proj=['t-SNE'],\n",
    "                                                  model=None,\n",
    "                                                  centers_on=True,\n",
    "                                                  random_state=14)"
   ]
  },
  {
   "cell_type": "code",
   "execution_count": 14,
   "metadata": {},
   "outputs": [
    {
     "data": {
      "image/png": "[encoded data removed]",
      "text/plain": [
       "<Figure size 432x288 with 1 Axes>"
      ]
     },
     "metadata": {},
     "output_type": "display_data"
    }
   ],
   "source": [
    "# Projection of a sample of the training set, colored with target value\n",
    "\n",
    "fig, ax = plt.subplots()\n",
    "\n",
    "proj = 'UMAP'\n",
    "\n",
    "# show random sample\n",
    "plot_projection(X=X_tr_featsel.loc[random_samp],\n",
    "                y=y_train.loc[random_samp],\n",
    "                model=None,\n",
    "                plot_only_idx = random_samp,\n",
    "                dict_proj = dict_proj,\n",
    "                dict_proj_centers = dict_proj_centers,\n",
    "                ser_clust = y_train.loc[random_samp],\n",
    "                proj=proj, # PCA, UMAP, t-SNE\n",
    "                tw_n_neigh=5, title=\"Projection of the 20 nearest customers among a 500 sample\",\n",
    "                bboxtoanchor=None, figsize=(10, 6), size=5, palette=['pink','lightgreen'],\n",
    "                show_centers=True, legend_on=True, fig=fig, ax=ax, random_state=14)\n",
    "\n",
    "# show nearest neighbors\n",
    "plot_projection(X=X_tr_featsel.loc[random_samp],\n",
    "                y=y_train.loc[random_samp],\n",
    "                model=None,\n",
    "                plot_only_idx = nearest_cust_idx,\n",
    "                dict_proj = dict_proj,\n",
    "                dict_proj_centers = dict_proj_centers,\n",
    "                ser_clust = y_train.loc[random_samp],\n",
    "                proj=proj, # PCA, UMAP, t-SNE\n",
    "                tw_n_neigh=None, title=None,\n",
    "                bboxtoanchor=None, figsize=(10, 6), size=10, palette=['darkred','darkgreen'],\n",
    "                show_centers=False, legend_on=True, fig=fig, ax=ax, random_state=14)\n",
    "\n",
    "# show nearest neighbors\n",
    "plot_projection(X=X_tr_featsel.loc[random_samp],\n",
    "                y=y_train.loc[random_samp],\n",
    "                model=None,\n",
    "                plot_only_idx = [customer_idx],\n",
    "                dict_proj = dict_proj,\n",
    "                dict_proj_centers = dict_proj_centers,\n",
    "                ser_clust = y_train.loc[random_samp],\n",
    "                proj=proj, # PCA, UMAP, t-SNE\n",
    "                tw_n_neigh=None, title=None,\n",
    "                bboxtoanchor=None, figsize=(10, 6), size=50, palette=['k'],\n",
    "                show_centers=False, legend_on=True, fig=fig, ax=ax, random_state=14)"
   ]
  },
  {
   "cell_type": "markdown",
   "metadata": {},
   "source": [
    "## 3 Boxplot of 10 main variables"
   ]
  },
  {
   "cell_type": "code",
   "execution_count": 120,
   "metadata": {},
   "outputs": [],
   "source": [
    "X_all = X_tr_featsel.loc[random_samp]\n",
    "y_all = y_train.loc[random_samp].replace({0: 'repaid (global)',\n",
    "                                          1: 'not repaid (global)'})\n",
    "X_neigh = X_tr_featsel.loc[nearest_cust_idx]\n",
    "y_neigh = y_train.loc[nearest_cust_idx].replace({0: 'repaid (neighbors)',\n",
    "                                                 1: 'not repaid (neighbors)'})\n",
    "X_cust = X_te_featsel.loc[customer_idx]\n",
    "main_cols = ['binary__CODE_GENDER', 'high_card__OCCUPATION_TYPE', 'high_card__ORGANIZATION_TYPE',\n",
    "             'INCOME_CREDIT_PERC', 'EXT_SOURCE_2', 'ANNUITY_INCOME_PERC', 'EXT_SOURCE_3', 'AMT_CREDIT',\n",
    "             'PAYMENT_RATE', 'DAYS_BIRTH']"
   ]
  },
  {
   "cell_type": "code",
   "execution_count": 144,
   "metadata": {},
   "outputs": [
    {
     "name": "stderr",
     "output_type": "stream",
     "text": [
      "C:\\ProgramData\\Anaconda3\\lib\\site-packages\\seaborn\\categorical.py:1296: UserWarning: 25.0% of the points cannot be placed; you may want to decrease the size of the markers or use stripplot.\n",
      "  warnings.warn(msg, UserWarning)\n",
      "C:\\ProgramData\\Anaconda3\\lib\\site-packages\\seaborn\\categorical.py:1296: UserWarning: 45.0% of the points cannot be placed; you may want to decrease the size of the markers or use stripplot.\n",
      "  warnings.warn(msg, UserWarning)\n"
     ]
    },
    {
     "data": {
      "image/png": "[encoded data removed]",
      "text/plain": [
       "<Figure size 1080x288 with 1 Axes>"
      ]
     },
     "metadata": {},
     "output_type": "display_data"
    }
   ],
   "source": [
    "fig = plot_boxplot_var_by_target(X_all, y_all, X_neigh, y_neigh, X_cust,\n",
    "                                 main_cols, figsize=(15,4))"
   ]
  },
  {
   "cell_type": "markdown",
   "metadata": {},
   "source": [
    "## 4 SHAP graphs"
   ]
  },
  {
   "cell_type": "code",
   "execution_count": 147,
   "metadata": {},
   "outputs": [],
   "source": [
    "import shap"
   ]
  },
  {
   "cell_type": "code",
   "execution_count": 184,
   "metadata": {},
   "outputs": [
    {
     "data": {
      "text/plain": [
       "'0.37.0'"
      ]
     },
     "execution_count": 184,
     "metadata": {},
     "output_type": "execute_result"
    }
   ],
   "source": [
    "shap.__version__"
   ]
  },
  {
   "cell_type": "code",
   "execution_count": 161,
   "metadata": {},
   "outputs": [
    {
     "data": {
      "text/plain": [
       "LGBMClassifier(extra_trees=True, is_unbalance=True,\n",
       "               learning_rate=0.034600991954157015, max_depth=3,\n",
       "               n_estimators=1071, num_leaves=85, random_state=14,\n",
       "               reg_alpha=0.001815601938420407, reg_lambda=0.1168368098621301)"
      ]
     },
     "execution_count": 161,
     "metadata": {},
     "output_type": "execute_result"
    }
   ],
   "source": [
    "# refit the classifier to avoid 'objective' value error in shap...\n",
    "clf_step.fit(X_tr_featsel, y_train)"
   ]
  },
  {
   "cell_type": "code",
   "execution_count": 162,
   "metadata": {},
   "outputs": [],
   "source": [
    "# create the shap tree explainer of our classifier\n",
    "explainer = shap.TreeExplainer(clf_step)"
   ]
  },
  {
   "cell_type": "code",
   "execution_count": null,
   "metadata": {},
   "outputs": [],
   "source": [
    "X_all, y_all, X_neigh, y_neigh, X_cust, main_cols,"
   ]
  },
  {
   "cell_type": "code",
   "execution_count": 178,
   "metadata": {},
   "outputs": [
    {
     "data": {
      "text/plain": [
       "-0.43047621229368827"
      ]
     },
     "execution_count": 178,
     "metadata": {},
     "output_type": "execute_result"
    }
   ],
   "source": [
    "# compute expected value (approx mean of predictions on training set)\n",
    "expected_value = explainer.expected_value[1] # depends on the model only (already fitted on training set)\n",
    "expected_value"
   ]
  },
  {
   "cell_type": "code",
   "execution_count": 175,
   "metadata": {},
   "outputs": [
    {
     "data": {
      "text/plain": [
       "(21, 41)"
      ]
     },
     "execution_count": 175,
     "metadata": {},
     "output_type": "execute_result"
    }
   ],
   "source": [
    "# compute the SHAP values of the 20 neighbors + customer for the model\n",
    "X_cust_neigh = pd.concat([X_neigh,\n",
    "                          X_cust.to_frame(customer_idx).T],\n",
    "                         axis=0)\n",
    "# neighbors + customer shap values\n",
    "shap_val_neigh = explainer.shap_values(X_cust_neigh)[1] \n",
    "shap_val_neigh.shape"
   ]
  },
  {
   "cell_type": "code",
   "execution_count": 358,
   "metadata": {},
   "outputs": [],
   "source": [
    "# # compute shap interaction values of features (matrix)\n",
    "# shap_interaction_values = explainer.shap_interaction_values(features_sel)[1] # ne dépend pas du nbe de features... (pourquoi?)"
   ]
  },
  {
   "cell_type": "code",
   "execution_count": 183,
   "metadata": {
    "collapsed": true
   },
   "outputs": [
    {
     "ename": "AttributeError",
     "evalue": "'numpy.float64' object has no attribute 'base_values'",
     "output_type": "error",
     "traceback": [
      "\u001b[1;31m---------------------------------------------------------------------------\u001b[0m",
      "\u001b[1;31mAttributeError\u001b[0m                            Traceback (most recent call last)",
      "\u001b[1;32m<ipython-input-183-e59baf519ecb>\u001b[0m in \u001b[0;36m<module>\u001b[1;34m\u001b[0m\n\u001b[1;32m----> 1\u001b[1;33m shap.waterfall_plot(expected_value,\n\u001b[0m\u001b[0;32m      2\u001b[0m                     \u001b[0mshap_val_neigh\u001b[0m\u001b[1;33m[\u001b[0m\u001b[1;33m-\u001b[0m\u001b[1;36m1\u001b[0m\u001b[1;33m]\u001b[0m\u001b[1;33m,\u001b[0m \u001b[1;31m# shap value of the customer (last row)\u001b[0m\u001b[1;33m\u001b[0m\u001b[1;33m\u001b[0m\u001b[0m\n\u001b[0;32m      3\u001b[0m \u001b[1;31m#                     feature_names=X_neigh.columns,\u001b[0m\u001b[1;33m\u001b[0m\u001b[1;33m\u001b[0m\u001b[1;33m\u001b[0m\u001b[0m\n\u001b[0;32m      4\u001b[0m \u001b[1;31m#                     max_display=10\u001b[0m\u001b[1;33m\u001b[0m\u001b[1;33m\u001b[0m\u001b[1;33m\u001b[0m\u001b[0m\n\u001b[0;32m      5\u001b[0m                    )\n",
      "\u001b[1;32mC:\\ProgramData\\Anaconda3\\lib\\site-packages\\shap\\plots\\_waterfall.py\u001b[0m in \u001b[0;36mwaterfall\u001b[1;34m(shap_values, max_display, show)\u001b[0m\n\u001b[0;32m     40\u001b[0m \u001b[1;33m\u001b[0m\u001b[0m\n\u001b[0;32m     41\u001b[0m \u001b[1;33m\u001b[0m\u001b[0m\n\u001b[1;32m---> 42\u001b[1;33m     \u001b[0mbase_values\u001b[0m \u001b[1;33m=\u001b[0m \u001b[0mshap_values\u001b[0m\u001b[1;33m.\u001b[0m\u001b[0mbase_values\u001b[0m\u001b[1;33m\u001b[0m\u001b[1;33m\u001b[0m\u001b[0m\n\u001b[0m\u001b[0;32m     43\u001b[0m \u001b[1;33m\u001b[0m\u001b[0m\n\u001b[0;32m     44\u001b[0m     \u001b[0mfeatures\u001b[0m \u001b[1;33m=\u001b[0m \u001b[0mshap_values\u001b[0m\u001b[1;33m.\u001b[0m\u001b[0mdata\u001b[0m\u001b[1;33m\u001b[0m\u001b[1;33m\u001b[0m\u001b[0m\n",
      "\u001b[1;31mAttributeError\u001b[0m: 'numpy.float64' object has no attribute 'base_values'"
     ]
    }
   ],
   "source": [
    "shap.waterfall_plot(expected_value,\n",
    "                    shap_val_neigh[-1], # shap value of the customer (last row)\n",
    "#                     feature_names=X_neigh.columns,\n",
    "#                     max_display=10\n",
    "                   )\n"
   ]
  },
  {
   "cell_type": "code",
   "execution_count": null,
   "metadata": {},
   "outputs": [],
   "source": [
    "explainer.expected_value[c],\n",
    "shap_values[c].reshape(-1),\n",
    "X_test_array.reshape(-1),\n",
    "feature_names=vectorizer.get_feature_names(),\n",
    "max_display=10"
   ]
  },
  {
   "cell_type": "code",
   "execution_count": 185,
   "metadata": {},
   "outputs": [
    {
     "ename": "NameError",
     "evalue": "name 'X_test_array' is not defined",
     "output_type": "error",
     "traceback": [
      "\u001b[1;31m---------------------------------------------------------------------------\u001b[0m",
      "\u001b[1;31mNameError\u001b[0m                                 Traceback (most recent call last)",
      "\u001b[1;32m<ipython-input-185-10e8d0b9ebb8>\u001b[0m in \u001b[0;36m<module>\u001b[1;34m\u001b[0m\n\u001b[0;32m      1\u001b[0m shap.plots._waterfall.waterfall_legacy(expected_value,\n\u001b[0;32m      2\u001b[0m                                        \u001b[0mshap_val_neigh\u001b[0m\u001b[1;33m[\u001b[0m\u001b[1;33m-\u001b[0m\u001b[1;36m1\u001b[0m\u001b[1;33m]\u001b[0m\u001b[1;33m,\u001b[0m\u001b[1;33m\u001b[0m\u001b[1;33m\u001b[0m\u001b[0m\n\u001b[1;32m----> 3\u001b[1;33m                                        \u001b[0mX_test_array\u001b[0m\u001b[1;33m.\u001b[0m\u001b[0mreshape\u001b[0m\u001b[1;33m(\u001b[0m\u001b[1;33m-\u001b[0m\u001b[1;36m1\u001b[0m\u001b[1;33m)\u001b[0m\u001b[1;33m,\u001b[0m\u001b[1;33m\u001b[0m\u001b[1;33m\u001b[0m\u001b[0m\n\u001b[0m\u001b[0;32m      4\u001b[0m                                        \u001b[0mfeature_names\u001b[0m\u001b[1;33m=\u001b[0m\u001b[0mX_neigh\u001b[0m\u001b[1;33m.\u001b[0m\u001b[0mcolumns\u001b[0m\u001b[1;33m,\u001b[0m\u001b[1;33m\u001b[0m\u001b[1;33m\u001b[0m\u001b[0m\n\u001b[0;32m      5\u001b[0m                                        max_display=10)\n",
      "\u001b[1;31mNameError\u001b[0m: name 'X_test_array' is not defined"
     ]
    }
   ],
   "source": [
    "shap.plots._waterfall.waterfall_legacy(expected_value,\n",
    "                                       shap_val_neigh[-1],\n",
    "                                       X_test_array.reshape(-1),\n",
    "                                       feature_names=X_neigh.columns,\n",
    "                                       max_display=10)"
   ]
  },
  {
   "cell_type": "code",
   "execution_count": null,
   "metadata": {},
   "outputs": [],
   "source": [
    "shap.force_plot(log_reg_explainer.expected_value[0],\n",
    "                log_reg_explainer.shap_values(X_test[:10])[0],\n",
    "                feature_names=wine.feature_names,\n",
    "                out_names=\"Wine Type\", figsize=(25,3),\n",
    "                link=\"identity\")"
   ]
  },
  {
   "cell_type": "code",
   "execution_count": null,
   "metadata": {},
   "outputs": [],
   "source": [
    "shap.summary_plot(log_reg_explainer.shap_values(X_test)[1],\n",
    "                  features=X_test,\n",
    "                  feature_names=wine.feature_names)"
   ]
  },
  {
   "cell_type": "markdown",
   "metadata": {},
   "source": [
    "## Model and dashboard deployment"
   ]
  },
  {
   "cell_type": "markdown",
   "metadata": {},
   "source": [
    "#### Deploy model on local server"
   ]
  },
  {
   "cell_type": "markdown",
   "metadata": {},
   "source": [
    "#### Run the dashboard (that will request prediction from the model)"
   ]
  },
  {
   "cell_type": "code",
   "execution_count": null,
   "metadata": {},
   "outputs": [],
   "source": []
  },
  {
   "cell_type": "markdown",
   "metadata": {},
   "source": [
    "#### Deploy the streamlit dashboard ???"
   ]
  },
  {
   "cell_type": "code",
   "execution_count": null,
   "metadata": {},
   "outputs": [],
   "source": []
  }
 ],
 "metadata": {
  "kernelspec": {
   "display_name": "Python 3",
   "language": "python",
   "name": "python3"
  },
  "language_info": {
   "codemirror_mode": {
    "name": "ipython",
    "version": 3
   },
   "file_extension": ".py",
   "mimetype": "text/x-python",
   "name": "python",
   "nbconvert_exporter": "python",
   "pygments_lexer": "ipython3",
   "version": "3.8.5"
  },
  "toc": {
   "base_numbering": 1,
   "nav_menu": {},
   "number_sections": false,
   "sideBar": true,
   "skip_h1_title": false,
   "title_cell": "Table of Contents",
   "title_sidebar": "Contents",
   "toc_cell": true,
   "toc_position": {
    "height": "calc(100% - 180px)",
    "left": "10px",
    "top": "150px",
    "width": "279.273px"
   },
   "toc_section_display": true,
   "toc_window_display": true
  },
  "varInspector": {
   "cols": {
    "lenName": 16,
    "lenType": 16,
    "lenVar": 40
   },
   "kernels_config": {
    "python": {
     "delete_cmd_postfix": "",
     "delete_cmd_prefix": "del ",
     "library": "var_list.py",
     "varRefreshCmd": "print(var_dic_list())"
    },
    "r": {
     "delete_cmd_postfix": ") ",
     "delete_cmd_prefix": "rm(",
     "library": "var_list.r",
     "varRefreshCmd": "cat(var_dic_list()) "
    }
   },
   "types_to_exclude": [
    "module",
    "function",
    "builtin_function_or_method",
    "instance",
    "_Feature"
   ],
   "window_display": false
  }
 },
 "nbformat": 4,
 "nbformat_minor": 4
}
