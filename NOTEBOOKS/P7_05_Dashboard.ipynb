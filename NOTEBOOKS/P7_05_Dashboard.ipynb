{
 "cells": [
  {
   "cell_type": "markdown",
   "metadata": {
    "toc": true
   },
   "source": [
    "<h1>Table of Contents<span class=\"tocSkip\"></span></h1>\n",
    "<div class=\"toc\"><ul class=\"toc-item\"><li><span><a href=\"#&quot;Implémentez-un-modèle-de-scoring&quot;\" data-toc-modified-id=\"&quot;Implémentez-un-modèle-de-scoring&quot;-1\">\"Implémentez un modèle de scoring\"</a></span><ul class=\"toc-item\"><li><span><a href=\"#0-Preliminaries\" data-toc-modified-id=\"0-Preliminaries-1.1\">0 Preliminaries</a></span><ul class=\"toc-item\"><li><span><a href=\"#0.0-Importing-Packages-and-Modules\" data-toc-modified-id=\"0.0-Importing-Packages-and-Modules-1.1.1\">0.0 Importing Packages and Modules</a></span></li><li><span><a href=\"#0.1-Importing-data-and-model\" data-toc-modified-id=\"0.1-Importing-data-and-model-1.1.2\">0.1 Importing data and model</a></span></li></ul></li><li><span><a href=\"#1-Customer's-choice\" data-toc-modified-id=\"1-Customer's-choice-1.2\">1 Customer's choice</a></span><ul class=\"toc-item\"><li><ul class=\"toc-item\"><li><span><a href=\"#Encoding\" data-toc-modified-id=\"Encoding-1.2.0.1\">Encoding</a></span></li><li><span><a href=\"#Nearest-Neighbors\" data-toc-modified-id=\"Nearest-Neighbors-1.2.0.2\">Nearest Neighbors</a></span></li></ul></li><li><span><a href=\"#2.4-Data-Visualization-after-preprocessing-(2D-projection)\" data-toc-modified-id=\"2.4-Data-Visualization-after-preprocessing-(2D-projection)-1.2.1\">2.4 Data Visualization after preprocessing (2D projection)</a></span></li></ul></li><li><span><a href=\"#3-SHAP-values\" data-toc-modified-id=\"3-SHAP-values-1.3\">3 SHAP values</a></span></li></ul></li></ul></div>"
   ]
  },
  {
   "cell_type": "markdown",
   "metadata": {},
   "source": [
    "# \"Implémentez un modèle de scoring\"\n",
    "_Building and optimizing a classification model_\n",
    "\n",
    "References used for this notebook:\n"
   ]
  },
  {
   "cell_type": "markdown",
   "metadata": {
    "id": "AXy2xt5wB3ZD"
   },
   "source": [
    "## 0 Preliminaries"
   ]
  },
  {
   "cell_type": "markdown",
   "metadata": {
    "id": "NQ8_ZaJvGl4o"
   },
   "source": [
    "### 0.0 Importing Packages and Modules"
   ]
  },
  {
   "cell_type": "code",
   "execution_count": 7,
   "metadata": {
    "executionInfo": {
     "elapsed": 26342,
     "status": "ok",
     "timestamp": 1607417481749,
     "user": {
      "displayName": "Maryse Muller",
      "photoUrl": "",
      "userId": "13230828717959946182"
     },
     "user_tz": -60
    },
    "id": "oDhE9utOlwJe"
   },
   "outputs": [],
   "source": [
    "import io\n",
    "import random\n",
    "import pandas as pd\n",
    "import seaborn as sns\n",
    "import numpy as np\n",
    "import matplotlib.pyplot as plt\n",
    "%matplotlib inline\n",
    "plt.rcParams['figure.facecolor']='w'"
   ]
  },
  {
   "cell_type": "code",
   "execution_count": 5,
   "metadata": {
    "executionInfo": {
     "elapsed": 26358,
     "status": "ok",
     "timestamp": 1607417481747,
     "user": {
      "displayName": "Maryse Muller",
      "photoUrl": "",
      "userId": "13230828717959946182"
     },
     "user_tz": -60
    },
    "id": "x1xzfQL5OvRk"
   },
   "outputs": [],
   "source": [
    "from P7_functions import *"
   ]
  },
  {
   "cell_type": "code",
   "execution_count": 8,
   "metadata": {
    "executionInfo": {
     "elapsed": 26335,
     "status": "ok",
     "timestamp": 1607417481751,
     "user": {
      "displayName": "Maryse Muller",
      "photoUrl": "",
      "userId": "13230828717959946182"
     },
     "user_tz": -60
    },
    "id": "G0rRvyJaWO2h"
   },
   "outputs": [],
   "source": [
    "dictPdSettings = {'display.max_rows': 500, 'display.width': 100,\n",
    "                  'display.max_colwidth': 100,\n",
    "                  'display.float_format': lambda x: '%.2f' % x}\n",
    "for k,v in dictPdSettings.items():\n",
    "  pd.set_option(k,v)"
   ]
  },
  {
   "cell_type": "markdown",
   "metadata": {
    "id": "huybodM0rjbA"
   },
   "source": [
    "### 0.1 Importing data and model"
   ]
  },
  {
   "cell_type": "code",
   "execution_count": 11,
   "metadata": {
    "executionInfo": {
     "elapsed": 33585,
     "status": "ok",
     "timestamp": 1607417489021,
     "user": {
      "displayName": "Maryse Muller",
      "photoUrl": "",
      "userId": "13230828717959946182"
     },
     "user_tz": -60
    },
    "id": "uuNErYCJ4s8w"
   },
   "outputs": [],
   "source": [
    "# import cleaned data and model\n",
    "\n",
    "import dill\n",
    "\n",
    "with open('..\\\\PICKLES\\\\dict_cleaned.pkl', 'rb') as file:\n",
    "    dict_cleaned = dill.load(file)\n",
    "with open('..\\\\PICKLES\\\\best_pipe.pkl', 'rb') as file:\n",
    "    best_model = dill.load(file)"
   ]
  },
  {
   "cell_type": "code",
   "execution_count": 12,
   "metadata": {},
   "outputs": [],
   "source": [
    "X_train = dict_cleaned['X_train']\n",
    "y_train = dict_cleaned['y_train']\n",
    "X_test = dict_cleaned['X_test']"
   ]
  },
  {
   "cell_type": "markdown",
   "metadata": {},
   "source": [
    "## 1 Customer's choice"
   ]
  },
  {
   "cell_type": "markdown",
   "metadata": {},
   "source": [
    "#### Encoding"
   ]
  },
  {
   "cell_type": "code",
   "execution_count": 24,
   "metadata": {},
   "outputs": [
    {
     "data": {
      "text/plain": [
       "CustTransformer(strat_high_card='loo', thresh_card=8)"
      ]
     },
     "execution_count": 24,
     "metadata": {},
     "output_type": "execute_result"
    }
   ],
   "source": [
    "best_model.named_steps['preproc']"
   ]
  },
  {
   "cell_type": "code",
   "execution_count": 28,
   "metadata": {},
   "outputs": [
    {
     "name": "stderr",
     "output_type": "stream",
     "text": [
      "C:\\ProgramData\\Anaconda3\\lib\\site-packages\\category_encoders\\utils.py:21: FutureWarning: is_categorical is deprecated and will be removed in a future version.  Use is_categorical_dtype instead\n",
      "  elif pd.api.types.is_categorical(cols):\n",
      "C:\\ProgramData\\Anaconda3\\lib\\site-packages\\category_encoders\\utils.py:21: FutureWarning: is_categorical is deprecated and will be removed in a future version.  Use is_categorical_dtype instead\n",
      "  elif pd.api.types.is_categorical(cols):\n",
      "C:\\ProgramData\\Anaconda3\\lib\\site-packages\\category_encoders\\utils.py:21: FutureWarning: is_categorical is deprecated and will be removed in a future version.  Use is_categorical_dtype instead\n",
      "  elif pd.api.types.is_categorical(cols):\n",
      "C:\\ProgramData\\Anaconda3\\lib\\site-packages\\category_encoders\\utils.py:21: FutureWarning: is_categorical is deprecated and will be removed in a future version.  Use is_categorical_dtype instead\n",
      "  elif pd.api.types.is_categorical(cols):\n"
     ]
    }
   ],
   "source": [
    "from sklearn.neighbors import NearestNeighbors\n",
    "\n",
    "preprocess = best_model.named_steps['preproc']\n",
    "preprocess.fit(X_train)\n",
    "X_train_enc = preprocess.transform(X_train)\n",
    "X_test_enc = preprocess.transform(X_test)"
   ]
  },
  {
   "cell_type": "code",
   "execution_count": 35,
   "metadata": {},
   "outputs": [
    {
     "data": {
      "text/html": [
       "<div>\n",
       "<style scoped>\n",
       "    .dataframe tbody tr th:only-of-type {\n",
       "        vertical-align: middle;\n",
       "    }\n",
       "\n",
       "    .dataframe tbody tr th {\n",
       "        vertical-align: top;\n",
       "    }\n",
       "\n",
       "    .dataframe thead th {\n",
       "        text-align: right;\n",
       "    }\n",
       "</style>\n",
       "<table border=\"1\" class=\"dataframe\">\n",
       "  <thead>\n",
       "    <tr style=\"text-align: right;\">\n",
       "      <th></th>\n",
       "      <th>binary__CNT_FAM_MEMBERS_NOT_CHILD</th>\n",
       "      <th>binary__NAME_CONTRACT_TYPE</th>\n",
       "      <th>binary__CODE_GENDER</th>\n",
       "      <th>binary__FLAG_OWN_CAR</th>\n",
       "      <th>binary__FLAG_OWN_REALTY</th>\n",
       "      <th>binary__REG_REGION_NOT_LIVE_REGION</th>\n",
       "      <th>binary__LIVE_REGION_NOT_WORK_REGION</th>\n",
       "      <th>binary__REG_CITY_NOT_LIVE_CITY</th>\n",
       "      <th>binary__LIVE_CITY_NOT_WORK_CITY</th>\n",
       "      <th>binary__FLAG_DOCUMENT_2</th>\n",
       "      <th>...</th>\n",
       "      <th>AMT_ANNUITY</th>\n",
       "      <th>EXT_SOURCE_2</th>\n",
       "      <th>EXT_SOURCE_3</th>\n",
       "      <th>PA_DAYS_TOT_DURATION__mean</th>\n",
       "      <th>PA_DAYS_TOT_DURATION__sum</th>\n",
       "      <th>PA_AMT_ANNUITY__mean</th>\n",
       "      <th>PA_CNT_PAYMENT__mean</th>\n",
       "      <th>PA_AMT_CREDIT__sum</th>\n",
       "      <th>PA_AMT_CREDIT__mean</th>\n",
       "      <th>PA_PrL_N_CONT_Ty_Revolving loans__sum</th>\n",
       "    </tr>\n",
       "  </thead>\n",
       "  <tbody>\n",
       "    <tr>\n",
       "      <th>11569</th>\n",
       "      <td>2.00</td>\n",
       "      <td>1.00</td>\n",
       "      <td>2.00</td>\n",
       "      <td>1.00</td>\n",
       "      <td>2.00</td>\n",
       "      <td>1.00</td>\n",
       "      <td>1.00</td>\n",
       "      <td>1.00</td>\n",
       "      <td>1.00</td>\n",
       "      <td>1.00</td>\n",
       "      <td>...</td>\n",
       "      <td>-0.97</td>\n",
       "      <td>0.86</td>\n",
       "      <td>0.11</td>\n",
       "      <td>-0.62</td>\n",
       "      <td>-0.70</td>\n",
       "      <td>-0.51</td>\n",
       "      <td>0.05</td>\n",
       "      <td>0.02</td>\n",
       "      <td>-0.21</td>\n",
       "      <td>2.57</td>\n",
       "    </tr>\n",
       "  </tbody>\n",
       "</table>\n",
       "<p>1 rows × 247 columns</p>\n",
       "</div>"
      ],
      "text/plain": [
       "       binary__CNT_FAM_MEMBERS_NOT_CHILD  binary__NAME_CONTRACT_TYPE  binary__CODE_GENDER  \\\n",
       "11569                               2.00                        1.00                 2.00   \n",
       "\n",
       "       binary__FLAG_OWN_CAR  binary__FLAG_OWN_REALTY  binary__REG_REGION_NOT_LIVE_REGION  \\\n",
       "11569                  1.00                     2.00                                1.00   \n",
       "\n",
       "       binary__LIVE_REGION_NOT_WORK_REGION  binary__REG_CITY_NOT_LIVE_CITY  \\\n",
       "11569                                 1.00                            1.00   \n",
       "\n",
       "       binary__LIVE_CITY_NOT_WORK_CITY  binary__FLAG_DOCUMENT_2  ...  AMT_ANNUITY  EXT_SOURCE_2  \\\n",
       "11569                             1.00                     1.00  ...        -0.97          0.86   \n",
       "\n",
       "       EXT_SOURCE_3  PA_DAYS_TOT_DURATION__mean  PA_DAYS_TOT_DURATION__sum  PA_AMT_ANNUITY__mean  \\\n",
       "11569          0.11                       -0.62                      -0.70                 -0.51   \n",
       "\n",
       "       PA_CNT_PAYMENT__mean  PA_AMT_CREDIT__sum  PA_AMT_CREDIT__mean  \\\n",
       "11569                  0.05                0.02                -0.21   \n",
       "\n",
       "       PA_PrL_N_CONT_Ty_Revolving loans__sum  \n",
       "11569                                   2.57  \n",
       "\n",
       "[1 rows x 247 columns]"
      ]
     },
     "execution_count": 35,
     "metadata": {},
     "output_type": "execute_result"
    }
   ],
   "source": [
    "X_cust = X_test_enc.sample(1)\n",
    "X_cust"
   ]
  },
  {
   "cell_type": "markdown",
   "metadata": {},
   "source": [
    "#### Nearest Neighbors"
   ]
  },
  {
   "cell_type": "code",
   "execution_count": null,
   "metadata": {},
   "outputs": [],
   "source": [
    "### A IMPORTER\n",
    "\n",
    "neigh = NearestNeighbors(n_neighbors=20)\n",
    "neigh.fit(X_train_enc)"
   ]
  },
  {
   "cell_type": "code",
   "execution_count": 39,
   "metadata": {},
   "outputs": [],
   "source": [
    "nearest_cust_idx = neigh.kneighbors(X=X_cust, n_neighbors=20, return_distance=False)"
   ]
  },
  {
   "cell_type": "markdown",
   "metadata": {},
   "source": [
    "### 2.4 Data Visualization after preprocessing (2D projection)"
   ]
  },
  {
   "cell_type": "code",
   "execution_count": 42,
   "metadata": {
    "collapsed": true
   },
   "outputs": [
    {
     "data": {
      "image/png": "[encoded data removed]",
      "text/plain": [
       "<Figure size 720x432 with 1 Axes>"
      ]
     },
     "metadata": {},
     "output_type": "display_data"
    }
   ],
   "source": [
    "# Projection of a sample of the training set, colored with target value\n",
    "\n",
    "ind_samp = X_train_enc.sample(500).index\n",
    "\n",
    "plot_projection(X=X_train_enc.loc[ind_samp],\n",
    "                y=y_train.loc[ind_samp],\n",
    "                model=None,\n",
    "                highlight_ind =   # indices of points to include and highlight\n",
    "                ser_clust = y_train.loc[ind_samp],\n",
    "                proj='t-SNE', # PCA, UMAP, t-SNE\n",
    "                tw_n_neigh=5, title=\"Projection of a sample of the encoded training dataset\",\n",
    "                bboxtoanchor=None, figsize=(10, 6), size=10, palette=['r','g'], # 'tab10'\n",
    "                legend_on=False, fig=None, ax=None, random_state=14)"
   ]
  },
  {
   "cell_type": "code",
   "execution_count": null,
   "metadata": {},
   "outputs": [],
   "source": [
    "import seaborn as sns\n",
    "\n",
    "def plot_projection(X, y, model=None, ser_clust = None, proj='PCA',\n",
    "                    tw_n_neigh=5, title=None, bboxtoanchor=None,\n",
    "                    figsize=(5, 3), size=1, palette='tab10',\n",
    "                    legend_on=False, fig=None, ax=None, random_state=14):\n",
    "\n",
    "    fig = plt.figure(figsize=figsize) if fig is None else fig\n",
    "    ax = fig.add_subplot(111) if ax is None else ax\n",
    "\n",
    "    # a1 - if model : computes clusters, clusters centers and plot with colors\n",
    "    if model is not None:\n",
    "\n",
    "        # Computes the axes for projection with centers\n",
    "        # (uses fitted model if already fitted)\n",
    "        dict_proj, dict_proj_centers, model = prepare_2D_axes(X, y,\n",
    "                                                              proj=[proj],\n",
    "                                                              model=model,\n",
    "                                                              centers_on=True,\n",
    "                                                              random_state=random_state)\n",
    "\n",
    "        # ...or using model already fitted in prepare_2D_axes to get it\n",
    "        #### all clusterers don't have .predict/labels_ method -> changed\n",
    "        if hasattr(model, 'labels_'):\n",
    "            clust = model.labels_\n",
    "        else:\n",
    "            clust = model.predict(X)\n",
    "        ser_clust = pd.Series(clust,\n",
    "                                index=X.index,\n",
    "                                name='Clust')\n",
    "        \n",
    "    # a2 - if no model but ser_clust is given, plot with colors\n",
    "    elif ser_clust is not None:\n",
    "        \n",
    "        # Computes the axes for projection\n",
    "        dict_proj, dict_proj_centers, _ = \\\n",
    "            prepare_2D_axes(X, y, ser_clust=ser_clust, proj=[proj],\n",
    "                            model=None, centers_on=True,\n",
    "                            random_state=random_state)\n",
    "\n",
    "        n_clust = ser_clust.nunique()\n",
    "        colors = sns.color_palette(palette, n_clust).as_hex()\n",
    "\n",
    "    # Computing the global trustworthiness\n",
    "    trustw = trustworthiness(X, dict_proj[proj],\n",
    "                            n_neighbors=tw_n_neigh, metric='euclidean')\n",
    "    # Computing the trustworthiness category by category\n",
    "    ser_tw_clust = groups_trustworthiness(X, dict_proj[proj], ser_clust,\n",
    "                                          n_neighbors=tw_n_neigh)\n",
    "\n",
    "    # b1 - if ser_clust exists (either calculated from model or given)\n",
    "    if ser_clust is not None:\n",
    "\n",
    "        # Showing the points, cluster by cluster\n",
    "        # for i in range(n_clust):\n",
    "        for i, name_clust in enumerate(ser_clust.unique()):\n",
    "            ind = ser_clust[ser_clust == name_clust].index\n",
    "            ax.scatter(dict_proj[proj].loc[ind].iloc[:, 0],\n",
    "                       dict_proj[proj].loc[ind].iloc[:, 1],\n",
    "                       s=size, alpha=0.7, c=colors[i], zorder=1)\n",
    "\n",
    "            # Showing the clusters centers\n",
    "            ax.scatter(dict_proj_centers[proj].iloc[:, 0].loc[name_clust],\n",
    "                        dict_proj_centers[proj].iloc[:, 1].loc[name_clust],\n",
    "                        marker='o', c=colors[i], alpha=0.7, s=150,\n",
    "                       edgecolor='k',\n",
    "                       label=\"{}: {} | tw={:0.2f}\".format(i, name_clust,\n",
    "                                                          ser_tw_clust[name_clust]),\n",
    "                       zorder=10) # for the labels only\n",
    "            # Showing the clusters centers labels (number)\n",
    "            ax.scatter(dict_proj_centers[proj].iloc[:, 0].loc[name_clust],\n",
    "                        dict_proj_centers[proj].iloc[:, 1].loc[name_clust],\n",
    "                        marker=r\"$ {} $\".format(i),#\n",
    "                        c='k', alpha=1, s=70, zorder=100)\n",
    "            if legend_on:\n",
    "                plt.legend().get_frame().set_alpha(0.3)\n",
    "            if bboxtoanchor is not None:\n",
    "                plt.legend(bbox_to_anchor=bboxtoanchor)\n",
    "            else: \n",
    "                plt.legend()\n",
    "\n",
    "\n",
    "    # b2 - if no ser_clust: only plot points in grey\n",
    "    else:\n",
    "        # Computes the axes for projection without centers\n",
    "        dict_proj = prepare_2D_axes(X, y,\n",
    "                                    proj=[proj],\n",
    "                                    centers_on=False,\n",
    "                                    random_state=random_state)\n",
    "        # Plotting the point in grey\n",
    "        ax.scatter(dict_proj[proj].iloc[:, 0],\n",
    "                   dict_proj[proj].iloc[:, 1],\n",
    "                   s=size, alpha=0.7, c='grey')\n",
    "\n",
    "    title = \"Projection: \" + proj + \"(trustworthiness: {:.2f})\".format(trustw)\\\n",
    "             if title is None else title\n",
    "    ax.set_title(title + \"\\n(trustworthiness: {:.2f})\".format(trustw),\n",
    "                 fontsize=12, fontweight='bold')\n",
    "    ax.set_xlabel('ax 1'), ax.set_ylabel('ax 2')"
   ]
  },
  {
   "cell_type": "markdown",
   "metadata": {},
   "source": [
    "## 3 SHAP values"
   ]
  },
  {
   "cell_type": "code",
   "execution_count": null,
   "metadata": {},
   "outputs": [],
   "source": []
  }
 ],
 "metadata": {
  "kernelspec": {
   "display_name": "Python 3",
   "language": "python",
   "name": "python3"
  },
  "language_info": {
   "codemirror_mode": {
    "name": "ipython",
    "version": 3
   },
   "file_extension": ".py",
   "mimetype": "text/x-python",
   "name": "python",
   "nbconvert_exporter": "python",
   "pygments_lexer": "ipython3",
   "version": "3.8.5"
  },
  "toc": {
   "base_numbering": 1,
   "nav_menu": {},
   "number_sections": false,
   "sideBar": true,
   "skip_h1_title": false,
   "title_cell": "Table of Contents",
   "title_sidebar": "Contents",
   "toc_cell": true,
   "toc_position": {},
   "toc_section_display": true,
   "toc_window_display": true
  },
  "varInspector": {
   "cols": {
    "lenName": 16,
    "lenType": 16,
    "lenVar": 40
   },
   "kernels_config": {
    "python": {
     "delete_cmd_postfix": "",
     "delete_cmd_prefix": "del ",
     "library": "var_list.py",
     "varRefreshCmd": "print(var_dic_list())"
    },
    "r": {
     "delete_cmd_postfix": ") ",
     "delete_cmd_prefix": "rm(",
     "library": "var_list.r",
     "varRefreshCmd": "cat(var_dic_list()) "
    }
   },
   "types_to_exclude": [
    "module",
    "function",
    "builtin_function_or_method",
    "instance",
    "_Feature"
   ],
   "window_display": false
  }
 },
 "nbformat": 4,
 "nbformat_minor": 4
}
